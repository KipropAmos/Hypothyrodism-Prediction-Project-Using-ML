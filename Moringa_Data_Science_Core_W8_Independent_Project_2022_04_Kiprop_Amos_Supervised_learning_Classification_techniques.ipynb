{
  "cells": [
    {
      "cell_type": "markdown",
      "metadata": {
        "id": "CPFzQQzeOqdK"
      },
      "source": [
        "## Defining questions"
      ]
    },
    {
      "cell_type": "markdown",
      "metadata": {
        "id": "9gcyYwW6VoQo"
      },
      "source": [
        "### Business understanding"
      ]
    },
    {
      "cell_type": "markdown",
      "metadata": {
        "id": "ORQ0qyCOVsO0"
      },
      "source": [
        "**Overview**\n",
        "\n",
        "Hypothyroidism (underactive thyroid) is a condition in which your thyroid gland doesn't produce enough of certain crucial hormones. Hypothyroidism may not cause noticeable symptoms in the early stages. Over time, untreated hypothyroidism can cause a number of health problems, such as obesity, joint pain, infertility and heart disease. Accurate thyroid function tests are available to diagnose hypothyroidism. Treatment with synthetic thyroid hormone is usually simple, safe and effective once you and your doctor find the right dose for you.\n",
        "\n",
        "**Symptoms**\n",
        "\n",
        "The signs and symptoms of hypothyroidism vary, depending on the severity of the hormone deficiency. Problems tend to develop slowly, often over a number of years.\n",
        "\n",
        "Hypothyroidism signs and symptoms may include:\n",
        "\n",
        "- Fatigue\n",
        "- Increased sensitivity to cold\n",
        "- Constipation\n",
        "- Dry skin\n",
        "- Weight gain\n",
        "- Puffy face\n",
        "- Hoarseness\n",
        "- Muscle weakness\n",
        "- Elevated blood cholesterol level\n",
        "- Muscle aches, tenderness and stiffness\n",
        "- Pain, stiffness or swelling in your joints\n",
        "- Heavier than normal or irregular menstrual periods\n",
        "- Thinning hair\n",
        "- Slowed heart rate\n",
        "- Depression\n",
        "- Impaired memory\n",
        "- Enlarged thyroid gland (goiter)\n",
        "\n",
        "**Causes**\n",
        "\n",
        "An underactive thyroid (hypothyroidism) is when your thyroid gland does not produce enough of the hormone thyroxine (also called T4).Most cases of an underactive thyroid are caused by the immune system attacking the thyroid gland and damaging it, or by damage that occurs as a result of treatments for thyroid cancer or an overactive thyroid. Worldwide, a lack of dietary iodine is a common cause of an underactive thyroid, because the body needs iodine to make thyroxine. Babies are sometimes born with an underactive thyroid because the thyroid gland does not develop properly in the womb. This is called congenital hypothyroidism and is uncommon. It's usually picked up during routine screening soon after birth.\n",
        "\n",
        "**Diagnosis & Testing**\n",
        "\n",
        "A blood test measuring your hormone levels is the only accurate way to find out whether there's a problem. The test, called a thyroid function test, looks at levels of thyroid-stimulating hormone (TSH) and thyroxine (T4) in the blood.\n",
        "\n",
        "- A high level of TSH and a low level of T4 in the blood could mean you have an underactive thyroid.\n",
        "- If your test results show raised TSH but normal T4, you may be at risk of developing an underactive thyroid in the future.\n",
        "\n",
        "Blood tests are also sometimes used for other measurements, such as checking the level of a hormone called triiodothyronine (T3). However, this is not routinely offered.\n",
        "\n",
        "Less commonly, a thyroid antibody test may be recommended after a thyroid function test.\n",
        "\n",
        "**Tests**\n",
        "\n",
        "1. TSH test\n",
        "\n",
        "Health care professionals usually check the amount of TSH in your blood first. TSH is a hormone made in the pituitary gland that tells the thyroid how much T4 and T3 to make.\n",
        "    - A high TSH level most often means you have hypothyroidism, or an underactive thyroid.\n",
        "    - A low TSH level usually means you have hyperthyroidism, or an overactive thyroid.\n",
        "\n",
        "If the TSH test results are not normal, you will need at least one other test to help find the cause of the problem.\n",
        "\n",
        "2. T4 tests\n",
        "\n",
        "In some cases, high or low T4 levels may not mean you have thyroid problems. If you are pregnant or are taking oral contraceptives NIH external link, your thyroid hormone levels will be higher. Severe illness or using corticosteroids—medicines to treat asthma, arthritis, skin conditions, and other health problems—can lower T4 levels. However: \n",
        "\n",
        "    - A high blood level of T4 may mean you have hyperthyroidism. \n",
        "    - A low level of T4 may mean you have hypothyroidism.\n",
        "\n",
        "3. T3 test\n",
        "\n",
        "If your health care professional thinks you may have hyperthyroidism even though your T4 level is normal, you may have a T3 test to confirm the diagnosis. Sometimes T4 is normal yet T3 is high, so measuring both T4 and T3 levels can be useful in diagnosing hyperthyroidism.\n",
        "\n",
        "4. Thyroid antibody tests\n",
        "\n",
        "Less commonly, a thyroid antibody test may be recommended after a thyroid function test. This is to help diagnose or rule out autoimmune thyroid conditions, such as Hashimoto's thyroiditis. A thyroid antibody test is only likely to be recommended\n",
        "\n"
      ]
    },
    {
      "cell_type": "markdown",
      "metadata": {
        "id": "LX05UXEcdUhK"
      },
      "source": [
        "### Problem statement"
      ]
    },
    {
      "cell_type": "markdown",
      "metadata": {
        "id": "AFNL9mLgdZfy"
      },
      "source": [
        "Thyroid disease is common in reproductive age women and observed at an incidence of approximately 1%. Both hyperthyroidism (increased activity) and hypothyroidism (decreased activity) can be associated with reproductive problems. The most common problem encountered with thyroid disease related to reproduction is a dysfunction in ovulation. Most patients with hypothyroidism will not ovulate and have infertility, but some may ovulate irregularly and conceive spontaneously. If maternal hypothyroidism is untreated in pregnancy, it may have significant adverse effects on the fetus, such as mental and physical disability. Hyperthyroidism can also result in ovulatory dysfunction and eventually infertility, with other adverse effects if left untreated."
      ]
    },
    {
      "cell_type": "markdown",
      "metadata": {
        "id": "lBeUHpOaOqUv"
      },
      "source": [
        "### Specifying the questions"
      ]
    },
    {
      "cell_type": "markdown",
      "metadata": {
        "id": "0_mhg-kjczAm"
      },
      "source": [
        "Nairobi Hospital conducted a clinical camp to test for hypothyroidism. The data collected focused on Thyroid patients. The aim of this project test different classifier models that can determine whether or not the patient's symptoms indicate that the patient has hypothyroid. "
      ]
    },
    {
      "cell_type": "markdown",
      "metadata": {
        "id": "K0Ua7cWeO1lP"
      },
      "source": [
        "### Metrics of success"
      ]
    },
    {
      "cell_type": "markdown",
      "metadata": {
        "id": "wt1gYngEdl7w"
      },
      "source": [
        "Following performance metrics are used to analyze the \n",
        "performance of different ML classifiers.\n",
        "\n",
        "1. **Precision**: It is used to measures the classifier exactness. It is \n",
        "also known as positive predictive value (PPV). \n",
        "\n",
        "2. **Recall**: It measures the classifier completeness. It is also known \n",
        "as sensitivity or hit rate, or true positive rate (TPR). \n",
        "Specificity: It measures the proportion of actual negatives that \n",
        "are correctly identified and also called a true negative rate \n",
        "(TNR). \n",
        "\n",
        "3. **Accuracy**: It measures the fraction of predictions our model got \n",
        "right. It can be calculated as the total number of correct \n",
        "predictions divided by the total number of test cases. \n",
        "\n",
        "4. **F1-Score**: It measures the balance between precision and recall. \n",
        "\n",
        "5. **Class weighted accuracy**: It can be calculated as the ratio of the \n",
        "sum of each class size multiplied by its individual accuracy to \n",
        "the total number of test cases."
      ]
    },
    {
      "cell_type": "markdown",
      "metadata": {
        "id": "UFdeIQ57O377"
      },
      "source": [
        "### Understanding context"
      ]
    },
    {
      "cell_type": "markdown",
      "metadata": {
        "id": "2BWxxxaBeeWb"
      },
      "source": [
        "Nairobi hospital is a medical facility that provides a wide range of medical services to its clients testing of hyperthyrodism included.  Various hormone levels in the body such as T3 and T4 can be tested to determine whether one has or is under risk of developing hyperthyrodism. \n",
        "\n",
        "Hormone levels do not fully affirm that one has or does not have hyperthyrodism.Hormone levels are also affected by certain factors such as medication one is taking at the time, whether one is pregnant or not, and health conditions. This applies particularly to the hormone T4.  \n",
        "\n",
        "Hence a model that can accuartely and precisely whether ones symptoms indicate the individual has hyperthyrodism will be crucial in helping the hospital diagnose it's patients quicker and save on costs.\n"
      ]
    },
    {
      "cell_type": "markdown",
      "metadata": {
        "id": "qTqF0gnUO8VW"
      },
      "source": [
        "### Recording experimental design"
      ]
    },
    {
      "cell_type": "markdown",
      "metadata": {
        "id": "ZZ7J8ORflrM5"
      },
      "source": [
        "1. Understanding data, defining problem statement, specifying the question and metrics of success, understanding the metrics of sucess, recording experimental design and data relevance\n",
        "2. Importing necessary libraries for analysis\n",
        "3. Loading dataset\n",
        "4. Preview dataset\n",
        "5. Tidying dataset\n",
        "6. Univariate analysis\n",
        "7. Bivariate analysis\n",
        "8. Multivariate analysis\n",
        "9. Encoding, checking for multicollinearity, and normality testing\n",
        "10. Random forest classifier model\n",
        "11. Gradient Boosting Classifier\n",
        "12. Adaboosting Classifier\n",
        "13. Hyperparameter optimization and decision tree model seelcetion\n",
        "13. Support Vector machine model\n",
        "14. SVC models using different kernels(Linear, polymomial, rbf)\n",
        "15. Hyperparameter optimization of SVC with kernels and hyper parameters\n",
        "16. Conclusions\n",
        "17. Further questions\n"
      ]
    },
    {
      "cell_type": "markdown",
      "metadata": {
        "id": "bpHNJIlmPAWX"
      },
      "source": [
        "### Data relevance"
      ]
    },
    {
      "cell_type": "markdown",
      "metadata": {
        "id": "h0wU61ULbVUK"
      },
      "source": [
        "Nairobi hospital collected the following information with ahyperthyrodism status with an aim of creating a model that can determine the most important features to look at to determine whether one has hyp0rthyrodism or not:\n",
        "    'status', 'age', 'sex', 'on_thyroxine', 'query_on_thyroxine',\n",
        "    'on_antithyroid_medication', 'thyroid_surgery', 'query_hypothyroid',\n",
        "    'query_hyperthyroid', 'pregnant', 'sick', 'tumor', 'lithium', 'goitre',\n",
        "    'TSH_measured', 'TSH', 'T3_measured', 'T3', 'TT4_measured', 'TT4',\n",
        "    'T4U_measured', 'T4U', 'FTI_measured', 'FTI', 'TBG_measured', 'TBG'\n",
        "\n",
        "1. Status- Gives the information on whether the patient has hypothyrodism or not\n",
        "2. Age- give age of the patient\n",
        "3. sex- specifies a patients gender\n",
        "4. on_thyroxine - Gives information whether patient is using thyroid hormone thyroxine or not\n",
        "5. query_on_thyroxine- Gives information whether patient is using thyroid hormone thyroxine or not\n",
        "6. on_antithyroid_medication - Gives information whether patient is on antithyroid medication or not\n",
        "7. thyroid_surgery - gives information whether a paatient has ever undergone thyroid sugery\n",
        "8. query_hypothyroid' - gives information if one has ever suffered from hypothyrodism\n",
        "9. query_hyperthyroid- gives information if one has ever suffered from hyperthyrodism\n",
        "10. Pregnant- gives information whether the patient is pregnant or not\n",
        "11. sick- gives information on the health status of the patient(sick or not)\n",
        "12. tumor- gives information whether a patient has a tumor or not\n",
        "13. lithium - gives information whether a patient has lithium or not\n",
        "14. goitre- gives information whether a patient suffers from goitre or not\n",
        "15. TSH_measured - gives information whether a patient TSH levels were measured \n",
        "16. TSH - gives information on a patients TSH levels if they were tested\n",
        "17. T3_measured - gives information whether a patient had his/her T3 hormone levels measured\n",
        "18. T3 - gives information on a patients T3 hormone levels\n",
        "19. TT4_measured - gives information whether a patient had his/her T4U hormone levels measured\n",
        "20. TT4 - gives information on a patients TT4 hormone levels\n",
        "21. T4U_measured - gives information whether a patient had his/her T4U hormone levels measured\n",
        "22. T4U - gives information on a patients T4U hormone levels\n",
        "23. FTI_measured - gives information whether a patient had his/her FTI hormone levels measured\n",
        "24. FTI - gives information on a patients FTI hormone levels\n",
        "25. TBG_measured - gives information whether a patient had his/her TBG hormone levels measured\n",
        "26. TBG - gives information on a patients TBG hormone levels\n",
        "\n",
        "\n"
      ]
    },
    {
      "cell_type": "markdown",
      "metadata": {
        "id": "PDwqikx5PJwr"
      },
      "source": [
        "## Importing libraries"
      ]
    },
    {
      "cell_type": "code",
      "execution_count": null,
      "metadata": {
        "id": "kQecGxy2b-Yh"
      },
      "outputs": [],
      "source": [
        "# # installations\n",
        "# # Install missingpy\n",
        "# !pip install missingpy\n",
        "\n",
        "# # Installing dtreeviz\n",
        "# !pip install dtreeviz"
      ]
    },
    {
      "cell_type": "code",
      "execution_count": null,
      "metadata": {
        "id": "LNfD-QnzMEpm"
      },
      "outputs": [],
      "source": [
        "# Importing pandas\n",
        "import pandas as pd\n",
        "\n",
        "# Importing numpy\n",
        "import numpy as np\n",
        "\n",
        "# Importing matplotlib\n",
        "import matplotlib.pyplot as plt\n",
        "\n",
        "# Importing seaborn\n",
        "import seaborn as sns\n",
        "\n",
        "# Importing datetime\n",
        "import datetime\n",
        "\n",
        "# Importing scipy.stats\n",
        "import scipy.stats as stats\n",
        "\n",
        "# Importing scipy\n",
        "import scipy as sp\n",
        "\n",
        "# Importing labelencoder from sklearn preprocessing\n",
        "from sklearn.preprocessing import LabelEncoder\n",
        "\n",
        "# Importing  Metrics from Sklearn\n",
        "from sklearn import metrics\n",
        "\n",
        "# import metrics to compute accuracy\n",
        "from sklearn.metrics import accuracy_score\n",
        "\n",
        "# Importing sklearn neighbors._base\n",
        "import sklearn.neighbors._base\n",
        "\n",
        "# Importing sys\n",
        "import sys\n",
        "\n",
        "# Specifying sys.modules\n",
        "sys.modules['sklearn.neighbors.base'] = sklearn.neighbors._base\n",
        "\n",
        "# Importing missingpy\n",
        "import missingpy\n",
        "\n",
        "# Importing missiforest from missingpy\n",
        "from missingpy import MissForest\n",
        "\n",
        "# importing permutation_importance from sklearn inspection\n",
        "from sklearn.inspection import permutation_importance\n",
        "\n",
        "# importing random forest classifier from sklearn\n",
        "from sklearn.ensemble import RandomForestClassifier\n",
        "\n",
        "# Imorting Decision Tree Classifier from sklearn.tree\n",
        "from sklearn.tree import DecisionTreeClassifier\n",
        "\n",
        "# Importing GradientBoostingRegressor from sklearn ensemble\n",
        "from sklearn.ensemble import GradientBoostingClassifier\n",
        "\n",
        "# Importing AdaBoostClassifier from sklearn.ensemble\n",
        "from sklearn.ensemble import AdaBoostClassifier\n",
        "\n",
        "# Importing train_test_split from sklearn model selection\n",
        "from sklearn.model_selection import train_test_split, GridSearchCV\n",
        "\n",
        "# Importing Suport Vector Classifier module from svm library\n",
        "from sklearn.svm import SVC,LinearSVC\n",
        "\n",
        "# Importing loadtxt from numpy\n",
        "from numpy import loadtxt\n",
        "\n",
        "# Importing XGBClassifier from xgboost\n",
        "from xgboost import XGBClassifier\n",
        "\n",
        "# Importing plot tree from cgboost\n",
        "from xgboost import plot_tree\n"
      ]
    },
    {
      "cell_type": "markdown",
      "metadata": {
        "id": "PK8VwcQxPT1b"
      },
      "source": [
        "## Loading dataset"
      ]
    },
    {
      "cell_type": "code",
      "execution_count": null,
      "metadata": {
        "id": "1ZzKykI-PTPF"
      },
      "outputs": [],
      "source": [
        "# Specifying url\n",
        "url = 'http://bit.ly/hypothyroid_data'\n",
        "\n",
        "# Loading data\n",
        "hypothyroid_df = pd.read_csv(url)"
      ]
    },
    {
      "cell_type": "markdown",
      "metadata": {
        "id": "fsnvlE-dPweb"
      },
      "source": [
        "## Preview dataset"
      ]
    },
    {
      "cell_type": "code",
      "execution_count": null,
      "metadata": {
        "colab": {
          "base_uri": "https://localhost:8080/"
        },
        "id": "i2GxY2uNP11n",
        "outputId": "4e9b7328-9e16-49a0-dc6d-f3477bd57c9f"
      },
      "outputs": [
        {
          "output_type": "execute_result",
          "data": {
            "text/plain": [
              "        status age sex on_thyroxine query_on_thyroxine  \\\n",
              "0  hypothyroid  72   M            f                  f   \n",
              "1  hypothyroid  15   F            t                  f   \n",
              "2  hypothyroid  24   M            f                  f   \n",
              "3  hypothyroid  24   F            f                  f   \n",
              "4  hypothyroid  77   M            f                  f   \n",
              "\n",
              "  on_antithyroid_medication thyroid_surgery query_hypothyroid  \\\n",
              "0                         f               f                 f   \n",
              "1                         f               f                 f   \n",
              "2                         f               f                 f   \n",
              "3                         f               f                 f   \n",
              "4                         f               f                 f   \n",
              "\n",
              "  query_hyperthyroid pregnant  ... T3_measured    T3 TT4_measured TT4  \\\n",
              "0                  f        f  ...           y  0.60            y  15   \n",
              "1                  f        f  ...           y  1.70            y  19   \n",
              "2                  f        f  ...           y  0.20            y   4   \n",
              "3                  f        f  ...           y  0.40            y   6   \n",
              "4                  f        f  ...           y  1.20            y  57   \n",
              "\n",
              "  T4U_measured   T4U FTI_measured FTI TBG_measured TBG  \n",
              "0            y  1.48            y  10            n   ?  \n",
              "1            y  1.13            y  17            n   ?  \n",
              "2            y     1            y   0            n   ?  \n",
              "3            y  1.04            y   6            n   ?  \n",
              "4            y  1.28            y  44            n   ?  \n",
              "\n",
              "[5 rows x 26 columns]"
            ],
            "text/html": [
              "\n",
              "  <div id=\"df-e8e909d6-8772-43a2-af98-f467b821f01e\">\n",
              "    <div class=\"colab-df-container\">\n",
              "      <div>\n",
              "<style scoped>\n",
              "    .dataframe tbody tr th:only-of-type {\n",
              "        vertical-align: middle;\n",
              "    }\n",
              "\n",
              "    .dataframe tbody tr th {\n",
              "        vertical-align: top;\n",
              "    }\n",
              "\n",
              "    .dataframe thead th {\n",
              "        text-align: right;\n",
              "    }\n",
              "</style>\n",
              "<table border=\"1\" class=\"dataframe\">\n",
              "  <thead>\n",
              "    <tr style=\"text-align: right;\">\n",
              "      <th></th>\n",
              "      <th>status</th>\n",
              "      <th>age</th>\n",
              "      <th>sex</th>\n",
              "      <th>on_thyroxine</th>\n",
              "      <th>query_on_thyroxine</th>\n",
              "      <th>on_antithyroid_medication</th>\n",
              "      <th>thyroid_surgery</th>\n",
              "      <th>query_hypothyroid</th>\n",
              "      <th>query_hyperthyroid</th>\n",
              "      <th>pregnant</th>\n",
              "      <th>...</th>\n",
              "      <th>T3_measured</th>\n",
              "      <th>T3</th>\n",
              "      <th>TT4_measured</th>\n",
              "      <th>TT4</th>\n",
              "      <th>T4U_measured</th>\n",
              "      <th>T4U</th>\n",
              "      <th>FTI_measured</th>\n",
              "      <th>FTI</th>\n",
              "      <th>TBG_measured</th>\n",
              "      <th>TBG</th>\n",
              "    </tr>\n",
              "  </thead>\n",
              "  <tbody>\n",
              "    <tr>\n",
              "      <th>0</th>\n",
              "      <td>hypothyroid</td>\n",
              "      <td>72</td>\n",
              "      <td>M</td>\n",
              "      <td>f</td>\n",
              "      <td>f</td>\n",
              "      <td>f</td>\n",
              "      <td>f</td>\n",
              "      <td>f</td>\n",
              "      <td>f</td>\n",
              "      <td>f</td>\n",
              "      <td>...</td>\n",
              "      <td>y</td>\n",
              "      <td>0.60</td>\n",
              "      <td>y</td>\n",
              "      <td>15</td>\n",
              "      <td>y</td>\n",
              "      <td>1.48</td>\n",
              "      <td>y</td>\n",
              "      <td>10</td>\n",
              "      <td>n</td>\n",
              "      <td>?</td>\n",
              "    </tr>\n",
              "    <tr>\n",
              "      <th>1</th>\n",
              "      <td>hypothyroid</td>\n",
              "      <td>15</td>\n",
              "      <td>F</td>\n",
              "      <td>t</td>\n",
              "      <td>f</td>\n",
              "      <td>f</td>\n",
              "      <td>f</td>\n",
              "      <td>f</td>\n",
              "      <td>f</td>\n",
              "      <td>f</td>\n",
              "      <td>...</td>\n",
              "      <td>y</td>\n",
              "      <td>1.70</td>\n",
              "      <td>y</td>\n",
              "      <td>19</td>\n",
              "      <td>y</td>\n",
              "      <td>1.13</td>\n",
              "      <td>y</td>\n",
              "      <td>17</td>\n",
              "      <td>n</td>\n",
              "      <td>?</td>\n",
              "    </tr>\n",
              "    <tr>\n",
              "      <th>2</th>\n",
              "      <td>hypothyroid</td>\n",
              "      <td>24</td>\n",
              "      <td>M</td>\n",
              "      <td>f</td>\n",
              "      <td>f</td>\n",
              "      <td>f</td>\n",
              "      <td>f</td>\n",
              "      <td>f</td>\n",
              "      <td>f</td>\n",
              "      <td>f</td>\n",
              "      <td>...</td>\n",
              "      <td>y</td>\n",
              "      <td>0.20</td>\n",
              "      <td>y</td>\n",
              "      <td>4</td>\n",
              "      <td>y</td>\n",
              "      <td>1</td>\n",
              "      <td>y</td>\n",
              "      <td>0</td>\n",
              "      <td>n</td>\n",
              "      <td>?</td>\n",
              "    </tr>\n",
              "    <tr>\n",
              "      <th>3</th>\n",
              "      <td>hypothyroid</td>\n",
              "      <td>24</td>\n",
              "      <td>F</td>\n",
              "      <td>f</td>\n",
              "      <td>f</td>\n",
              "      <td>f</td>\n",
              "      <td>f</td>\n",
              "      <td>f</td>\n",
              "      <td>f</td>\n",
              "      <td>f</td>\n",
              "      <td>...</td>\n",
              "      <td>y</td>\n",
              "      <td>0.40</td>\n",
              "      <td>y</td>\n",
              "      <td>6</td>\n",
              "      <td>y</td>\n",
              "      <td>1.04</td>\n",
              "      <td>y</td>\n",
              "      <td>6</td>\n",
              "      <td>n</td>\n",
              "      <td>?</td>\n",
              "    </tr>\n",
              "    <tr>\n",
              "      <th>4</th>\n",
              "      <td>hypothyroid</td>\n",
              "      <td>77</td>\n",
              "      <td>M</td>\n",
              "      <td>f</td>\n",
              "      <td>f</td>\n",
              "      <td>f</td>\n",
              "      <td>f</td>\n",
              "      <td>f</td>\n",
              "      <td>f</td>\n",
              "      <td>f</td>\n",
              "      <td>...</td>\n",
              "      <td>y</td>\n",
              "      <td>1.20</td>\n",
              "      <td>y</td>\n",
              "      <td>57</td>\n",
              "      <td>y</td>\n",
              "      <td>1.28</td>\n",
              "      <td>y</td>\n",
              "      <td>44</td>\n",
              "      <td>n</td>\n",
              "      <td>?</td>\n",
              "    </tr>\n",
              "  </tbody>\n",
              "</table>\n",
              "<p>5 rows × 26 columns</p>\n",
              "</div>\n",
              "      <button class=\"colab-df-convert\" onclick=\"convertToInteractive('df-e8e909d6-8772-43a2-af98-f467b821f01e')\"\n",
              "              title=\"Convert this dataframe to an interactive table.\"\n",
              "              style=\"display:none;\">\n",
              "        \n",
              "  <svg xmlns=\"http://www.w3.org/2000/svg\" height=\"24px\"viewBox=\"0 0 24 24\"\n",
              "       width=\"24px\">\n",
              "    <path d=\"M0 0h24v24H0V0z\" fill=\"none\"/>\n",
              "    <path d=\"M18.56 5.44l.94 2.06.94-2.06 2.06-.94-2.06-.94-.94-2.06-.94 2.06-2.06.94zm-11 1L8.5 8.5l.94-2.06 2.06-.94-2.06-.94L8.5 2.5l-.94 2.06-2.06.94zm10 10l.94 2.06.94-2.06 2.06-.94-2.06-.94-.94-2.06-.94 2.06-2.06.94z\"/><path d=\"M17.41 7.96l-1.37-1.37c-.4-.4-.92-.59-1.43-.59-.52 0-1.04.2-1.43.59L10.3 9.45l-7.72 7.72c-.78.78-.78 2.05 0 2.83L4 21.41c.39.39.9.59 1.41.59.51 0 1.02-.2 1.41-.59l7.78-7.78 2.81-2.81c.8-.78.8-2.07 0-2.86zM5.41 20L4 18.59l7.72-7.72 1.47 1.35L5.41 20z\"/>\n",
              "  </svg>\n",
              "      </button>\n",
              "      \n",
              "  <style>\n",
              "    .colab-df-container {\n",
              "      display:flex;\n",
              "      flex-wrap:wrap;\n",
              "      gap: 12px;\n",
              "    }\n",
              "\n",
              "    .colab-df-convert {\n",
              "      background-color: #E8F0FE;\n",
              "      border: none;\n",
              "      border-radius: 50%;\n",
              "      cursor: pointer;\n",
              "      display: none;\n",
              "      fill: #1967D2;\n",
              "      height: 32px;\n",
              "      padding: 0 0 0 0;\n",
              "      width: 32px;\n",
              "    }\n",
              "\n",
              "    .colab-df-convert:hover {\n",
              "      background-color: #E2EBFA;\n",
              "      box-shadow: 0px 1px 2px rgba(60, 64, 67, 0.3), 0px 1px 3px 1px rgba(60, 64, 67, 0.15);\n",
              "      fill: #174EA6;\n",
              "    }\n",
              "\n",
              "    [theme=dark] .colab-df-convert {\n",
              "      background-color: #3B4455;\n",
              "      fill: #D2E3FC;\n",
              "    }\n",
              "\n",
              "    [theme=dark] .colab-df-convert:hover {\n",
              "      background-color: #434B5C;\n",
              "      box-shadow: 0px 1px 3px 1px rgba(0, 0, 0, 0.15);\n",
              "      filter: drop-shadow(0px 1px 2px rgba(0, 0, 0, 0.3));\n",
              "      fill: #FFFFFF;\n",
              "    }\n",
              "  </style>\n",
              "\n",
              "      <script>\n",
              "        const buttonEl =\n",
              "          document.querySelector('#df-e8e909d6-8772-43a2-af98-f467b821f01e button.colab-df-convert');\n",
              "        buttonEl.style.display =\n",
              "          google.colab.kernel.accessAllowed ? 'block' : 'none';\n",
              "\n",
              "        async function convertToInteractive(key) {\n",
              "          const element = document.querySelector('#df-e8e909d6-8772-43a2-af98-f467b821f01e');\n",
              "          const dataTable =\n",
              "            await google.colab.kernel.invokeFunction('convertToInteractive',\n",
              "                                                     [key], {});\n",
              "          if (!dataTable) return;\n",
              "\n",
              "          const docLinkHtml = 'Like what you see? Visit the ' +\n",
              "            '<a target=\"_blank\" href=https://colab.research.google.com/notebooks/data_table.ipynb>data table notebook</a>'\n",
              "            + ' to learn more about interactive tables.';\n",
              "          element.innerHTML = '';\n",
              "          dataTable['output_type'] = 'display_data';\n",
              "          await google.colab.output.renderOutput(dataTable, element);\n",
              "          const docLink = document.createElement('div');\n",
              "          docLink.innerHTML = docLinkHtml;\n",
              "          element.appendChild(docLink);\n",
              "        }\n",
              "      </script>\n",
              "    </div>\n",
              "  </div>\n",
              "  "
            ]
          },
          "metadata": {},
          "execution_count": 4
        }
      ],
      "source": [
        "# Preview first five records\n",
        "hypothyroid_df.head()"
      ]
    },
    {
      "cell_type": "code",
      "execution_count": null,
      "metadata": {
        "colab": {
          "base_uri": "https://localhost:8080/"
        },
        "id": "c2uC0VW1P75T",
        "outputId": "7359dcf3-7213-4ad7-d413-ca12b656936d"
      },
      "outputs": [
        {
          "output_type": "execute_result",
          "data": {
            "text/plain": [
              "        status age sex on_thyroxine query_on_thyroxine  \\\n",
              "3158  negative  58   F            f                  f   \n",
              "3159  negative  29   F            f                  f   \n",
              "3160  negative  77   M            f                  f   \n",
              "3161  negative  74   F            f                  f   \n",
              "3162  negative  56   F            t                  f   \n",
              "\n",
              "     on_antithyroid_medication thyroid_surgery query_hypothyroid  \\\n",
              "3158                         f               f                 f   \n",
              "3159                         f               f                 f   \n",
              "3160                         f               f                 f   \n",
              "3161                         f               f                 f   \n",
              "3162                         f               f                 f   \n",
              "\n",
              "     query_hyperthyroid pregnant  ... T3_measured    T3 TT4_measured  TT4  \\\n",
              "3158                  f        f  ...           y  1.70            y   86   \n",
              "3159                  f        f  ...           y  1.80            y   99   \n",
              "3160                  f        f  ...           y  0.60            y   71   \n",
              "3161                  f        f  ...           y  0.10            y   65   \n",
              "3162                  f        f  ...           y  1.80            y  139   \n",
              "\n",
              "     T4U_measured   T4U FTI_measured  FTI TBG_measured TBG  \n",
              "3158            y  0.91            y   95            n   ?  \n",
              "3159            y  1.01            y   98            n   ?  \n",
              "3160            y  0.68            y  104            n   ?  \n",
              "3161            y  0.48            y  137            n   ?  \n",
              "3162            y  0.97            y  143            n   ?  \n",
              "\n",
              "[5 rows x 26 columns]"
            ],
            "text/html": [
              "\n",
              "  <div id=\"df-d73b44d4-4036-4952-9127-c9e5e429a837\">\n",
              "    <div class=\"colab-df-container\">\n",
              "      <div>\n",
              "<style scoped>\n",
              "    .dataframe tbody tr th:only-of-type {\n",
              "        vertical-align: middle;\n",
              "    }\n",
              "\n",
              "    .dataframe tbody tr th {\n",
              "        vertical-align: top;\n",
              "    }\n",
              "\n",
              "    .dataframe thead th {\n",
              "        text-align: right;\n",
              "    }\n",
              "</style>\n",
              "<table border=\"1\" class=\"dataframe\">\n",
              "  <thead>\n",
              "    <tr style=\"text-align: right;\">\n",
              "      <th></th>\n",
              "      <th>status</th>\n",
              "      <th>age</th>\n",
              "      <th>sex</th>\n",
              "      <th>on_thyroxine</th>\n",
              "      <th>query_on_thyroxine</th>\n",
              "      <th>on_antithyroid_medication</th>\n",
              "      <th>thyroid_surgery</th>\n",
              "      <th>query_hypothyroid</th>\n",
              "      <th>query_hyperthyroid</th>\n",
              "      <th>pregnant</th>\n",
              "      <th>...</th>\n",
              "      <th>T3_measured</th>\n",
              "      <th>T3</th>\n",
              "      <th>TT4_measured</th>\n",
              "      <th>TT4</th>\n",
              "      <th>T4U_measured</th>\n",
              "      <th>T4U</th>\n",
              "      <th>FTI_measured</th>\n",
              "      <th>FTI</th>\n",
              "      <th>TBG_measured</th>\n",
              "      <th>TBG</th>\n",
              "    </tr>\n",
              "  </thead>\n",
              "  <tbody>\n",
              "    <tr>\n",
              "      <th>3158</th>\n",
              "      <td>negative</td>\n",
              "      <td>58</td>\n",
              "      <td>F</td>\n",
              "      <td>f</td>\n",
              "      <td>f</td>\n",
              "      <td>f</td>\n",
              "      <td>f</td>\n",
              "      <td>f</td>\n",
              "      <td>f</td>\n",
              "      <td>f</td>\n",
              "      <td>...</td>\n",
              "      <td>y</td>\n",
              "      <td>1.70</td>\n",
              "      <td>y</td>\n",
              "      <td>86</td>\n",
              "      <td>y</td>\n",
              "      <td>0.91</td>\n",
              "      <td>y</td>\n",
              "      <td>95</td>\n",
              "      <td>n</td>\n",
              "      <td>?</td>\n",
              "    </tr>\n",
              "    <tr>\n",
              "      <th>3159</th>\n",
              "      <td>negative</td>\n",
              "      <td>29</td>\n",
              "      <td>F</td>\n",
              "      <td>f</td>\n",
              "      <td>f</td>\n",
              "      <td>f</td>\n",
              "      <td>f</td>\n",
              "      <td>f</td>\n",
              "      <td>f</td>\n",
              "      <td>f</td>\n",
              "      <td>...</td>\n",
              "      <td>y</td>\n",
              "      <td>1.80</td>\n",
              "      <td>y</td>\n",
              "      <td>99</td>\n",
              "      <td>y</td>\n",
              "      <td>1.01</td>\n",
              "      <td>y</td>\n",
              "      <td>98</td>\n",
              "      <td>n</td>\n",
              "      <td>?</td>\n",
              "    </tr>\n",
              "    <tr>\n",
              "      <th>3160</th>\n",
              "      <td>negative</td>\n",
              "      <td>77</td>\n",
              "      <td>M</td>\n",
              "      <td>f</td>\n",
              "      <td>f</td>\n",
              "      <td>f</td>\n",
              "      <td>f</td>\n",
              "      <td>f</td>\n",
              "      <td>f</td>\n",
              "      <td>f</td>\n",
              "      <td>...</td>\n",
              "      <td>y</td>\n",
              "      <td>0.60</td>\n",
              "      <td>y</td>\n",
              "      <td>71</td>\n",
              "      <td>y</td>\n",
              "      <td>0.68</td>\n",
              "      <td>y</td>\n",
              "      <td>104</td>\n",
              "      <td>n</td>\n",
              "      <td>?</td>\n",
              "    </tr>\n",
              "    <tr>\n",
              "      <th>3161</th>\n",
              "      <td>negative</td>\n",
              "      <td>74</td>\n",
              "      <td>F</td>\n",
              "      <td>f</td>\n",
              "      <td>f</td>\n",
              "      <td>f</td>\n",
              "      <td>f</td>\n",
              "      <td>f</td>\n",
              "      <td>f</td>\n",
              "      <td>f</td>\n",
              "      <td>...</td>\n",
              "      <td>y</td>\n",
              "      <td>0.10</td>\n",
              "      <td>y</td>\n",
              "      <td>65</td>\n",
              "      <td>y</td>\n",
              "      <td>0.48</td>\n",
              "      <td>y</td>\n",
              "      <td>137</td>\n",
              "      <td>n</td>\n",
              "      <td>?</td>\n",
              "    </tr>\n",
              "    <tr>\n",
              "      <th>3162</th>\n",
              "      <td>negative</td>\n",
              "      <td>56</td>\n",
              "      <td>F</td>\n",
              "      <td>t</td>\n",
              "      <td>f</td>\n",
              "      <td>f</td>\n",
              "      <td>f</td>\n",
              "      <td>f</td>\n",
              "      <td>f</td>\n",
              "      <td>f</td>\n",
              "      <td>...</td>\n",
              "      <td>y</td>\n",
              "      <td>1.80</td>\n",
              "      <td>y</td>\n",
              "      <td>139</td>\n",
              "      <td>y</td>\n",
              "      <td>0.97</td>\n",
              "      <td>y</td>\n",
              "      <td>143</td>\n",
              "      <td>n</td>\n",
              "      <td>?</td>\n",
              "    </tr>\n",
              "  </tbody>\n",
              "</table>\n",
              "<p>5 rows × 26 columns</p>\n",
              "</div>\n",
              "      <button class=\"colab-df-convert\" onclick=\"convertToInteractive('df-d73b44d4-4036-4952-9127-c9e5e429a837')\"\n",
              "              title=\"Convert this dataframe to an interactive table.\"\n",
              "              style=\"display:none;\">\n",
              "        \n",
              "  <svg xmlns=\"http://www.w3.org/2000/svg\" height=\"24px\"viewBox=\"0 0 24 24\"\n",
              "       width=\"24px\">\n",
              "    <path d=\"M0 0h24v24H0V0z\" fill=\"none\"/>\n",
              "    <path d=\"M18.56 5.44l.94 2.06.94-2.06 2.06-.94-2.06-.94-.94-2.06-.94 2.06-2.06.94zm-11 1L8.5 8.5l.94-2.06 2.06-.94-2.06-.94L8.5 2.5l-.94 2.06-2.06.94zm10 10l.94 2.06.94-2.06 2.06-.94-2.06-.94-.94-2.06-.94 2.06-2.06.94z\"/><path d=\"M17.41 7.96l-1.37-1.37c-.4-.4-.92-.59-1.43-.59-.52 0-1.04.2-1.43.59L10.3 9.45l-7.72 7.72c-.78.78-.78 2.05 0 2.83L4 21.41c.39.39.9.59 1.41.59.51 0 1.02-.2 1.41-.59l7.78-7.78 2.81-2.81c.8-.78.8-2.07 0-2.86zM5.41 20L4 18.59l7.72-7.72 1.47 1.35L5.41 20z\"/>\n",
              "  </svg>\n",
              "      </button>\n",
              "      \n",
              "  <style>\n",
              "    .colab-df-container {\n",
              "      display:flex;\n",
              "      flex-wrap:wrap;\n",
              "      gap: 12px;\n",
              "    }\n",
              "\n",
              "    .colab-df-convert {\n",
              "      background-color: #E8F0FE;\n",
              "      border: none;\n",
              "      border-radius: 50%;\n",
              "      cursor: pointer;\n",
              "      display: none;\n",
              "      fill: #1967D2;\n",
              "      height: 32px;\n",
              "      padding: 0 0 0 0;\n",
              "      width: 32px;\n",
              "    }\n",
              "\n",
              "    .colab-df-convert:hover {\n",
              "      background-color: #E2EBFA;\n",
              "      box-shadow: 0px 1px 2px rgba(60, 64, 67, 0.3), 0px 1px 3px 1px rgba(60, 64, 67, 0.15);\n",
              "      fill: #174EA6;\n",
              "    }\n",
              "\n",
              "    [theme=dark] .colab-df-convert {\n",
              "      background-color: #3B4455;\n",
              "      fill: #D2E3FC;\n",
              "    }\n",
              "\n",
              "    [theme=dark] .colab-df-convert:hover {\n",
              "      background-color: #434B5C;\n",
              "      box-shadow: 0px 1px 3px 1px rgba(0, 0, 0, 0.15);\n",
              "      filter: drop-shadow(0px 1px 2px rgba(0, 0, 0, 0.3));\n",
              "      fill: #FFFFFF;\n",
              "    }\n",
              "  </style>\n",
              "\n",
              "      <script>\n",
              "        const buttonEl =\n",
              "          document.querySelector('#df-d73b44d4-4036-4952-9127-c9e5e429a837 button.colab-df-convert');\n",
              "        buttonEl.style.display =\n",
              "          google.colab.kernel.accessAllowed ? 'block' : 'none';\n",
              "\n",
              "        async function convertToInteractive(key) {\n",
              "          const element = document.querySelector('#df-d73b44d4-4036-4952-9127-c9e5e429a837');\n",
              "          const dataTable =\n",
              "            await google.colab.kernel.invokeFunction('convertToInteractive',\n",
              "                                                     [key], {});\n",
              "          if (!dataTable) return;\n",
              "\n",
              "          const docLinkHtml = 'Like what you see? Visit the ' +\n",
              "            '<a target=\"_blank\" href=https://colab.research.google.com/notebooks/data_table.ipynb>data table notebook</a>'\n",
              "            + ' to learn more about interactive tables.';\n",
              "          element.innerHTML = '';\n",
              "          dataTable['output_type'] = 'display_data';\n",
              "          await google.colab.output.renderOutput(dataTable, element);\n",
              "          const docLink = document.createElement('div');\n",
              "          docLink.innerHTML = docLinkHtml;\n",
              "          element.appendChild(docLink);\n",
              "        }\n",
              "      </script>\n",
              "    </div>\n",
              "  </div>\n",
              "  "
            ]
          },
          "metadata": {},
          "execution_count": 5
        }
      ],
      "source": [
        "# Preview last five records\n",
        "hypothyroid_df.tail()"
      ]
    },
    {
      "cell_type": "code",
      "execution_count": null,
      "metadata": {
        "colab": {
          "base_uri": "https://localhost:8080/"
        },
        "id": "9EQ33QhoP-5M",
        "outputId": "536ae365-ec8e-439b-e1a0-51fa2773f8a2"
      },
      "outputs": [
        {
          "output_type": "stream",
          "name": "stdout",
          "text": [
            "<class 'pandas.core.frame.DataFrame'>\n",
            "RangeIndex: 3163 entries, 0 to 3162\n",
            "Data columns (total 26 columns):\n",
            " #   Column                     Non-Null Count  Dtype \n",
            "---  ------                     --------------  ----- \n",
            " 0   status                     3163 non-null   object\n",
            " 1   age                        3163 non-null   object\n",
            " 2   sex                        3163 non-null   object\n",
            " 3   on_thyroxine               3163 non-null   object\n",
            " 4   query_on_thyroxine         3163 non-null   object\n",
            " 5   on_antithyroid_medication  3163 non-null   object\n",
            " 6   thyroid_surgery            3163 non-null   object\n",
            " 7   query_hypothyroid          3163 non-null   object\n",
            " 8   query_hyperthyroid         3163 non-null   object\n",
            " 9   pregnant                   3163 non-null   object\n",
            " 10  sick                       3163 non-null   object\n",
            " 11  tumor                      3163 non-null   object\n",
            " 12  lithium                    3163 non-null   object\n",
            " 13  goitre                     3163 non-null   object\n",
            " 14  TSH_measured               3163 non-null   object\n",
            " 15  TSH                        3163 non-null   object\n",
            " 16  T3_measured                3163 non-null   object\n",
            " 17  T3                         3163 non-null   object\n",
            " 18  TT4_measured               3163 non-null   object\n",
            " 19  TT4                        3163 non-null   object\n",
            " 20  T4U_measured               3163 non-null   object\n",
            " 21  T4U                        3163 non-null   object\n",
            " 22  FTI_measured               3163 non-null   object\n",
            " 23  FTI                        3163 non-null   object\n",
            " 24  TBG_measured               3163 non-null   object\n",
            " 25  TBG                        3163 non-null   object\n",
            "dtypes: object(26)\n",
            "memory usage: 642.6+ KB\n",
            "Most columns have inappropiate data types. \n"
          ]
        }
      ],
      "source": [
        "# Preview column info\n",
        "hypothyroid_df.info()\n",
        "\n",
        "print('Most columns have inappropiate data types. ')"
      ]
    },
    {
      "cell_type": "code",
      "execution_count": null,
      "metadata": {
        "colab": {
          "base_uri": "https://localhost:8080/"
        },
        "id": "PqYm9TH6QHoV",
        "outputId": "f2feed8f-65d8-418c-ca33-44006dfdcd28"
      },
      "outputs": [
        {
          "output_type": "stream",
          "name": "stdout",
          "text": [
            "Some columns need to be appropiately renamed\n"
          ]
        }
      ],
      "source": [
        "# Preview column names\n",
        "hypothyroid_df.columns\n",
        "\n",
        "print('Some columns need to be appropiately renamed')"
      ]
    },
    {
      "cell_type": "code",
      "execution_count": null,
      "metadata": {
        "colab": {
          "base_uri": "https://localhost:8080/"
        },
        "id": "RePp2EvcUB_B",
        "outputId": "3eba024e-bfd7-482c-cb05-80c1c7b32135"
      },
      "outputs": [
        {
          "output_type": "stream",
          "name": "stdout",
          "text": [
            "\n",
            "The rankings dataset has the shape: (3163, 26), \n",
            "while the dataset containing the results has the shape: \n",
            "(3163, 26) rows and columns respectively\n",
            "  \n"
          ]
        }
      ],
      "source": [
        "# Shape of dataframe\n",
        "# Shape of rankings and results dataframe\n",
        "print (f'''\n",
        "The rankings dataset has the shape: {hypothyroid_df.shape}, \n",
        "while the dataset containing the results has the shape: \n",
        "{hypothyroid_df.shape} rows and columns respectively\n",
        "  ''')"
      ]
    },
    {
      "cell_type": "code",
      "execution_count": null,
      "metadata": {
        "colab": {
          "base_uri": "https://localhost:8080/"
        },
        "id": "KhinD91ppQjC",
        "outputId": "36774182-ce55-4478-868e-53cfcef709be"
      },
      "outputs": [
        {
          "output_type": "stream",
          "name": "stdout",
          "text": [
            "['72' '15' '24' '77' '85' '64' '20' '42' '69' '75' '53' '59' '68' '50'\n",
            " '78' '65' '28' '43' '40' '84' '?' '83' '63' '73' '36' '27' '48' '71' '60'\n",
            " '34' '79' '62' '74' '32' '41' '70' '29' '5' '58' '35' '51' '22' '16' '44'\n",
            " '39' '47' '18' '17' '88' '56' '30' '45' '66' '52' '54' '80' '33' '38'\n",
            " '92' '67' '46' '13' '89' '61' '49' '26' '57' '31' '90' '81' '25' '37'\n",
            " '76' '87' '23' '55' '86' '98' '21' '97' '1' '6' '14' '82' '11' '19' '9'\n",
            " '12' '10' '8' '7' '4' '93']\n",
            "\n",
            "An anormally is present in age records ('?'). \n",
            "Some records have no age record for test subject\n",
            "\n"
          ]
        }
      ],
      "source": [
        "# Preview unique values in age column\n",
        "print(hypothyroid_df['age'].unique())\n",
        "\n",
        "# print\n",
        "print('''\n",
        "An anormally is present in age records ('?'). \n",
        "Some records have no age record for test subject\n",
        "''')"
      ]
    },
    {
      "cell_type": "code",
      "execution_count": null,
      "metadata": {
        "colab": {
          "base_uri": "https://localhost:8080/"
        },
        "id": "yickBGVIp-_w",
        "outputId": "664b8d6e-1740-4c65-fa56-6e5100c4b386"
      },
      "outputs": [
        {
          "output_type": "stream",
          "name": "stdout",
          "text": [
            "\n",
            "No unique pattern identified with records with missing age values. \n",
            "The missing record indicate the age of the test subject was not recorded.\n",
            "The record shall have appropiate values imputated\n",
            "\n"
          ]
        },
        {
          "output_type": "execute_result",
          "data": {
            "text/plain": [
              "         status age sex on_thyroxine query_on_thyroxine  \\\n",
              "26  hypothyroid   ?   M            f                  f   \n",
              "44  hypothyroid   ?   F            f                  f   \n",
              "50  hypothyroid   ?   F            f                  f   \n",
              "59  hypothyroid   ?   ?            f                  f   \n",
              "61  hypothyroid   ?   F            f                  f   \n",
              "\n",
              "   on_antithyroid_medication thyroid_surgery query_hypothyroid  \\\n",
              "26                         f               t                 f   \n",
              "44                         f               f                 f   \n",
              "50                         f               f                 f   \n",
              "59                         f               f                 f   \n",
              "61                         f               f                 f   \n",
              "\n",
              "   query_hyperthyroid pregnant  ... T3_measured    T3 TT4_measured   TT4  \\\n",
              "26                  f        f  ...           y     1            y    32   \n",
              "44                  f        f  ...           y  1.40            y    78   \n",
              "50                  f        f  ...           y  0.40            y  9.70   \n",
              "59                  f        f  ...           y  0.60            y    21   \n",
              "61                  f        f  ...           y  0.30            y    18   \n",
              "\n",
              "   T4U_measured   T4U FTI_measured   FTI TBG_measured TBG  \n",
              "26            y  0.78            y    41            n   ?  \n",
              "44            y  0.98            y    80            n   ?  \n",
              "50            y  1.46            y  6.60            n   ?  \n",
              "59            y  0.97            y    22            n   ?  \n",
              "61            y  1.06            y    17            n   ?  \n",
              "\n",
              "[5 rows x 26 columns]"
            ],
            "text/html": [
              "\n",
              "  <div id=\"df-0f0e14f1-9b81-44bf-80f3-e71a5b9bc944\">\n",
              "    <div class=\"colab-df-container\">\n",
              "      <div>\n",
              "<style scoped>\n",
              "    .dataframe tbody tr th:only-of-type {\n",
              "        vertical-align: middle;\n",
              "    }\n",
              "\n",
              "    .dataframe tbody tr th {\n",
              "        vertical-align: top;\n",
              "    }\n",
              "\n",
              "    .dataframe thead th {\n",
              "        text-align: right;\n",
              "    }\n",
              "</style>\n",
              "<table border=\"1\" class=\"dataframe\">\n",
              "  <thead>\n",
              "    <tr style=\"text-align: right;\">\n",
              "      <th></th>\n",
              "      <th>status</th>\n",
              "      <th>age</th>\n",
              "      <th>sex</th>\n",
              "      <th>on_thyroxine</th>\n",
              "      <th>query_on_thyroxine</th>\n",
              "      <th>on_antithyroid_medication</th>\n",
              "      <th>thyroid_surgery</th>\n",
              "      <th>query_hypothyroid</th>\n",
              "      <th>query_hyperthyroid</th>\n",
              "      <th>pregnant</th>\n",
              "      <th>...</th>\n",
              "      <th>T3_measured</th>\n",
              "      <th>T3</th>\n",
              "      <th>TT4_measured</th>\n",
              "      <th>TT4</th>\n",
              "      <th>T4U_measured</th>\n",
              "      <th>T4U</th>\n",
              "      <th>FTI_measured</th>\n",
              "      <th>FTI</th>\n",
              "      <th>TBG_measured</th>\n",
              "      <th>TBG</th>\n",
              "    </tr>\n",
              "  </thead>\n",
              "  <tbody>\n",
              "    <tr>\n",
              "      <th>26</th>\n",
              "      <td>hypothyroid</td>\n",
              "      <td>?</td>\n",
              "      <td>M</td>\n",
              "      <td>f</td>\n",
              "      <td>f</td>\n",
              "      <td>f</td>\n",
              "      <td>t</td>\n",
              "      <td>f</td>\n",
              "      <td>f</td>\n",
              "      <td>f</td>\n",
              "      <td>...</td>\n",
              "      <td>y</td>\n",
              "      <td>1</td>\n",
              "      <td>y</td>\n",
              "      <td>32</td>\n",
              "      <td>y</td>\n",
              "      <td>0.78</td>\n",
              "      <td>y</td>\n",
              "      <td>41</td>\n",
              "      <td>n</td>\n",
              "      <td>?</td>\n",
              "    </tr>\n",
              "    <tr>\n",
              "      <th>44</th>\n",
              "      <td>hypothyroid</td>\n",
              "      <td>?</td>\n",
              "      <td>F</td>\n",
              "      <td>f</td>\n",
              "      <td>f</td>\n",
              "      <td>f</td>\n",
              "      <td>f</td>\n",
              "      <td>f</td>\n",
              "      <td>f</td>\n",
              "      <td>f</td>\n",
              "      <td>...</td>\n",
              "      <td>y</td>\n",
              "      <td>1.40</td>\n",
              "      <td>y</td>\n",
              "      <td>78</td>\n",
              "      <td>y</td>\n",
              "      <td>0.98</td>\n",
              "      <td>y</td>\n",
              "      <td>80</td>\n",
              "      <td>n</td>\n",
              "      <td>?</td>\n",
              "    </tr>\n",
              "    <tr>\n",
              "      <th>50</th>\n",
              "      <td>hypothyroid</td>\n",
              "      <td>?</td>\n",
              "      <td>F</td>\n",
              "      <td>f</td>\n",
              "      <td>f</td>\n",
              "      <td>f</td>\n",
              "      <td>f</td>\n",
              "      <td>f</td>\n",
              "      <td>f</td>\n",
              "      <td>f</td>\n",
              "      <td>...</td>\n",
              "      <td>y</td>\n",
              "      <td>0.40</td>\n",
              "      <td>y</td>\n",
              "      <td>9.70</td>\n",
              "      <td>y</td>\n",
              "      <td>1.46</td>\n",
              "      <td>y</td>\n",
              "      <td>6.60</td>\n",
              "      <td>n</td>\n",
              "      <td>?</td>\n",
              "    </tr>\n",
              "    <tr>\n",
              "      <th>59</th>\n",
              "      <td>hypothyroid</td>\n",
              "      <td>?</td>\n",
              "      <td>?</td>\n",
              "      <td>f</td>\n",
              "      <td>f</td>\n",
              "      <td>f</td>\n",
              "      <td>f</td>\n",
              "      <td>f</td>\n",
              "      <td>f</td>\n",
              "      <td>f</td>\n",
              "      <td>...</td>\n",
              "      <td>y</td>\n",
              "      <td>0.60</td>\n",
              "      <td>y</td>\n",
              "      <td>21</td>\n",
              "      <td>y</td>\n",
              "      <td>0.97</td>\n",
              "      <td>y</td>\n",
              "      <td>22</td>\n",
              "      <td>n</td>\n",
              "      <td>?</td>\n",
              "    </tr>\n",
              "    <tr>\n",
              "      <th>61</th>\n",
              "      <td>hypothyroid</td>\n",
              "      <td>?</td>\n",
              "      <td>F</td>\n",
              "      <td>f</td>\n",
              "      <td>f</td>\n",
              "      <td>f</td>\n",
              "      <td>f</td>\n",
              "      <td>f</td>\n",
              "      <td>f</td>\n",
              "      <td>f</td>\n",
              "      <td>...</td>\n",
              "      <td>y</td>\n",
              "      <td>0.30</td>\n",
              "      <td>y</td>\n",
              "      <td>18</td>\n",
              "      <td>y</td>\n",
              "      <td>1.06</td>\n",
              "      <td>y</td>\n",
              "      <td>17</td>\n",
              "      <td>n</td>\n",
              "      <td>?</td>\n",
              "    </tr>\n",
              "  </tbody>\n",
              "</table>\n",
              "<p>5 rows × 26 columns</p>\n",
              "</div>\n",
              "      <button class=\"colab-df-convert\" onclick=\"convertToInteractive('df-0f0e14f1-9b81-44bf-80f3-e71a5b9bc944')\"\n",
              "              title=\"Convert this dataframe to an interactive table.\"\n",
              "              style=\"display:none;\">\n",
              "        \n",
              "  <svg xmlns=\"http://www.w3.org/2000/svg\" height=\"24px\"viewBox=\"0 0 24 24\"\n",
              "       width=\"24px\">\n",
              "    <path d=\"M0 0h24v24H0V0z\" fill=\"none\"/>\n",
              "    <path d=\"M18.56 5.44l.94 2.06.94-2.06 2.06-.94-2.06-.94-.94-2.06-.94 2.06-2.06.94zm-11 1L8.5 8.5l.94-2.06 2.06-.94-2.06-.94L8.5 2.5l-.94 2.06-2.06.94zm10 10l.94 2.06.94-2.06 2.06-.94-2.06-.94-.94-2.06-.94 2.06-2.06.94z\"/><path d=\"M17.41 7.96l-1.37-1.37c-.4-.4-.92-.59-1.43-.59-.52 0-1.04.2-1.43.59L10.3 9.45l-7.72 7.72c-.78.78-.78 2.05 0 2.83L4 21.41c.39.39.9.59 1.41.59.51 0 1.02-.2 1.41-.59l7.78-7.78 2.81-2.81c.8-.78.8-2.07 0-2.86zM5.41 20L4 18.59l7.72-7.72 1.47 1.35L5.41 20z\"/>\n",
              "  </svg>\n",
              "      </button>\n",
              "      \n",
              "  <style>\n",
              "    .colab-df-container {\n",
              "      display:flex;\n",
              "      flex-wrap:wrap;\n",
              "      gap: 12px;\n",
              "    }\n",
              "\n",
              "    .colab-df-convert {\n",
              "      background-color: #E8F0FE;\n",
              "      border: none;\n",
              "      border-radius: 50%;\n",
              "      cursor: pointer;\n",
              "      display: none;\n",
              "      fill: #1967D2;\n",
              "      height: 32px;\n",
              "      padding: 0 0 0 0;\n",
              "      width: 32px;\n",
              "    }\n",
              "\n",
              "    .colab-df-convert:hover {\n",
              "      background-color: #E2EBFA;\n",
              "      box-shadow: 0px 1px 2px rgba(60, 64, 67, 0.3), 0px 1px 3px 1px rgba(60, 64, 67, 0.15);\n",
              "      fill: #174EA6;\n",
              "    }\n",
              "\n",
              "    [theme=dark] .colab-df-convert {\n",
              "      background-color: #3B4455;\n",
              "      fill: #D2E3FC;\n",
              "    }\n",
              "\n",
              "    [theme=dark] .colab-df-convert:hover {\n",
              "      background-color: #434B5C;\n",
              "      box-shadow: 0px 1px 3px 1px rgba(0, 0, 0, 0.15);\n",
              "      filter: drop-shadow(0px 1px 2px rgba(0, 0, 0, 0.3));\n",
              "      fill: #FFFFFF;\n",
              "    }\n",
              "  </style>\n",
              "\n",
              "      <script>\n",
              "        const buttonEl =\n",
              "          document.querySelector('#df-0f0e14f1-9b81-44bf-80f3-e71a5b9bc944 button.colab-df-convert');\n",
              "        buttonEl.style.display =\n",
              "          google.colab.kernel.accessAllowed ? 'block' : 'none';\n",
              "\n",
              "        async function convertToInteractive(key) {\n",
              "          const element = document.querySelector('#df-0f0e14f1-9b81-44bf-80f3-e71a5b9bc944');\n",
              "          const dataTable =\n",
              "            await google.colab.kernel.invokeFunction('convertToInteractive',\n",
              "                                                     [key], {});\n",
              "          if (!dataTable) return;\n",
              "\n",
              "          const docLinkHtml = 'Like what you see? Visit the ' +\n",
              "            '<a target=\"_blank\" href=https://colab.research.google.com/notebooks/data_table.ipynb>data table notebook</a>'\n",
              "            + ' to learn more about interactive tables.';\n",
              "          element.innerHTML = '';\n",
              "          dataTable['output_type'] = 'display_data';\n",
              "          await google.colab.output.renderOutput(dataTable, element);\n",
              "          const docLink = document.createElement('div');\n",
              "          docLink.innerHTML = docLinkHtml;\n",
              "          element.appendChild(docLink);\n",
              "        }\n",
              "      </script>\n",
              "    </div>\n",
              "  </div>\n",
              "  "
            ]
          },
          "metadata": {},
          "execution_count": 10
        }
      ],
      "source": [
        "# Print\n",
        "print('''\n",
        "No unique pattern identified with records with missing age values. \n",
        "The missing record indicate the age of the test subject was not recorded.\n",
        "The record shall have appropiate values imputated\n",
        "''')\n",
        "\n",
        "# Explore records with missing age record\n",
        "hypothyroid_df.loc[hypothyroid_df['age'] == '?'].head()"
      ]
    },
    {
      "cell_type": "code",
      "execution_count": null,
      "metadata": {
        "colab": {
          "base_uri": "https://localhost:8080/"
        },
        "id": "plkXHaG8pVb2",
        "outputId": "859fe56f-b41b-4db7-dea3-403f1e28c837"
      },
      "outputs": [
        {
          "output_type": "stream",
          "name": "stdout",
          "text": [
            "['30' '145' '0' '430' '7.30' '138' '7.70' '21' '92' '48' '36' '15' '15.30'\n",
            " '25' '61' '28' '170' '54' '216' '56' '71' '46' '70' '34' '53' '9.40'\n",
            " '126' '10' '530' '35' '65' '57' '125' '23' '80' '117' '49' '66' '8.20'\n",
            " '150' '?' '18' '165' '164' '24' '90' '77' '19' '58' '100' '213' '17'\n",
            " '235' '153' '13' '31' '109' '260' '43' '12' '11' '55' '6.50' '20' '7.50'\n",
            " '14' '60' '140' '33' '8.70' '0.25' '10.70' '82' '45' '42' '41' '160' '16'\n",
            " '89' '44' '176' '6.40' '183' '29' '37' '39' '7.90' '59' '68' '38' '47'\n",
            " '143' '6.60' '288' '96' '0.50' '1.20' '1.90' '0.09' '3.10' '0.40' '0.85'\n",
            " '0.30' '0.90' '1.50' '4.60' '0.20' '5.80' '4' '1.40' '2' '2.60' '2.90'\n",
            " '0.80' '4.90' '10.30' '2.30' '0.70' '0.60' '1.30' '2.50' '5.10' '1.70'\n",
            " '2.70' '22' '8.10' '3.30' '5' '3.20' '1.80' '1.10' '0.46' '1' '5.60'\n",
            " '4.40' '16.50' '2.10' '6.30' '5.50' '7.40' '5.90' '0.15' '14.90' '2.20'\n",
            " '9.70' '9.60' '1.60' '3.70' '3' '2.80' '0.10' '4.20' '27' '3.50' '0.05'\n",
            " '19.20' '8' '9.10' '3.60' '7.80' '3.80' '8.50' '9.20' '52' '2.40' '3.90'\n",
            " '0.03' '0.04' '26' '6.10' '0.65' '0.92' '7.60' '8.40' '14.40' '1.05'\n",
            " '0.37' '178' '6.90' '4.50' '4.70' '40' '6' '4.10' '14.30' '5.40' '8.30'\n",
            " '0.06' '8.80' '8.90' '7.10' '4.80' '0.43' '6.70' '200' '8.60' '86' '0.21'\n",
            " '9' '0.26' '3.40' '6.20' '17.40' '85' '1.83' '63' '13.30' '0.02' '0.42'\n",
            " '9.50' '0.84' '0.88' '4.30' '0.67' '0.81' '5.20' '9.80' '76' '0.62'\n",
            " '0.01' '11.40' '88' '0.68' '0.07' '0.69' '0.77' '9.90' '0.64' '13.20'\n",
            " '6.80' '0.28' '11.60' '0.91' '1.01' '0.23' '0.35' '50' '32' '0.83' '0.08']\n",
            "\n",
            "An anormally is present in TSH records ('?'). \n",
            "Some records have no TSH measurement for test subject\n",
            "\n"
          ]
        }
      ],
      "source": [
        "# Preview unique values in TSH column\n",
        "print(hypothyroid_df['TSH'].unique())\n",
        "\n",
        "print('''\n",
        "An anormally is present in TSH records ('?'). \n",
        "Some records have no TSH measurement for test subject\n",
        "''')"
      ]
    },
    {
      "cell_type": "code",
      "execution_count": null,
      "metadata": {
        "colab": {
          "base_uri": "https://localhost:8080/"
        },
        "id": "qdUACS80xABe",
        "outputId": "55f0dc6c-d970-468a-f528-6e2b6b0b284d"
      },
      "outputs": [
        {
          "output_type": "stream",
          "name": "stdout",
          "text": [
            "\n",
            "Records with missing/ ('?') TSH measurement records from the (TSH_measured) \n",
            "column indicate that the subject did not undergo an TSH test hence the anormally\n",
            "shall be have appropiate values imputated\n",
            "\n",
            "Records with missing TSH measurement records had missing T3 and TBG measurement records\n"
          ]
        }
      ],
      "source": [
        "# print\n",
        "print('''\n",
        "Records with missing/ ('?') TSH measurement records from the (TSH_measured) \n",
        "column indicate that the subject did not undergo an TSH test hence the anormally\n",
        "shall be have appropiate values imputated\n",
        "''')\n",
        "\n",
        "# Explore records with missing age record\n",
        "hypothyroid_df.loc[hypothyroid_df['TSH'] == '?'].head()\n",
        "\n",
        "print('Records with missing TSH measurement records had missing T3 and TBG measurement records')"
      ]
    },
    {
      "cell_type": "code",
      "execution_count": null,
      "metadata": {
        "colab": {
          "base_uri": "https://localhost:8080/"
        },
        "id": "tB7JTxhApZl5",
        "outputId": "28e55173-b142-44b2-a014-031948f14da0"
      },
      "outputs": [
        {
          "output_type": "stream",
          "name": "stdout",
          "text": [
            "['0.60' '1.70' '0.20' '0.40' '1.20' '1.10' '1.30' '1.90' '?' '0.80' '2.20'\n",
            " '1.50' '2.70' '2' '0.30' '2.10' '0.50' '0.70' '1' '1.40' '2.30' '2.40'\n",
            " '0.90' '1.80' '0' '2.80' '1.60' '6.70' '3.30' '3' '2.50' '2.60' '4'\n",
            " '9.80' '3.90' '3.40' '3.80' '4.50' '3.20' '3.70' '4.30' '2.90' '3.10'\n",
            " '3.50' '3.60' '6.60' '4.90' '8.90' '4.10' '5' '5.30' '7.60' '7.30' '4.20'\n",
            " '4.40' '5.10' '7' '0.10' '0.05' '4.70' '6.20' '5.50' '4.60' '6.10' '8.10'\n",
            " '5.20' '5.60' '4.80' '10.20' '8.60']\n",
            "\n",
            "An anormally is present in T3 mesurement records ('?'). \n",
            "Some records have no T3 mesurement record for test subject\n",
            "\n"
          ]
        }
      ],
      "source": [
        "# Preview unique values in T3 columns\n",
        "print(hypothyroid_df['T3'].unique())\n",
        "\n",
        "# print\n",
        "print('''\n",
        "An anormally is present in T3 mesurement records ('?'). \n",
        "Some records have no T3 mesurement record for test subject\n",
        "''')"
      ]
    },
    {
      "cell_type": "code",
      "execution_count": null,
      "metadata": {
        "colab": {
          "base_uri": "https://localhost:8080/"
        },
        "id": "NswUTm5cx8yD",
        "outputId": "844aba89-21ce-4b22-de04-a9d6d2cb811f"
      },
      "outputs": [
        {
          "output_type": "stream",
          "name": "stdout",
          "text": [
            "\n",
            "Records with missing/ ('?') T3 measurement records from the (T3_measured) \n",
            "column indicate that the subject did not undergo an T3 test hence the anormally\n",
            "shall have appropiate values imputated\n",
            "\n"
          ]
        },
        {
          "output_type": "execute_result",
          "data": {
            "text/plain": [
              "         status age sex on_thyroxine query_on_thyroxine  \\\n",
              "8   hypothyroid  20   F            f                  f   \n",
              "9   hypothyroid  42   F            f                  f   \n",
              "16  hypothyroid  50   F            t                  f   \n",
              "20  hypothyroid  43   M            f                  f   \n",
              "32  hypothyroid  50   F            t                  f   \n",
              "\n",
              "   on_antithyroid_medication thyroid_surgery query_hypothyroid  \\\n",
              "8                          f               f                 t   \n",
              "9                          f               f                 f   \n",
              "16                         f               t                 f   \n",
              "20                         f               f                 t   \n",
              "32                         f               f                 f   \n",
              "\n",
              "   query_hyperthyroid pregnant  ... T3_measured T3 TT4_measured   TT4  \\\n",
              "8                   f        f  ...           n  ?            y    39   \n",
              "9                   f        f  ...           n  ?            y  7.60   \n",
              "16                  f        f  ...           n  ?            y    13   \n",
              "20                  f        f  ...           n  ?            y     4   \n",
              "32                  f        f  ...           n  ?            y    55   \n",
              "\n",
              "   T4U_measured   T4U FTI_measured   FTI TBG_measured TBG  \n",
              "8             y  1.21            y    32            n   ?  \n",
              "9             y  1.02            y  7.50            n   ?  \n",
              "16            y  1.18            y    11            n   ?  \n",
              "20            y  1.28            y     0            n   ?  \n",
              "32            y  0.93            y    60            n   ?  \n",
              "\n",
              "[5 rows x 26 columns]"
            ],
            "text/html": [
              "\n",
              "  <div id=\"df-71527a7f-8fce-41b8-bfc4-5d9213f01d78\">\n",
              "    <div class=\"colab-df-container\">\n",
              "      <div>\n",
              "<style scoped>\n",
              "    .dataframe tbody tr th:only-of-type {\n",
              "        vertical-align: middle;\n",
              "    }\n",
              "\n",
              "    .dataframe tbody tr th {\n",
              "        vertical-align: top;\n",
              "    }\n",
              "\n",
              "    .dataframe thead th {\n",
              "        text-align: right;\n",
              "    }\n",
              "</style>\n",
              "<table border=\"1\" class=\"dataframe\">\n",
              "  <thead>\n",
              "    <tr style=\"text-align: right;\">\n",
              "      <th></th>\n",
              "      <th>status</th>\n",
              "      <th>age</th>\n",
              "      <th>sex</th>\n",
              "      <th>on_thyroxine</th>\n",
              "      <th>query_on_thyroxine</th>\n",
              "      <th>on_antithyroid_medication</th>\n",
              "      <th>thyroid_surgery</th>\n",
              "      <th>query_hypothyroid</th>\n",
              "      <th>query_hyperthyroid</th>\n",
              "      <th>pregnant</th>\n",
              "      <th>...</th>\n",
              "      <th>T3_measured</th>\n",
              "      <th>T3</th>\n",
              "      <th>TT4_measured</th>\n",
              "      <th>TT4</th>\n",
              "      <th>T4U_measured</th>\n",
              "      <th>T4U</th>\n",
              "      <th>FTI_measured</th>\n",
              "      <th>FTI</th>\n",
              "      <th>TBG_measured</th>\n",
              "      <th>TBG</th>\n",
              "    </tr>\n",
              "  </thead>\n",
              "  <tbody>\n",
              "    <tr>\n",
              "      <th>8</th>\n",
              "      <td>hypothyroid</td>\n",
              "      <td>20</td>\n",
              "      <td>F</td>\n",
              "      <td>f</td>\n",
              "      <td>f</td>\n",
              "      <td>f</td>\n",
              "      <td>f</td>\n",
              "      <td>t</td>\n",
              "      <td>f</td>\n",
              "      <td>f</td>\n",
              "      <td>...</td>\n",
              "      <td>n</td>\n",
              "      <td>?</td>\n",
              "      <td>y</td>\n",
              "      <td>39</td>\n",
              "      <td>y</td>\n",
              "      <td>1.21</td>\n",
              "      <td>y</td>\n",
              "      <td>32</td>\n",
              "      <td>n</td>\n",
              "      <td>?</td>\n",
              "    </tr>\n",
              "    <tr>\n",
              "      <th>9</th>\n",
              "      <td>hypothyroid</td>\n",
              "      <td>42</td>\n",
              "      <td>F</td>\n",
              "      <td>f</td>\n",
              "      <td>f</td>\n",
              "      <td>f</td>\n",
              "      <td>f</td>\n",
              "      <td>f</td>\n",
              "      <td>f</td>\n",
              "      <td>f</td>\n",
              "      <td>...</td>\n",
              "      <td>n</td>\n",
              "      <td>?</td>\n",
              "      <td>y</td>\n",
              "      <td>7.60</td>\n",
              "      <td>y</td>\n",
              "      <td>1.02</td>\n",
              "      <td>y</td>\n",
              "      <td>7.50</td>\n",
              "      <td>n</td>\n",
              "      <td>?</td>\n",
              "    </tr>\n",
              "    <tr>\n",
              "      <th>16</th>\n",
              "      <td>hypothyroid</td>\n",
              "      <td>50</td>\n",
              "      <td>F</td>\n",
              "      <td>t</td>\n",
              "      <td>f</td>\n",
              "      <td>f</td>\n",
              "      <td>t</td>\n",
              "      <td>f</td>\n",
              "      <td>f</td>\n",
              "      <td>f</td>\n",
              "      <td>...</td>\n",
              "      <td>n</td>\n",
              "      <td>?</td>\n",
              "      <td>y</td>\n",
              "      <td>13</td>\n",
              "      <td>y</td>\n",
              "      <td>1.18</td>\n",
              "      <td>y</td>\n",
              "      <td>11</td>\n",
              "      <td>n</td>\n",
              "      <td>?</td>\n",
              "    </tr>\n",
              "    <tr>\n",
              "      <th>20</th>\n",
              "      <td>hypothyroid</td>\n",
              "      <td>43</td>\n",
              "      <td>M</td>\n",
              "      <td>f</td>\n",
              "      <td>f</td>\n",
              "      <td>f</td>\n",
              "      <td>f</td>\n",
              "      <td>t</td>\n",
              "      <td>f</td>\n",
              "      <td>f</td>\n",
              "      <td>...</td>\n",
              "      <td>n</td>\n",
              "      <td>?</td>\n",
              "      <td>y</td>\n",
              "      <td>4</td>\n",
              "      <td>y</td>\n",
              "      <td>1.28</td>\n",
              "      <td>y</td>\n",
              "      <td>0</td>\n",
              "      <td>n</td>\n",
              "      <td>?</td>\n",
              "    </tr>\n",
              "    <tr>\n",
              "      <th>32</th>\n",
              "      <td>hypothyroid</td>\n",
              "      <td>50</td>\n",
              "      <td>F</td>\n",
              "      <td>t</td>\n",
              "      <td>f</td>\n",
              "      <td>f</td>\n",
              "      <td>f</td>\n",
              "      <td>f</td>\n",
              "      <td>f</td>\n",
              "      <td>f</td>\n",
              "      <td>...</td>\n",
              "      <td>n</td>\n",
              "      <td>?</td>\n",
              "      <td>y</td>\n",
              "      <td>55</td>\n",
              "      <td>y</td>\n",
              "      <td>0.93</td>\n",
              "      <td>y</td>\n",
              "      <td>60</td>\n",
              "      <td>n</td>\n",
              "      <td>?</td>\n",
              "    </tr>\n",
              "  </tbody>\n",
              "</table>\n",
              "<p>5 rows × 26 columns</p>\n",
              "</div>\n",
              "      <button class=\"colab-df-convert\" onclick=\"convertToInteractive('df-71527a7f-8fce-41b8-bfc4-5d9213f01d78')\"\n",
              "              title=\"Convert this dataframe to an interactive table.\"\n",
              "              style=\"display:none;\">\n",
              "        \n",
              "  <svg xmlns=\"http://www.w3.org/2000/svg\" height=\"24px\"viewBox=\"0 0 24 24\"\n",
              "       width=\"24px\">\n",
              "    <path d=\"M0 0h24v24H0V0z\" fill=\"none\"/>\n",
              "    <path d=\"M18.56 5.44l.94 2.06.94-2.06 2.06-.94-2.06-.94-.94-2.06-.94 2.06-2.06.94zm-11 1L8.5 8.5l.94-2.06 2.06-.94-2.06-.94L8.5 2.5l-.94 2.06-2.06.94zm10 10l.94 2.06.94-2.06 2.06-.94-2.06-.94-.94-2.06-.94 2.06-2.06.94z\"/><path d=\"M17.41 7.96l-1.37-1.37c-.4-.4-.92-.59-1.43-.59-.52 0-1.04.2-1.43.59L10.3 9.45l-7.72 7.72c-.78.78-.78 2.05 0 2.83L4 21.41c.39.39.9.59 1.41.59.51 0 1.02-.2 1.41-.59l7.78-7.78 2.81-2.81c.8-.78.8-2.07 0-2.86zM5.41 20L4 18.59l7.72-7.72 1.47 1.35L5.41 20z\"/>\n",
              "  </svg>\n",
              "      </button>\n",
              "      \n",
              "  <style>\n",
              "    .colab-df-container {\n",
              "      display:flex;\n",
              "      flex-wrap:wrap;\n",
              "      gap: 12px;\n",
              "    }\n",
              "\n",
              "    .colab-df-convert {\n",
              "      background-color: #E8F0FE;\n",
              "      border: none;\n",
              "      border-radius: 50%;\n",
              "      cursor: pointer;\n",
              "      display: none;\n",
              "      fill: #1967D2;\n",
              "      height: 32px;\n",
              "      padding: 0 0 0 0;\n",
              "      width: 32px;\n",
              "    }\n",
              "\n",
              "    .colab-df-convert:hover {\n",
              "      background-color: #E2EBFA;\n",
              "      box-shadow: 0px 1px 2px rgba(60, 64, 67, 0.3), 0px 1px 3px 1px rgba(60, 64, 67, 0.15);\n",
              "      fill: #174EA6;\n",
              "    }\n",
              "\n",
              "    [theme=dark] .colab-df-convert {\n",
              "      background-color: #3B4455;\n",
              "      fill: #D2E3FC;\n",
              "    }\n",
              "\n",
              "    [theme=dark] .colab-df-convert:hover {\n",
              "      background-color: #434B5C;\n",
              "      box-shadow: 0px 1px 3px 1px rgba(0, 0, 0, 0.15);\n",
              "      filter: drop-shadow(0px 1px 2px rgba(0, 0, 0, 0.3));\n",
              "      fill: #FFFFFF;\n",
              "    }\n",
              "  </style>\n",
              "\n",
              "      <script>\n",
              "        const buttonEl =\n",
              "          document.querySelector('#df-71527a7f-8fce-41b8-bfc4-5d9213f01d78 button.colab-df-convert');\n",
              "        buttonEl.style.display =\n",
              "          google.colab.kernel.accessAllowed ? 'block' : 'none';\n",
              "\n",
              "        async function convertToInteractive(key) {\n",
              "          const element = document.querySelector('#df-71527a7f-8fce-41b8-bfc4-5d9213f01d78');\n",
              "          const dataTable =\n",
              "            await google.colab.kernel.invokeFunction('convertToInteractive',\n",
              "                                                     [key], {});\n",
              "          if (!dataTable) return;\n",
              "\n",
              "          const docLinkHtml = 'Like what you see? Visit the ' +\n",
              "            '<a target=\"_blank\" href=https://colab.research.google.com/notebooks/data_table.ipynb>data table notebook</a>'\n",
              "            + ' to learn more about interactive tables.';\n",
              "          element.innerHTML = '';\n",
              "          dataTable['output_type'] = 'display_data';\n",
              "          await google.colab.output.renderOutput(dataTable, element);\n",
              "          const docLink = document.createElement('div');\n",
              "          docLink.innerHTML = docLinkHtml;\n",
              "          element.appendChild(docLink);\n",
              "        }\n",
              "      </script>\n",
              "    </div>\n",
              "  </div>\n",
              "  "
            ]
          },
          "metadata": {},
          "execution_count": 14
        }
      ],
      "source": [
        "# Print\n",
        "print('''\n",
        "Records with missing/ ('?') T3 measurement records from the (T3_measured) \n",
        "column indicate that the subject did not undergo an T3 test hence the anormally\n",
        "shall have appropiate values imputated\n",
        "''')\n",
        "\n",
        "# Explore records with missing age record\n",
        "hypothyroid_df.loc[hypothyroid_df['T3'] == '?'].head()\n"
      ]
    },
    {
      "cell_type": "code",
      "execution_count": null,
      "metadata": {
        "colab": {
          "base_uri": "https://localhost:8080/"
        },
        "id": "fDtkPbs9pgaw",
        "outputId": "5da981dd-0312-4786-b140-19f8a2d7e990"
      },
      "outputs": [
        {
          "output_type": "stream",
          "name": "stdout",
          "text": [
            "['1.48' '1.13' '1' '1.04' '1.28' '1.19' '0.86' '1.05' '1.21' '1.02' '0.92'\n",
            " '1.29' '0.98' '1.08' '1.01' '1.18' '1.10' '1.27' '0.83' '1.11' '0.78'\n",
            " '1.39' '1.12' '0.93' '0.99' '0.90' '1.06' '0.68' '0.67' '1.14' '0.80'\n",
            " '0.96' '0.95' '1.46' '1.03' '0.97' '0.94' '1.09' '1.24' '1.23' '1.53'\n",
            " '1.26' '1.40' '1.17' '0.87' '0.61' '0.70' '1.07' '1.73' '1.45' '1.20'\n",
            " '0.89' '0.84' '0.91' '0.85' '1.35' '0.82' '1.50' '0.74' '1.71' '1.79'\n",
            " '0.73' '0.77' '1.25' '?' '0.88' '0.72' '0.31' '0' '0.79' '0.81' '0.71'\n",
            " '1.93' '1.32' '0.66' '1.68' '1.42' '1.70' '1.83' '1.41' '1.34' '1.65'\n",
            " '1.22' '0.75' '1.74' '0.69' '1.51' '0.76' '1.16' '0.35' '0.62' '0.54'\n",
            " '1.36' '1.33' '1.30' '0.48' '1.59' '1.75' '1.86' '1.38' '1.43' '1.62'\n",
            " '2.01' '0.30' '1.31' '1.15' '1.57' '0.55' '1.66' '0.52' '1.97' '1.47'\n",
            " '0.36' '1.88' '1.55' '0.34' '1.67' '0.58' '0.60' '0.59' '1.37' '1.76'\n",
            " '0.64' '1.80' '0.41' '0.20' '1.77' '0.33' '1.54' '0.46' '0.32' '1.44'\n",
            " '1.56' '0.56' '1.52' '2.03' '0.65' '0.63' '1.96' '0.53' '0.47' '0.29'\n",
            " '2.21' '1.69' '1.64' '1.49' '1.72' '1.58' '0.57' '1.61' '0.28' '2' '1.63'\n",
            " '0.27' '1.94' '0.50' '0.49' '0.40' '0.38']\n",
            "\n",
            "An anormally is present in T4U mesurement records ('?'). \n",
            "Some records have no T4U mesurement record for test subject\n",
            "\n"
          ]
        }
      ],
      "source": [
        "# Preview unique values in T4U column\n",
        "print(hypothyroid_df['T4U'].unique())\n",
        "\n",
        "# print\n",
        "print('''\n",
        "An anormally is present in T4U mesurement records ('?'). \n",
        "Some records have no T4U mesurement record for test subject\n",
        "''')"
      ]
    },
    {
      "cell_type": "code",
      "execution_count": null,
      "metadata": {
        "colab": {
          "base_uri": "https://localhost:8080/"
        },
        "id": "d5Q66mevyTlR",
        "outputId": "4e82b3f9-e99e-4a98-9b68-146851adc72f"
      },
      "outputs": [
        {
          "output_type": "stream",
          "name": "stdout",
          "text": [
            "\n",
            "Records with missing/ ('?') T4U measurement records from the (T4U_measured) \n",
            "column indicate that the subject did not undergo an T4U test hence the anormally\n",
            "shall have appropiate values imputated\n",
            "\n"
          ]
        },
        {
          "output_type": "execute_result",
          "data": {
            "text/plain": [
              "       status age sex on_thyroxine query_on_thyroxine  \\\n",
              "166  negative  60   M            t                  f   \n",
              "190  negative  54   M            f                  f   \n",
              "206  negative  45   F            f                  f   \n",
              "232  negative  15   M            f                  f   \n",
              "242  negative  38   F            f                  f   \n",
              "\n",
              "    on_antithyroid_medication thyroid_surgery query_hypothyroid  \\\n",
              "166                         f               f                 f   \n",
              "190                         f               f                 f   \n",
              "206                         f               f                 f   \n",
              "232                         f               f                 f   \n",
              "242                         f               f                 f   \n",
              "\n",
              "    query_hyperthyroid pregnant  ... T3_measured T3 TT4_measured TT4  \\\n",
              "166                  f        f  ...           n  ?            n   ?   \n",
              "190                  f        f  ...           n  ?            n   ?   \n",
              "206                  t        f  ...           n  ?            n   ?   \n",
              "232                  f        f  ...           n  ?            n   ?   \n",
              "242                  f        f  ...           n  ?            n   ?   \n",
              "\n",
              "    T4U_measured T4U FTI_measured FTI TBG_measured TBG  \n",
              "166            n   ?            n   ?            y   0  \n",
              "190            n   ?            n   ?            y  19  \n",
              "206            n   ?            n   ?            y  30  \n",
              "232            n   ?            n   ?            y  48  \n",
              "242            n   ?            n   ?            y  39  \n",
              "\n",
              "[5 rows x 26 columns]"
            ],
            "text/html": [
              "\n",
              "  <div id=\"df-2af8cdf1-374e-4398-b5cc-7e5c722f5533\">\n",
              "    <div class=\"colab-df-container\">\n",
              "      <div>\n",
              "<style scoped>\n",
              "    .dataframe tbody tr th:only-of-type {\n",
              "        vertical-align: middle;\n",
              "    }\n",
              "\n",
              "    .dataframe tbody tr th {\n",
              "        vertical-align: top;\n",
              "    }\n",
              "\n",
              "    .dataframe thead th {\n",
              "        text-align: right;\n",
              "    }\n",
              "</style>\n",
              "<table border=\"1\" class=\"dataframe\">\n",
              "  <thead>\n",
              "    <tr style=\"text-align: right;\">\n",
              "      <th></th>\n",
              "      <th>status</th>\n",
              "      <th>age</th>\n",
              "      <th>sex</th>\n",
              "      <th>on_thyroxine</th>\n",
              "      <th>query_on_thyroxine</th>\n",
              "      <th>on_antithyroid_medication</th>\n",
              "      <th>thyroid_surgery</th>\n",
              "      <th>query_hypothyroid</th>\n",
              "      <th>query_hyperthyroid</th>\n",
              "      <th>pregnant</th>\n",
              "      <th>...</th>\n",
              "      <th>T3_measured</th>\n",
              "      <th>T3</th>\n",
              "      <th>TT4_measured</th>\n",
              "      <th>TT4</th>\n",
              "      <th>T4U_measured</th>\n",
              "      <th>T4U</th>\n",
              "      <th>FTI_measured</th>\n",
              "      <th>FTI</th>\n",
              "      <th>TBG_measured</th>\n",
              "      <th>TBG</th>\n",
              "    </tr>\n",
              "  </thead>\n",
              "  <tbody>\n",
              "    <tr>\n",
              "      <th>166</th>\n",
              "      <td>negative</td>\n",
              "      <td>60</td>\n",
              "      <td>M</td>\n",
              "      <td>t</td>\n",
              "      <td>f</td>\n",
              "      <td>f</td>\n",
              "      <td>f</td>\n",
              "      <td>f</td>\n",
              "      <td>f</td>\n",
              "      <td>f</td>\n",
              "      <td>...</td>\n",
              "      <td>n</td>\n",
              "      <td>?</td>\n",
              "      <td>n</td>\n",
              "      <td>?</td>\n",
              "      <td>n</td>\n",
              "      <td>?</td>\n",
              "      <td>n</td>\n",
              "      <td>?</td>\n",
              "      <td>y</td>\n",
              "      <td>0</td>\n",
              "    </tr>\n",
              "    <tr>\n",
              "      <th>190</th>\n",
              "      <td>negative</td>\n",
              "      <td>54</td>\n",
              "      <td>M</td>\n",
              "      <td>f</td>\n",
              "      <td>f</td>\n",
              "      <td>f</td>\n",
              "      <td>f</td>\n",
              "      <td>f</td>\n",
              "      <td>f</td>\n",
              "      <td>f</td>\n",
              "      <td>...</td>\n",
              "      <td>n</td>\n",
              "      <td>?</td>\n",
              "      <td>n</td>\n",
              "      <td>?</td>\n",
              "      <td>n</td>\n",
              "      <td>?</td>\n",
              "      <td>n</td>\n",
              "      <td>?</td>\n",
              "      <td>y</td>\n",
              "      <td>19</td>\n",
              "    </tr>\n",
              "    <tr>\n",
              "      <th>206</th>\n",
              "      <td>negative</td>\n",
              "      <td>45</td>\n",
              "      <td>F</td>\n",
              "      <td>f</td>\n",
              "      <td>f</td>\n",
              "      <td>f</td>\n",
              "      <td>f</td>\n",
              "      <td>f</td>\n",
              "      <td>t</td>\n",
              "      <td>f</td>\n",
              "      <td>...</td>\n",
              "      <td>n</td>\n",
              "      <td>?</td>\n",
              "      <td>n</td>\n",
              "      <td>?</td>\n",
              "      <td>n</td>\n",
              "      <td>?</td>\n",
              "      <td>n</td>\n",
              "      <td>?</td>\n",
              "      <td>y</td>\n",
              "      <td>30</td>\n",
              "    </tr>\n",
              "    <tr>\n",
              "      <th>232</th>\n",
              "      <td>negative</td>\n",
              "      <td>15</td>\n",
              "      <td>M</td>\n",
              "      <td>f</td>\n",
              "      <td>f</td>\n",
              "      <td>f</td>\n",
              "      <td>f</td>\n",
              "      <td>f</td>\n",
              "      <td>f</td>\n",
              "      <td>f</td>\n",
              "      <td>...</td>\n",
              "      <td>n</td>\n",
              "      <td>?</td>\n",
              "      <td>n</td>\n",
              "      <td>?</td>\n",
              "      <td>n</td>\n",
              "      <td>?</td>\n",
              "      <td>n</td>\n",
              "      <td>?</td>\n",
              "      <td>y</td>\n",
              "      <td>48</td>\n",
              "    </tr>\n",
              "    <tr>\n",
              "      <th>242</th>\n",
              "      <td>negative</td>\n",
              "      <td>38</td>\n",
              "      <td>F</td>\n",
              "      <td>f</td>\n",
              "      <td>f</td>\n",
              "      <td>f</td>\n",
              "      <td>f</td>\n",
              "      <td>f</td>\n",
              "      <td>f</td>\n",
              "      <td>f</td>\n",
              "      <td>...</td>\n",
              "      <td>n</td>\n",
              "      <td>?</td>\n",
              "      <td>n</td>\n",
              "      <td>?</td>\n",
              "      <td>n</td>\n",
              "      <td>?</td>\n",
              "      <td>n</td>\n",
              "      <td>?</td>\n",
              "      <td>y</td>\n",
              "      <td>39</td>\n",
              "    </tr>\n",
              "  </tbody>\n",
              "</table>\n",
              "<p>5 rows × 26 columns</p>\n",
              "</div>\n",
              "      <button class=\"colab-df-convert\" onclick=\"convertToInteractive('df-2af8cdf1-374e-4398-b5cc-7e5c722f5533')\"\n",
              "              title=\"Convert this dataframe to an interactive table.\"\n",
              "              style=\"display:none;\">\n",
              "        \n",
              "  <svg xmlns=\"http://www.w3.org/2000/svg\" height=\"24px\"viewBox=\"0 0 24 24\"\n",
              "       width=\"24px\">\n",
              "    <path d=\"M0 0h24v24H0V0z\" fill=\"none\"/>\n",
              "    <path d=\"M18.56 5.44l.94 2.06.94-2.06 2.06-.94-2.06-.94-.94-2.06-.94 2.06-2.06.94zm-11 1L8.5 8.5l.94-2.06 2.06-.94-2.06-.94L8.5 2.5l-.94 2.06-2.06.94zm10 10l.94 2.06.94-2.06 2.06-.94-2.06-.94-.94-2.06-.94 2.06-2.06.94z\"/><path d=\"M17.41 7.96l-1.37-1.37c-.4-.4-.92-.59-1.43-.59-.52 0-1.04.2-1.43.59L10.3 9.45l-7.72 7.72c-.78.78-.78 2.05 0 2.83L4 21.41c.39.39.9.59 1.41.59.51 0 1.02-.2 1.41-.59l7.78-7.78 2.81-2.81c.8-.78.8-2.07 0-2.86zM5.41 20L4 18.59l7.72-7.72 1.47 1.35L5.41 20z\"/>\n",
              "  </svg>\n",
              "      </button>\n",
              "      \n",
              "  <style>\n",
              "    .colab-df-container {\n",
              "      display:flex;\n",
              "      flex-wrap:wrap;\n",
              "      gap: 12px;\n",
              "    }\n",
              "\n",
              "    .colab-df-convert {\n",
              "      background-color: #E8F0FE;\n",
              "      border: none;\n",
              "      border-radius: 50%;\n",
              "      cursor: pointer;\n",
              "      display: none;\n",
              "      fill: #1967D2;\n",
              "      height: 32px;\n",
              "      padding: 0 0 0 0;\n",
              "      width: 32px;\n",
              "    }\n",
              "\n",
              "    .colab-df-convert:hover {\n",
              "      background-color: #E2EBFA;\n",
              "      box-shadow: 0px 1px 2px rgba(60, 64, 67, 0.3), 0px 1px 3px 1px rgba(60, 64, 67, 0.15);\n",
              "      fill: #174EA6;\n",
              "    }\n",
              "\n",
              "    [theme=dark] .colab-df-convert {\n",
              "      background-color: #3B4455;\n",
              "      fill: #D2E3FC;\n",
              "    }\n",
              "\n",
              "    [theme=dark] .colab-df-convert:hover {\n",
              "      background-color: #434B5C;\n",
              "      box-shadow: 0px 1px 3px 1px rgba(0, 0, 0, 0.15);\n",
              "      filter: drop-shadow(0px 1px 2px rgba(0, 0, 0, 0.3));\n",
              "      fill: #FFFFFF;\n",
              "    }\n",
              "  </style>\n",
              "\n",
              "      <script>\n",
              "        const buttonEl =\n",
              "          document.querySelector('#df-2af8cdf1-374e-4398-b5cc-7e5c722f5533 button.colab-df-convert');\n",
              "        buttonEl.style.display =\n",
              "          google.colab.kernel.accessAllowed ? 'block' : 'none';\n",
              "\n",
              "        async function convertToInteractive(key) {\n",
              "          const element = document.querySelector('#df-2af8cdf1-374e-4398-b5cc-7e5c722f5533');\n",
              "          const dataTable =\n",
              "            await google.colab.kernel.invokeFunction('convertToInteractive',\n",
              "                                                     [key], {});\n",
              "          if (!dataTable) return;\n",
              "\n",
              "          const docLinkHtml = 'Like what you see? Visit the ' +\n",
              "            '<a target=\"_blank\" href=https://colab.research.google.com/notebooks/data_table.ipynb>data table notebook</a>'\n",
              "            + ' to learn more about interactive tables.';\n",
              "          element.innerHTML = '';\n",
              "          dataTable['output_type'] = 'display_data';\n",
              "          await google.colab.output.renderOutput(dataTable, element);\n",
              "          const docLink = document.createElement('div');\n",
              "          docLink.innerHTML = docLinkHtml;\n",
              "          element.appendChild(docLink);\n",
              "        }\n",
              "      </script>\n",
              "    </div>\n",
              "  </div>\n",
              "  "
            ]
          },
          "metadata": {},
          "execution_count": 16
        }
      ],
      "source": [
        "# Print\n",
        "print('''\n",
        "Records with missing/ ('?') T4U measurement records from the (T4U_measured) \n",
        "column indicate that the subject did not undergo an T4U test hence the anormally\n",
        "shall have appropiate values imputated\n",
        "''')\n",
        "\n",
        "# Explore records with missing age record\n",
        "hypothyroid_df.loc[hypothyroid_df['T4U'] == '?'].head()\n"
      ]
    },
    {
      "cell_type": "code",
      "execution_count": null,
      "metadata": {
        "colab": {
          "base_uri": "https://localhost:8080/"
        },
        "id": "KkIZHN_2pmTf",
        "outputId": "4324a2dc-7432-447d-8b90-df14c24417f3"
      },
      "outputs": [
        {
          "output_type": "stream",
          "name": "stdout",
          "text": [
            "['10' '17' '0' '6' '44' '23' '63' '32' '7.50' '61' '41' '76' '45' '34'\n",
            " '81' '11' '16' '46' '22' '12' '5' '47' '29' '37' '60' '8.40' '8.50' '24'\n",
            " '28' '7' '49' '36' '15' '9' '80' '53' '7.20' '68' '6.60' '48' '21' '14'\n",
            " '2' '20' '1.40' '56' '3' '51' '13' '43' '78' '52' '64' '26' '35' '31'\n",
            " '133' '3.40' '54' '8.90' '57' '5.50' '58' '55' '2.80' '66' '4' '40' '50'\n",
            " '8.70' '87' '89' '112' '123' '99' '92' '104' '69' '196' '107' '106' '74'\n",
            " '97' '?' '122' '84' '114' '124' '241' '119' '120' '136' '85' '127' '839'\n",
            " '137' '197' '96' '77' '108' '82' '72' '94' '91' '240' '121' '109' '79'\n",
            " '100' '98' '73' '117' '165' '103' '88' '101' '126' '132' '128' '143'\n",
            " '152' '141' '186' '113' '102' '125' '93' '105' '159' '188' '71' '149'\n",
            " '116' '83' '176' '161' '86' '140' '111' '158' '115' '171' '90' '95' '70'\n",
            " '135' '134' '178' '110' '170' '205' '695' '155' '118' '741' '131' '129'\n",
            " '142' '153' '75' '254' '246' '139' '185' '157' '147' '164' '130' '222'\n",
            " '650' '174' '182' '144' '169' '257' '145' '345' '180' '167' '151' '154'\n",
            " '150' '219' '228' '65' '187' '166' '195' '208' '138' '33' '173' '146'\n",
            " '211' '181' '190' '247' '221' '395' '216' '212' '148' '162' '220' '370'\n",
            " '450' '160' '59' '189' '203' '168' '179' '264' '470' '184' '163' '67'\n",
            " '213' '354' '292' '359' '172' '156' '334' '177' '214' '194' '192' '215'\n",
            " '217' '271' '250' '244' '308' '881' '258' '316' '200' '711' '256' '232'\n",
            " '202' '39' '248' '237' '259' '445' '19' '852' '42' '235' '634' '283'\n",
            " '305' '204' '229' '332' '550' '249' '263' '615' '266' '198' '175' '209'\n",
            " '299' '193' '227' '223' '337' '210' '272' '702' '218' '239' '355' '482'\n",
            " '347' '485' '612' '428']\n",
            "\n",
            "An anormally is present in FTI mesurement records ('?'). \n",
            "Some records have no FTI mesurement record for test subject\n",
            "\n"
          ]
        }
      ],
      "source": [
        "# Preview unique values in FTI Column\n",
        "print(hypothyroid_df['FTI'].unique())\n",
        "\n",
        "# print\n",
        "print('''\n",
        "An anormally is present in FTI mesurement records ('?'). \n",
        "Some records have no FTI mesurement record for test subject\n",
        "''')"
      ]
    },
    {
      "cell_type": "code",
      "execution_count": null,
      "metadata": {
        "colab": {
          "base_uri": "https://localhost:8080/"
        },
        "id": "KY69B_I-yrCD",
        "outputId": "dc6293d6-6f36-4ec6-9873-8f4299450ca8"
      },
      "outputs": [
        {
          "output_type": "stream",
          "name": "stdout",
          "text": [
            "\n",
            "Records with missing/ ('?') FTI measurement records from the (FTI_measured) \n",
            "column indicate that the subject did not undergo an FTI test hence the anormally\n",
            "shall have appropiate values imputated\n",
            "\n"
          ]
        },
        {
          "output_type": "execute_result",
          "data": {
            "text/plain": [
              "       status age sex on_thyroxine query_on_thyroxine  \\\n",
              "166  negative  60   M            t                  f   \n",
              "190  negative  54   M            f                  f   \n",
              "206  negative  45   F            f                  f   \n",
              "232  negative  15   M            f                  f   \n",
              "242  negative  38   F            f                  f   \n",
              "\n",
              "    on_antithyroid_medication thyroid_surgery query_hypothyroid  \\\n",
              "166                         f               f                 f   \n",
              "190                         f               f                 f   \n",
              "206                         f               f                 f   \n",
              "232                         f               f                 f   \n",
              "242                         f               f                 f   \n",
              "\n",
              "    query_hyperthyroid pregnant  ... T3_measured T3 TT4_measured TT4  \\\n",
              "166                  f        f  ...           n  ?            n   ?   \n",
              "190                  f        f  ...           n  ?            n   ?   \n",
              "206                  t        f  ...           n  ?            n   ?   \n",
              "232                  f        f  ...           n  ?            n   ?   \n",
              "242                  f        f  ...           n  ?            n   ?   \n",
              "\n",
              "    T4U_measured T4U FTI_measured FTI TBG_measured TBG  \n",
              "166            n   ?            n   ?            y   0  \n",
              "190            n   ?            n   ?            y  19  \n",
              "206            n   ?            n   ?            y  30  \n",
              "232            n   ?            n   ?            y  48  \n",
              "242            n   ?            n   ?            y  39  \n",
              "\n",
              "[5 rows x 26 columns]"
            ],
            "text/html": [
              "\n",
              "  <div id=\"df-8bc1a808-7bbe-48e2-95f9-ebbdcbbe5514\">\n",
              "    <div class=\"colab-df-container\">\n",
              "      <div>\n",
              "<style scoped>\n",
              "    .dataframe tbody tr th:only-of-type {\n",
              "        vertical-align: middle;\n",
              "    }\n",
              "\n",
              "    .dataframe tbody tr th {\n",
              "        vertical-align: top;\n",
              "    }\n",
              "\n",
              "    .dataframe thead th {\n",
              "        text-align: right;\n",
              "    }\n",
              "</style>\n",
              "<table border=\"1\" class=\"dataframe\">\n",
              "  <thead>\n",
              "    <tr style=\"text-align: right;\">\n",
              "      <th></th>\n",
              "      <th>status</th>\n",
              "      <th>age</th>\n",
              "      <th>sex</th>\n",
              "      <th>on_thyroxine</th>\n",
              "      <th>query_on_thyroxine</th>\n",
              "      <th>on_antithyroid_medication</th>\n",
              "      <th>thyroid_surgery</th>\n",
              "      <th>query_hypothyroid</th>\n",
              "      <th>query_hyperthyroid</th>\n",
              "      <th>pregnant</th>\n",
              "      <th>...</th>\n",
              "      <th>T3_measured</th>\n",
              "      <th>T3</th>\n",
              "      <th>TT4_measured</th>\n",
              "      <th>TT4</th>\n",
              "      <th>T4U_measured</th>\n",
              "      <th>T4U</th>\n",
              "      <th>FTI_measured</th>\n",
              "      <th>FTI</th>\n",
              "      <th>TBG_measured</th>\n",
              "      <th>TBG</th>\n",
              "    </tr>\n",
              "  </thead>\n",
              "  <tbody>\n",
              "    <tr>\n",
              "      <th>166</th>\n",
              "      <td>negative</td>\n",
              "      <td>60</td>\n",
              "      <td>M</td>\n",
              "      <td>t</td>\n",
              "      <td>f</td>\n",
              "      <td>f</td>\n",
              "      <td>f</td>\n",
              "      <td>f</td>\n",
              "      <td>f</td>\n",
              "      <td>f</td>\n",
              "      <td>...</td>\n",
              "      <td>n</td>\n",
              "      <td>?</td>\n",
              "      <td>n</td>\n",
              "      <td>?</td>\n",
              "      <td>n</td>\n",
              "      <td>?</td>\n",
              "      <td>n</td>\n",
              "      <td>?</td>\n",
              "      <td>y</td>\n",
              "      <td>0</td>\n",
              "    </tr>\n",
              "    <tr>\n",
              "      <th>190</th>\n",
              "      <td>negative</td>\n",
              "      <td>54</td>\n",
              "      <td>M</td>\n",
              "      <td>f</td>\n",
              "      <td>f</td>\n",
              "      <td>f</td>\n",
              "      <td>f</td>\n",
              "      <td>f</td>\n",
              "      <td>f</td>\n",
              "      <td>f</td>\n",
              "      <td>...</td>\n",
              "      <td>n</td>\n",
              "      <td>?</td>\n",
              "      <td>n</td>\n",
              "      <td>?</td>\n",
              "      <td>n</td>\n",
              "      <td>?</td>\n",
              "      <td>n</td>\n",
              "      <td>?</td>\n",
              "      <td>y</td>\n",
              "      <td>19</td>\n",
              "    </tr>\n",
              "    <tr>\n",
              "      <th>206</th>\n",
              "      <td>negative</td>\n",
              "      <td>45</td>\n",
              "      <td>F</td>\n",
              "      <td>f</td>\n",
              "      <td>f</td>\n",
              "      <td>f</td>\n",
              "      <td>f</td>\n",
              "      <td>f</td>\n",
              "      <td>t</td>\n",
              "      <td>f</td>\n",
              "      <td>...</td>\n",
              "      <td>n</td>\n",
              "      <td>?</td>\n",
              "      <td>n</td>\n",
              "      <td>?</td>\n",
              "      <td>n</td>\n",
              "      <td>?</td>\n",
              "      <td>n</td>\n",
              "      <td>?</td>\n",
              "      <td>y</td>\n",
              "      <td>30</td>\n",
              "    </tr>\n",
              "    <tr>\n",
              "      <th>232</th>\n",
              "      <td>negative</td>\n",
              "      <td>15</td>\n",
              "      <td>M</td>\n",
              "      <td>f</td>\n",
              "      <td>f</td>\n",
              "      <td>f</td>\n",
              "      <td>f</td>\n",
              "      <td>f</td>\n",
              "      <td>f</td>\n",
              "      <td>f</td>\n",
              "      <td>...</td>\n",
              "      <td>n</td>\n",
              "      <td>?</td>\n",
              "      <td>n</td>\n",
              "      <td>?</td>\n",
              "      <td>n</td>\n",
              "      <td>?</td>\n",
              "      <td>n</td>\n",
              "      <td>?</td>\n",
              "      <td>y</td>\n",
              "      <td>48</td>\n",
              "    </tr>\n",
              "    <tr>\n",
              "      <th>242</th>\n",
              "      <td>negative</td>\n",
              "      <td>38</td>\n",
              "      <td>F</td>\n",
              "      <td>f</td>\n",
              "      <td>f</td>\n",
              "      <td>f</td>\n",
              "      <td>f</td>\n",
              "      <td>f</td>\n",
              "      <td>f</td>\n",
              "      <td>f</td>\n",
              "      <td>...</td>\n",
              "      <td>n</td>\n",
              "      <td>?</td>\n",
              "      <td>n</td>\n",
              "      <td>?</td>\n",
              "      <td>n</td>\n",
              "      <td>?</td>\n",
              "      <td>n</td>\n",
              "      <td>?</td>\n",
              "      <td>y</td>\n",
              "      <td>39</td>\n",
              "    </tr>\n",
              "  </tbody>\n",
              "</table>\n",
              "<p>5 rows × 26 columns</p>\n",
              "</div>\n",
              "      <button class=\"colab-df-convert\" onclick=\"convertToInteractive('df-8bc1a808-7bbe-48e2-95f9-ebbdcbbe5514')\"\n",
              "              title=\"Convert this dataframe to an interactive table.\"\n",
              "              style=\"display:none;\">\n",
              "        \n",
              "  <svg xmlns=\"http://www.w3.org/2000/svg\" height=\"24px\"viewBox=\"0 0 24 24\"\n",
              "       width=\"24px\">\n",
              "    <path d=\"M0 0h24v24H0V0z\" fill=\"none\"/>\n",
              "    <path d=\"M18.56 5.44l.94 2.06.94-2.06 2.06-.94-2.06-.94-.94-2.06-.94 2.06-2.06.94zm-11 1L8.5 8.5l.94-2.06 2.06-.94-2.06-.94L8.5 2.5l-.94 2.06-2.06.94zm10 10l.94 2.06.94-2.06 2.06-.94-2.06-.94-.94-2.06-.94 2.06-2.06.94z\"/><path d=\"M17.41 7.96l-1.37-1.37c-.4-.4-.92-.59-1.43-.59-.52 0-1.04.2-1.43.59L10.3 9.45l-7.72 7.72c-.78.78-.78 2.05 0 2.83L4 21.41c.39.39.9.59 1.41.59.51 0 1.02-.2 1.41-.59l7.78-7.78 2.81-2.81c.8-.78.8-2.07 0-2.86zM5.41 20L4 18.59l7.72-7.72 1.47 1.35L5.41 20z\"/>\n",
              "  </svg>\n",
              "      </button>\n",
              "      \n",
              "  <style>\n",
              "    .colab-df-container {\n",
              "      display:flex;\n",
              "      flex-wrap:wrap;\n",
              "      gap: 12px;\n",
              "    }\n",
              "\n",
              "    .colab-df-convert {\n",
              "      background-color: #E8F0FE;\n",
              "      border: none;\n",
              "      border-radius: 50%;\n",
              "      cursor: pointer;\n",
              "      display: none;\n",
              "      fill: #1967D2;\n",
              "      height: 32px;\n",
              "      padding: 0 0 0 0;\n",
              "      width: 32px;\n",
              "    }\n",
              "\n",
              "    .colab-df-convert:hover {\n",
              "      background-color: #E2EBFA;\n",
              "      box-shadow: 0px 1px 2px rgba(60, 64, 67, 0.3), 0px 1px 3px 1px rgba(60, 64, 67, 0.15);\n",
              "      fill: #174EA6;\n",
              "    }\n",
              "\n",
              "    [theme=dark] .colab-df-convert {\n",
              "      background-color: #3B4455;\n",
              "      fill: #D2E3FC;\n",
              "    }\n",
              "\n",
              "    [theme=dark] .colab-df-convert:hover {\n",
              "      background-color: #434B5C;\n",
              "      box-shadow: 0px 1px 3px 1px rgba(0, 0, 0, 0.15);\n",
              "      filter: drop-shadow(0px 1px 2px rgba(0, 0, 0, 0.3));\n",
              "      fill: #FFFFFF;\n",
              "    }\n",
              "  </style>\n",
              "\n",
              "      <script>\n",
              "        const buttonEl =\n",
              "          document.querySelector('#df-8bc1a808-7bbe-48e2-95f9-ebbdcbbe5514 button.colab-df-convert');\n",
              "        buttonEl.style.display =\n",
              "          google.colab.kernel.accessAllowed ? 'block' : 'none';\n",
              "\n",
              "        async function convertToInteractive(key) {\n",
              "          const element = document.querySelector('#df-8bc1a808-7bbe-48e2-95f9-ebbdcbbe5514');\n",
              "          const dataTable =\n",
              "            await google.colab.kernel.invokeFunction('convertToInteractive',\n",
              "                                                     [key], {});\n",
              "          if (!dataTable) return;\n",
              "\n",
              "          const docLinkHtml = 'Like what you see? Visit the ' +\n",
              "            '<a target=\"_blank\" href=https://colab.research.google.com/notebooks/data_table.ipynb>data table notebook</a>'\n",
              "            + ' to learn more about interactive tables.';\n",
              "          element.innerHTML = '';\n",
              "          dataTable['output_type'] = 'display_data';\n",
              "          await google.colab.output.renderOutput(dataTable, element);\n",
              "          const docLink = document.createElement('div');\n",
              "          docLink.innerHTML = docLinkHtml;\n",
              "          element.appendChild(docLink);\n",
              "        }\n",
              "      </script>\n",
              "    </div>\n",
              "  </div>\n",
              "  "
            ]
          },
          "metadata": {},
          "execution_count": 18
        }
      ],
      "source": [
        "# Print\n",
        "print('''\n",
        "Records with missing/ ('?') FTI measurement records from the (FTI_measured) \n",
        "column indicate that the subject did not undergo an FTI test hence the anormally\n",
        "shall have appropiate values imputated\n",
        "''')\n",
        "\n",
        "# Explore records with missing age record\n",
        "hypothyroid_df.loc[hypothyroid_df['FTI'] == '?'].head()"
      ]
    },
    {
      "cell_type": "code",
      "execution_count": null,
      "metadata": {
        "colab": {
          "base_uri": "https://localhost:8080/"
        },
        "id": "MWLn8nHXyLNx",
        "outputId": "155e3959-99da-4e2c-9d5d-0bf318eae86b"
      },
      "outputs": [
        {
          "output_type": "stream",
          "name": "stdout",
          "text": [
            "['?' '28' '34' '0' '19' '30' '25' '48' '39' '31' '16' '21' '37' '40' '27'\n",
            " '3.10' '38' '108' '20' '36' '17' '23' '35' '32' '63' '9.30' '15' '26'\n",
            " '33' '41' '110' '22' '43' '53' '80' '47' '29' '13' '24' '18' '45' '86'\n",
            " '50' '8.40' '52' '11' '12' '14' '65' '7.30' '8.50' '69' '122']\n"
          ]
        }
      ],
      "source": [
        "# Preview unique values in FTI Column\n",
        "print(hypothyroid_df['TBG'].unique())"
      ]
    },
    {
      "cell_type": "code",
      "execution_count": null,
      "metadata": {
        "colab": {
          "base_uri": "https://localhost:8080/"
        },
        "id": "uIEFCsxszFun",
        "outputId": "31a87bd1-7b76-42df-dac9-3a241782bcb7"
      },
      "outputs": [
        {
          "output_type": "stream",
          "name": "stdout",
          "text": [
            "\n",
            "Records with missing/ ('?') TBG measurement records from the (TBG_measured) \n",
            "column indicate that the subject did not undergo an TBG test hence the anormally\n",
            "shall have appropiate values imputated\n",
            "\n"
          ]
        },
        {
          "output_type": "execute_result",
          "data": {
            "text/plain": [
              "        status age sex on_thyroxine query_on_thyroxine  \\\n",
              "0  hypothyroid  72   M            f                  f   \n",
              "1  hypothyroid  15   F            t                  f   \n",
              "2  hypothyroid  24   M            f                  f   \n",
              "3  hypothyroid  24   F            f                  f   \n",
              "4  hypothyroid  77   M            f                  f   \n",
              "\n",
              "  on_antithyroid_medication thyroid_surgery query_hypothyroid  \\\n",
              "0                         f               f                 f   \n",
              "1                         f               f                 f   \n",
              "2                         f               f                 f   \n",
              "3                         f               f                 f   \n",
              "4                         f               f                 f   \n",
              "\n",
              "  query_hyperthyroid pregnant  ... T3_measured    T3 TT4_measured TT4  \\\n",
              "0                  f        f  ...           y  0.60            y  15   \n",
              "1                  f        f  ...           y  1.70            y  19   \n",
              "2                  f        f  ...           y  0.20            y   4   \n",
              "3                  f        f  ...           y  0.40            y   6   \n",
              "4                  f        f  ...           y  1.20            y  57   \n",
              "\n",
              "  T4U_measured   T4U FTI_measured FTI TBG_measured TBG  \n",
              "0            y  1.48            y  10            n   ?  \n",
              "1            y  1.13            y  17            n   ?  \n",
              "2            y     1            y   0            n   ?  \n",
              "3            y  1.04            y   6            n   ?  \n",
              "4            y  1.28            y  44            n   ?  \n",
              "\n",
              "[5 rows x 26 columns]"
            ],
            "text/html": [
              "\n",
              "  <div id=\"df-8f3009d2-efed-4b2f-8475-2fb586308ead\">\n",
              "    <div class=\"colab-df-container\">\n",
              "      <div>\n",
              "<style scoped>\n",
              "    .dataframe tbody tr th:only-of-type {\n",
              "        vertical-align: middle;\n",
              "    }\n",
              "\n",
              "    .dataframe tbody tr th {\n",
              "        vertical-align: top;\n",
              "    }\n",
              "\n",
              "    .dataframe thead th {\n",
              "        text-align: right;\n",
              "    }\n",
              "</style>\n",
              "<table border=\"1\" class=\"dataframe\">\n",
              "  <thead>\n",
              "    <tr style=\"text-align: right;\">\n",
              "      <th></th>\n",
              "      <th>status</th>\n",
              "      <th>age</th>\n",
              "      <th>sex</th>\n",
              "      <th>on_thyroxine</th>\n",
              "      <th>query_on_thyroxine</th>\n",
              "      <th>on_antithyroid_medication</th>\n",
              "      <th>thyroid_surgery</th>\n",
              "      <th>query_hypothyroid</th>\n",
              "      <th>query_hyperthyroid</th>\n",
              "      <th>pregnant</th>\n",
              "      <th>...</th>\n",
              "      <th>T3_measured</th>\n",
              "      <th>T3</th>\n",
              "      <th>TT4_measured</th>\n",
              "      <th>TT4</th>\n",
              "      <th>T4U_measured</th>\n",
              "      <th>T4U</th>\n",
              "      <th>FTI_measured</th>\n",
              "      <th>FTI</th>\n",
              "      <th>TBG_measured</th>\n",
              "      <th>TBG</th>\n",
              "    </tr>\n",
              "  </thead>\n",
              "  <tbody>\n",
              "    <tr>\n",
              "      <th>0</th>\n",
              "      <td>hypothyroid</td>\n",
              "      <td>72</td>\n",
              "      <td>M</td>\n",
              "      <td>f</td>\n",
              "      <td>f</td>\n",
              "      <td>f</td>\n",
              "      <td>f</td>\n",
              "      <td>f</td>\n",
              "      <td>f</td>\n",
              "      <td>f</td>\n",
              "      <td>...</td>\n",
              "      <td>y</td>\n",
              "      <td>0.60</td>\n",
              "      <td>y</td>\n",
              "      <td>15</td>\n",
              "      <td>y</td>\n",
              "      <td>1.48</td>\n",
              "      <td>y</td>\n",
              "      <td>10</td>\n",
              "      <td>n</td>\n",
              "      <td>?</td>\n",
              "    </tr>\n",
              "    <tr>\n",
              "      <th>1</th>\n",
              "      <td>hypothyroid</td>\n",
              "      <td>15</td>\n",
              "      <td>F</td>\n",
              "      <td>t</td>\n",
              "      <td>f</td>\n",
              "      <td>f</td>\n",
              "      <td>f</td>\n",
              "      <td>f</td>\n",
              "      <td>f</td>\n",
              "      <td>f</td>\n",
              "      <td>...</td>\n",
              "      <td>y</td>\n",
              "      <td>1.70</td>\n",
              "      <td>y</td>\n",
              "      <td>19</td>\n",
              "      <td>y</td>\n",
              "      <td>1.13</td>\n",
              "      <td>y</td>\n",
              "      <td>17</td>\n",
              "      <td>n</td>\n",
              "      <td>?</td>\n",
              "    </tr>\n",
              "    <tr>\n",
              "      <th>2</th>\n",
              "      <td>hypothyroid</td>\n",
              "      <td>24</td>\n",
              "      <td>M</td>\n",
              "      <td>f</td>\n",
              "      <td>f</td>\n",
              "      <td>f</td>\n",
              "      <td>f</td>\n",
              "      <td>f</td>\n",
              "      <td>f</td>\n",
              "      <td>f</td>\n",
              "      <td>...</td>\n",
              "      <td>y</td>\n",
              "      <td>0.20</td>\n",
              "      <td>y</td>\n",
              "      <td>4</td>\n",
              "      <td>y</td>\n",
              "      <td>1</td>\n",
              "      <td>y</td>\n",
              "      <td>0</td>\n",
              "      <td>n</td>\n",
              "      <td>?</td>\n",
              "    </tr>\n",
              "    <tr>\n",
              "      <th>3</th>\n",
              "      <td>hypothyroid</td>\n",
              "      <td>24</td>\n",
              "      <td>F</td>\n",
              "      <td>f</td>\n",
              "      <td>f</td>\n",
              "      <td>f</td>\n",
              "      <td>f</td>\n",
              "      <td>f</td>\n",
              "      <td>f</td>\n",
              "      <td>f</td>\n",
              "      <td>...</td>\n",
              "      <td>y</td>\n",
              "      <td>0.40</td>\n",
              "      <td>y</td>\n",
              "      <td>6</td>\n",
              "      <td>y</td>\n",
              "      <td>1.04</td>\n",
              "      <td>y</td>\n",
              "      <td>6</td>\n",
              "      <td>n</td>\n",
              "      <td>?</td>\n",
              "    </tr>\n",
              "    <tr>\n",
              "      <th>4</th>\n",
              "      <td>hypothyroid</td>\n",
              "      <td>77</td>\n",
              "      <td>M</td>\n",
              "      <td>f</td>\n",
              "      <td>f</td>\n",
              "      <td>f</td>\n",
              "      <td>f</td>\n",
              "      <td>f</td>\n",
              "      <td>f</td>\n",
              "      <td>f</td>\n",
              "      <td>...</td>\n",
              "      <td>y</td>\n",
              "      <td>1.20</td>\n",
              "      <td>y</td>\n",
              "      <td>57</td>\n",
              "      <td>y</td>\n",
              "      <td>1.28</td>\n",
              "      <td>y</td>\n",
              "      <td>44</td>\n",
              "      <td>n</td>\n",
              "      <td>?</td>\n",
              "    </tr>\n",
              "  </tbody>\n",
              "</table>\n",
              "<p>5 rows × 26 columns</p>\n",
              "</div>\n",
              "      <button class=\"colab-df-convert\" onclick=\"convertToInteractive('df-8f3009d2-efed-4b2f-8475-2fb586308ead')\"\n",
              "              title=\"Convert this dataframe to an interactive table.\"\n",
              "              style=\"display:none;\">\n",
              "        \n",
              "  <svg xmlns=\"http://www.w3.org/2000/svg\" height=\"24px\"viewBox=\"0 0 24 24\"\n",
              "       width=\"24px\">\n",
              "    <path d=\"M0 0h24v24H0V0z\" fill=\"none\"/>\n",
              "    <path d=\"M18.56 5.44l.94 2.06.94-2.06 2.06-.94-2.06-.94-.94-2.06-.94 2.06-2.06.94zm-11 1L8.5 8.5l.94-2.06 2.06-.94-2.06-.94L8.5 2.5l-.94 2.06-2.06.94zm10 10l.94 2.06.94-2.06 2.06-.94-2.06-.94-.94-2.06-.94 2.06-2.06.94z\"/><path d=\"M17.41 7.96l-1.37-1.37c-.4-.4-.92-.59-1.43-.59-.52 0-1.04.2-1.43.59L10.3 9.45l-7.72 7.72c-.78.78-.78 2.05 0 2.83L4 21.41c.39.39.9.59 1.41.59.51 0 1.02-.2 1.41-.59l7.78-7.78 2.81-2.81c.8-.78.8-2.07 0-2.86zM5.41 20L4 18.59l7.72-7.72 1.47 1.35L5.41 20z\"/>\n",
              "  </svg>\n",
              "      </button>\n",
              "      \n",
              "  <style>\n",
              "    .colab-df-container {\n",
              "      display:flex;\n",
              "      flex-wrap:wrap;\n",
              "      gap: 12px;\n",
              "    }\n",
              "\n",
              "    .colab-df-convert {\n",
              "      background-color: #E8F0FE;\n",
              "      border: none;\n",
              "      border-radius: 50%;\n",
              "      cursor: pointer;\n",
              "      display: none;\n",
              "      fill: #1967D2;\n",
              "      height: 32px;\n",
              "      padding: 0 0 0 0;\n",
              "      width: 32px;\n",
              "    }\n",
              "\n",
              "    .colab-df-convert:hover {\n",
              "      background-color: #E2EBFA;\n",
              "      box-shadow: 0px 1px 2px rgba(60, 64, 67, 0.3), 0px 1px 3px 1px rgba(60, 64, 67, 0.15);\n",
              "      fill: #174EA6;\n",
              "    }\n",
              "\n",
              "    [theme=dark] .colab-df-convert {\n",
              "      background-color: #3B4455;\n",
              "      fill: #D2E3FC;\n",
              "    }\n",
              "\n",
              "    [theme=dark] .colab-df-convert:hover {\n",
              "      background-color: #434B5C;\n",
              "      box-shadow: 0px 1px 3px 1px rgba(0, 0, 0, 0.15);\n",
              "      filter: drop-shadow(0px 1px 2px rgba(0, 0, 0, 0.3));\n",
              "      fill: #FFFFFF;\n",
              "    }\n",
              "  </style>\n",
              "\n",
              "      <script>\n",
              "        const buttonEl =\n",
              "          document.querySelector('#df-8f3009d2-efed-4b2f-8475-2fb586308ead button.colab-df-convert');\n",
              "        buttonEl.style.display =\n",
              "          google.colab.kernel.accessAllowed ? 'block' : 'none';\n",
              "\n",
              "        async function convertToInteractive(key) {\n",
              "          const element = document.querySelector('#df-8f3009d2-efed-4b2f-8475-2fb586308ead');\n",
              "          const dataTable =\n",
              "            await google.colab.kernel.invokeFunction('convertToInteractive',\n",
              "                                                     [key], {});\n",
              "          if (!dataTable) return;\n",
              "\n",
              "          const docLinkHtml = 'Like what you see? Visit the ' +\n",
              "            '<a target=\"_blank\" href=https://colab.research.google.com/notebooks/data_table.ipynb>data table notebook</a>'\n",
              "            + ' to learn more about interactive tables.';\n",
              "          element.innerHTML = '';\n",
              "          dataTable['output_type'] = 'display_data';\n",
              "          await google.colab.output.renderOutput(dataTable, element);\n",
              "          const docLink = document.createElement('div');\n",
              "          docLink.innerHTML = docLinkHtml;\n",
              "          element.appendChild(docLink);\n",
              "        }\n",
              "      </script>\n",
              "    </div>\n",
              "  </div>\n",
              "  "
            ]
          },
          "metadata": {},
          "execution_count": 20
        }
      ],
      "source": [
        "# Print\n",
        "print('''\n",
        "Records with missing/ ('?') TBG measurement records from the (TBG_measured) \n",
        "column indicate that the subject did not undergo an TBG test hence the anormally\n",
        "shall have appropiate values imputated\n",
        "''')\n",
        "\n",
        "# Explore records with missing age record\n",
        "hypothyroid_df.loc[hypothyroid_df['TBG'] == '?'].head()\n"
      ]
    },
    {
      "cell_type": "code",
      "execution_count": null,
      "metadata": {
        "colab": {
          "base_uri": "https://localhost:8080/"
        },
        "id": "TkzOPtin_Q_c",
        "outputId": "278d7ce9-5d0e-413c-f632-705aca677279"
      },
      "outputs": [
        {
          "output_type": "stream",
          "name": "stdout",
          "text": [
            "['M' 'F' '?']\n"
          ]
        },
        {
          "output_type": "execute_result",
          "data": {
            "text/plain": [
              "F    2182\n",
              "M     908\n",
              "?      73\n",
              "Name: sex, dtype: int64"
            ]
          },
          "metadata": {},
          "execution_count": 21
        }
      ],
      "source": [
        "# Preview unique values in sex Column\n",
        "print(hypothyroid_df['sex'].unique())\n",
        "\n",
        "# Value counts of unique records in sex of test subject\n",
        "hypothyroid_df['sex'].value_counts()"
      ]
    },
    {
      "cell_type": "markdown",
      "metadata": {
        "id": "59AQvGnX_dwA"
      },
      "source": [
        "The attribute sex has three attributes. Male, Female and (?). The third record indicates the test subject did not have his/her gender taken.\n",
        "\n",
        "The record might also imply the respondent gender does fall into either male and female they might be trans.\n",
        "\n",
        "These gender shall not be disregarded or replaced with traditional gender roles of male and female. A unique gender shall be assigned to this class (Unique=U)\n",
        "\n",
        "Individuals in these class shall be factored in since these individuals might be on hormone balancing medication which migh affect results of (TSH, T3, T4U, TTU, and FTI) tests. "
      ]
    },
    {
      "cell_type": "code",
      "execution_count": null,
      "metadata": {
        "id": "bMv7oBfkDzp6"
      },
      "outputs": [],
      "source": [
        "# Replacing the (?) value with (Unique= U)\n",
        "hypothyroid_df['sex'] = hypothyroid_df['sex'].replace(['?'],['U'])\n"
      ]
    },
    {
      "cell_type": "code",
      "execution_count": null,
      "metadata": {
        "colab": {
          "base_uri": "https://localhost:8080/"
        },
        "id": "Cv7Bfu7oB-_a",
        "outputId": "f7f9850e-59f3-4790-b6ce-759daf4fdcc5"
      },
      "outputs": [
        {
          "output_type": "execute_result",
          "data": {
            "text/plain": [
              "F    2182\n",
              "M     908\n",
              "U      73\n",
              "Name: sex, dtype: int64"
            ]
          },
          "metadata": {},
          "execution_count": 23
        }
      ],
      "source": [
        "# Value counts of unique records in sex of test subject\n",
        "hypothyroid_df['sex'].value_counts()"
      ]
    },
    {
      "cell_type": "code",
      "execution_count": null,
      "metadata": {
        "colab": {
          "base_uri": "https://localhost:8080/"
        },
        "id": "Lm6nmt-s9NIr",
        "outputId": "559a97ae-4b66-4a04-89e3-3aabe6d42a3d"
      },
      "outputs": [
        {
          "output_type": "execute_result",
          "data": {
            "text/plain": [
              "negative       3012\n",
              "hypothyroid     151\n",
              "Name: status, dtype: int64"
            ]
          },
          "metadata": {},
          "execution_count": 24
        }
      ],
      "source": [
        "# Value counts of unique records in status of test subject\n",
        "hypothyroid_df['status'].value_counts()"
      ]
    },
    {
      "cell_type": "markdown",
      "metadata": {
        "id": "baVpddR1hVW3"
      },
      "source": [
        "## Tidying dataframe"
      ]
    },
    {
      "cell_type": "markdown",
      "metadata": {
        "id": "OM9bIUWXkt4c"
      },
      "source": [
        "### Validity"
      ]
    },
    {
      "cell_type": "markdown",
      "metadata": {
        "id": "ao1B6xQIz-OU"
      },
      "source": [
        "The columns are appopiately named and all columns are valid for subsequent analysis"
      ]
    },
    {
      "cell_type": "code",
      "execution_count": null,
      "metadata": {
        "colab": {
          "base_uri": "https://localhost:8080/"
        },
        "id": "Pb-uQoTDktY3",
        "outputId": "dc2c06e3-9855-444d-817f-6adebec80d89"
      },
      "outputs": [
        {
          "output_type": "stream",
          "name": "stdout",
          "text": [
            "<class 'pandas.core.frame.DataFrame'>\n",
            "RangeIndex: 3163 entries, 0 to 3162\n",
            "Data columns (total 26 columns):\n",
            " #   Column                     Non-Null Count  Dtype \n",
            "---  ------                     --------------  ----- \n",
            " 0   status                     3163 non-null   object\n",
            " 1   age                        3163 non-null   object\n",
            " 2   sex                        3163 non-null   object\n",
            " 3   on_thyroxine               3163 non-null   object\n",
            " 4   query_on_thyroxine         3163 non-null   object\n",
            " 5   on_antithyroid_medication  3163 non-null   object\n",
            " 6   thyroid_surgery            3163 non-null   object\n",
            " 7   query_hypothyroid          3163 non-null   object\n",
            " 8   query_hyperthyroid         3163 non-null   object\n",
            " 9   pregnant                   3163 non-null   object\n",
            " 10  sick                       3163 non-null   object\n",
            " 11  tumor                      3163 non-null   object\n",
            " 12  lithium                    3163 non-null   object\n",
            " 13  goitre                     3163 non-null   object\n",
            " 14  TSH_measured               3163 non-null   object\n",
            " 15  TSH                        3163 non-null   object\n",
            " 16  T3_measured                3163 non-null   object\n",
            " 17  T3                         3163 non-null   object\n",
            " 18  TT4_measured               3163 non-null   object\n",
            " 19  TT4                        3163 non-null   object\n",
            " 20  T4U_measured               3163 non-null   object\n",
            " 21  T4U                        3163 non-null   object\n",
            " 22  FTI_measured               3163 non-null   object\n",
            " 23  FTI                        3163 non-null   object\n",
            " 24  TBG_measured               3163 non-null   object\n",
            " 25  TBG                        3163 non-null   object\n",
            "dtypes: object(26)\n",
            "memory usage: 642.6+ KB\n"
          ]
        }
      ],
      "source": [
        "# Converting columns to appropiate datatypes\n",
        "hypothyroid_df.info()"
      ]
    },
    {
      "cell_type": "code",
      "execution_count": null,
      "metadata": {
        "colab": {
          "base_uri": "https://localhost:8080/"
        },
        "id": "a-75FfO7k6lP",
        "outputId": "4e916a30-c6fe-40ef-c5a4-f1e4b5d29ab1"
      },
      "outputs": [
        {
          "output_type": "stream",
          "name": "stdout",
          "text": [
            "<class 'pandas.core.frame.DataFrame'>\n",
            "RangeIndex: 3163 entries, 0 to 3162\n",
            "Data columns (total 26 columns):\n",
            " #   Column                     Non-Null Count  Dtype  \n",
            "---  ------                     --------------  -----  \n",
            " 0   status                     3163 non-null   object \n",
            " 1   age                        2717 non-null   float64\n",
            " 2   sex                        3163 non-null   object \n",
            " 3   on_thyroxine               3163 non-null   object \n",
            " 4   query_on_thyroxine         3163 non-null   object \n",
            " 5   on_antithyroid_medication  3163 non-null   object \n",
            " 6   thyroid_surgery            3163 non-null   object \n",
            " 7   query_hypothyroid          3163 non-null   object \n",
            " 8   query_hyperthyroid         3163 non-null   object \n",
            " 9   pregnant                   3163 non-null   object \n",
            " 10  sick                       3163 non-null   object \n",
            " 11  tumor                      3163 non-null   object \n",
            " 12  lithium                    3163 non-null   object \n",
            " 13  goitre                     3163 non-null   object \n",
            " 14  TSH_measured               3163 non-null   object \n",
            " 15  TSH                        2695 non-null   float64\n",
            " 16  T3_measured                3163 non-null   object \n",
            " 17  T3                         2468 non-null   float64\n",
            " 18  TT4_measured               3163 non-null   object \n",
            " 19  TT4                        2914 non-null   float64\n",
            " 20  T4U_measured               3163 non-null   object \n",
            " 21  T4U                        2915 non-null   float64\n",
            " 22  FTI_measured               3163 non-null   object \n",
            " 23  FTI                        2916 non-null   float64\n",
            " 24  TBG_measured               3163 non-null   object \n",
            " 25  TBG                        260 non-null    float64\n",
            "dtypes: float64(7), object(19)\n",
            "memory usage: 642.6+ KB\n"
          ]
        }
      ],
      "source": [
        "# Specifying columns\n",
        "columns = ['age','TSH', 'T3', 'TT4', 'T4U', 'FTI', 'TBG']\n",
        "\n",
        "# Converting columns from object to float datatype\n",
        "hypothyroid_df[columns] = hypothyroid_df[columns].apply(pd.to_numeric, errors='coerce')\n",
        "\n",
        "# Check the columns \n",
        "hypothyroid_df.info()"
      ]
    },
    {
      "cell_type": "markdown",
      "metadata": {
        "id": "CdMnkFpfhcfW"
      },
      "source": [
        "### Null values"
      ]
    },
    {
      "cell_type": "code",
      "execution_count": null,
      "metadata": {
        "colab": {
          "base_uri": "https://localhost:8080/"
        },
        "id": "6y6IOqXzhVFc",
        "outputId": "4e335539-a535-48be-a5cb-854633ed9faa"
      },
      "outputs": [
        {
          "output_type": "execute_result",
          "data": {
            "text/plain": [
              "status                          0\n",
              "age                           446\n",
              "sex                             0\n",
              "on_thyroxine                    0\n",
              "query_on_thyroxine              0\n",
              "on_antithyroid_medication       0\n",
              "thyroid_surgery                 0\n",
              "query_hypothyroid               0\n",
              "query_hyperthyroid              0\n",
              "pregnant                        0\n",
              "sick                            0\n",
              "tumor                           0\n",
              "lithium                         0\n",
              "goitre                          0\n",
              "TSH_measured                    0\n",
              "TSH                           468\n",
              "T3_measured                     0\n",
              "T3                            695\n",
              "TT4_measured                    0\n",
              "TT4                           249\n",
              "T4U_measured                    0\n",
              "T4U                           248\n",
              "FTI_measured                    0\n",
              "FTI                           247\n",
              "TBG_measured                    0\n",
              "TBG                          2903\n",
              "dtype: int64"
            ]
          },
          "metadata": {},
          "execution_count": 27
        }
      ],
      "source": [
        "# Null values\n",
        "hypothyroid_df.isnull().sum()"
      ]
    },
    {
      "cell_type": "code",
      "execution_count": null,
      "metadata": {
        "colab": {
          "base_uri": "https://localhost:8080/"
        },
        "id": "iuQ6VsAq_Bep",
        "outputId": "85021e68-ba14-4b7a-8a0e-e21bfab422ac"
      },
      "outputs": [
        {
          "output_type": "execute_result",
          "data": {
            "text/plain": [
              "status                       0.000000\n",
              "age                          0.141005\n",
              "sex                          0.000000\n",
              "on_thyroxine                 0.000000\n",
              "query_on_thyroxine           0.000000\n",
              "on_antithyroid_medication    0.000000\n",
              "thyroid_surgery              0.000000\n",
              "query_hypothyroid            0.000000\n",
              "query_hyperthyroid           0.000000\n",
              "pregnant                     0.000000\n",
              "sick                         0.000000\n",
              "tumor                        0.000000\n",
              "lithium                      0.000000\n",
              "goitre                       0.000000\n",
              "TSH_measured                 0.000000\n",
              "TSH                          0.147961\n",
              "T3_measured                  0.000000\n",
              "T3                           0.219728\n",
              "TT4_measured                 0.000000\n",
              "TT4                          0.078723\n",
              "T4U_measured                 0.000000\n",
              "T4U                          0.078407\n",
              "FTI_measured                 0.000000\n",
              "FTI                          0.078090\n",
              "TBG_measured                 0.000000\n",
              "TBG                          0.917800\n",
              "dtype: float64"
            ]
          },
          "metadata": {},
          "execution_count": 28
        }
      ],
      "source": [
        "# Percentage of missing values per record\n",
        "hypothyroid_df.isnull().sum()/len(hypothyroid_df)"
      ]
    },
    {
      "cell_type": "markdown",
      "metadata": {
        "id": "eJTPk69_iIiz"
      },
      "source": [
        "The  thyroxine binding globulin (TBG) column had the highest number of missing records of slightly over 90% missing values. Healthcare providers use the results of a TBG test to help them assess thyroid problems, including hypothyroidism (low thyroid hormone levels) and hyperthyroidism (high thyroid hormone levels), as well as to identify other conditions that may be altering the levels or activity of the thyroid hormones in your blood.\n",
        "\n",
        "However, this test doesn't paint a complete picture of thyroid function (or any other disease or condition). It must be considered along with other tests of thyroid function, which may include:\n",
        "\n",
        "- Thyroid-stimulating hormone (TSH) test\n",
        "- Free T4 test (also called free thyroxine)\n",
        "- Total T4 test (total thyroxine)\n",
        "- Free T3 test (free triiodothyronine)\n",
        "- Total T3 test (total triiodothyronine)\n",
        "\n",
        "Hence due to the large number of records with missing values in this column and it's relative unimportance in diagnosing hyperthyrodism and its relation to T4 and T3 in the body, the column shall be dropped\n",
        "\n",
        "The other columns (age, TSH, T3, TT4, T4U, and FTI) shall have their missing records imputed due to their importance in hyperthyrodism diagnosis"
      ]
    },
    {
      "cell_type": "code",
      "execution_count": null,
      "metadata": {
        "id": "nBGliJx6EoTy"
      },
      "outputs": [],
      "source": [
        "# Dropping column with thyroxine binding globulin test data due to a very high number of missing records\n",
        "hypothyroid_df = hypothyroid_df.drop(columns = ['TBG'], axis =1)"
      ]
    },
    {
      "cell_type": "code",
      "execution_count": null,
      "metadata": {
        "colab": {
          "base_uri": "https://localhost:8080/"
        },
        "id": "DXSXOq76Vs-6",
        "outputId": "cc35d245-ca06-47ad-a614-4a8ea1e02fc7"
      },
      "outputs": [
        {
          "output_type": "stream",
          "name": "stdout",
          "text": [
            "Iteration: 0\n",
            "Iteration: 1\n",
            "Iteration: 2\n",
            "Iteration: 3\n",
            "Iteration: 4\n"
          ]
        }
      ],
      "source": [
        "# Making an instance and performing the imputation\n",
        "imputer = MissForest(criterion=\"squared_error\" )\n",
        "\n",
        "# Selecting columns that need imputation\n",
        "X = hypothyroid_df[['age', 'TSH', 'T3', 'TT4', 'T4U', 'FTI']]\n",
        "\n",
        "# imputation\n",
        "X_imputed = imputer.fit_transform(X)"
      ]
    },
    {
      "cell_type": "code",
      "execution_count": null,
      "metadata": {
        "id": "Rq80EgG6lDTf"
      },
      "outputs": [],
      "source": [
        "# converting imputed array to dataframe\n",
        "X = pd.DataFrame(X_imputed, columns = X.columns)\n",
        "\n",
        "# Creating dataframe with imputed  columns droped\n",
        "Y = hypothyroid_df.drop(columns = ['age', 'TSH', 'T3', 'TT4', 'T4U', 'FTI'])\n",
        "\n",
        "# Setting index column on imputed dataframe\n",
        "X['index_col'] = X.index\n",
        "\n",
        "# Setting index column\n",
        "Y['index_col'] = Y.index"
      ]
    },
    {
      "cell_type": "code",
      "execution_count": null,
      "metadata": {
        "id": "m4_ozj4vqaA_"
      },
      "outputs": [],
      "source": [
        "# Joining imputed dataframe with one with original data\n",
        "hypothyroid = Y.join(X.set_index('index_col'), on='index_col')\n",
        "\n",
        "# dropping index column\n",
        "hypothyroid_df = hypothyroid.drop(columns = ['index_col'])"
      ]
    },
    {
      "cell_type": "markdown",
      "metadata": {
        "id": "chm7b2HLiK_3"
      },
      "source": [
        "### Duplicates"
      ]
    },
    {
      "cell_type": "code",
      "execution_count": null,
      "metadata": {
        "colab": {
          "base_uri": "https://localhost:8080/"
        },
        "id": "6b82w27SiNtR",
        "outputId": "70ee1674-6982-44bc-b3f7-47fcfea0f2ff"
      },
      "outputs": [
        {
          "output_type": "stream",
          "name": "stdout",
          "text": [
            "The dataframe has 152 duplicate records\n",
            "The duplicate records account for 4.8055643376541255 percent of  records\n"
          ]
        }
      ],
      "source": [
        "# Check for duplicates\n",
        "print(f'The dataframe has {hypothyroid_df.duplicated().sum()} duplicate records')\n",
        "\n",
        "# Percentage of duplicate records relative to total number of records in dataframe\n",
        "print(f'The duplicate records account for {(hypothyroid_df.duplicated().sum() / len(hypothyroid_df)) * 100} percent of  records')"
      ]
    },
    {
      "cell_type": "markdown",
      "metadata": {
        "id": "L2cgOAF7j8TH"
      },
      "source": [
        "The duplicate values make up less tha 4.932% of the records hence shall be dropped"
      ]
    },
    {
      "cell_type": "code",
      "execution_count": null,
      "metadata": {
        "colab": {
          "base_uri": "https://localhost:8080/"
        },
        "id": "JMqepj86ibzf",
        "outputId": "96231767-a976-439b-eb06-3d51c736b600"
      },
      "outputs": [
        {
          "output_type": "execute_result",
          "data": {
            "text/plain": [
              "0"
            ]
          },
          "metadata": {},
          "execution_count": 34
        }
      ],
      "source": [
        "# Dropping duplicate value\n",
        "hypothyroid_df.drop_duplicates(keep=False,inplace=True)\n",
        "\n",
        "# confirm presence of any further duplicates\n",
        "hypothyroid_df.duplicated().any().sum()"
      ]
    },
    {
      "cell_type": "markdown",
      "metadata": {
        "id": "XM-DbTL2iZSF"
      },
      "source": [
        "All Duplicate values succefully dropped"
      ]
    },
    {
      "cell_type": "markdown",
      "metadata": {
        "id": "OvSgZpFKkRlY"
      },
      "source": [
        "### Outliers"
      ]
    },
    {
      "cell_type": "code",
      "execution_count": null,
      "metadata": {
        "colab": {
          "base_uri": "https://localhost:8080/"
        },
        "id": "mlCGFz5rkQ_X",
        "outputId": "11fcbbaa-9fd6-4ddd-e5a3-a38b7ed2a2b3"
      },
      "outputs": [
        {
          "output_type": "display_data",
          "data": {
            "text/plain": [
              "<Figure size 576x2880 with 6 Axes>"
            ],
            "image/png": "[encoded data removed]"
          },
          "metadata": {
            "needs_background": "light"
          }
        }
      ],
      "source": [
        "# 1. Outliers\n",
        "# Check for outliers\n",
        "column_names = ['age', 'TSH', 'T3', 'TT4', 'T4U', 'FTI']\n",
        "\n",
        "fig, ax = plt.subplots(len(column_names), figsize=(8,40))\n",
        "\n",
        "for i, col_val in enumerate(column_names):\n",
        "    sns.boxplot(y=hypothyroid_df[col_val], ax=ax[i])\n",
        "    ax[i].set_title('Box plot - {}'.format(col_val), fontsize=10)\n",
        "    ax[i].set_xlabel(col_val, fontsize=8)\n",
        "\n",
        "plt.show()"
      ]
    },
    {
      "cell_type": "markdown",
      "metadata": {
        "id": "2p876WwAx3PV"
      },
      "source": [
        "Outliers observed in ('TSH', 'T3', 'TT4', 'T4U', 'FTI') columns. They shall be retained since these are hormone levels and very high and low leves of tgese hormones are indicators of one either suffering or not sufferinbg from hyperthyrodism\n",
        "\n"
      ]
    },
    {
      "cell_type": "markdown",
      "metadata": {
        "id": "ypbck3qNz1Rn"
      },
      "source": [
        "## Exploratory Data Analysis"
      ]
    },
    {
      "cell_type": "markdown",
      "metadata": {
        "id": "a4yEU1ua0Lcw"
      },
      "source": [
        "### Univariate analysis"
      ]
    },
    {
      "cell_type": "code",
      "execution_count": null,
      "metadata": {
        "colab": {
          "base_uri": "https://localhost:8080/"
        },
        "id": "nEJq1bGgz0g_",
        "outputId": "22fa8dd2-e1b3-4dcd-ae28-ce8f02a5fa96"
      },
      "outputs": [
        {
          "output_type": "execute_result",
          "data": {
            "text/plain": [
              "               age          TSH           T3          TT4          T4U  \\\n",
              "count  2895.000000  2895.000000  2895.000000  2895.000000  2895.000000   \n",
              "mean     51.613493     5.500448     1.984122   108.371351     0.986815   \n",
              "std      18.206114    22.917037     0.920064    42.785277     0.225744   \n",
              "min       1.000000     0.000000     0.000000     2.000000     0.200000   \n",
              "25%      38.000000     0.000000     1.500000    85.000000     0.860000   \n",
              "50%      53.570000     0.830000     1.900000   103.860000     0.970000   \n",
              "75%      65.610000     2.678000     2.300000   125.000000     1.080000   \n",
              "max      98.000000   530.000000    10.200000   450.000000     2.210000   \n",
              "\n",
              "               FTI  \n",
              "count  2895.000000  \n",
              "mean    114.357530  \n",
              "std      59.154672  \n",
              "min       0.000000  \n",
              "25%      89.000000  \n",
              "50%     106.000000  \n",
              "75%     127.000000  \n",
              "max     881.000000  "
            ],
            "text/html": [
              "\n",
              "  <div id=\"df-e26ceaa5-e580-401a-a4e4-2d8734fbf5ec\">\n",
              "    <div class=\"colab-df-container\">\n",
              "      <div>\n",
              "<style scoped>\n",
              "    .dataframe tbody tr th:only-of-type {\n",
              "        vertical-align: middle;\n",
              "    }\n",
              "\n",
              "    .dataframe tbody tr th {\n",
              "        vertical-align: top;\n",
              "    }\n",
              "\n",
              "    .dataframe thead th {\n",
              "        text-align: right;\n",
              "    }\n",
              "</style>\n",
              "<table border=\"1\" class=\"dataframe\">\n",
              "  <thead>\n",
              "    <tr style=\"text-align: right;\">\n",
              "      <th></th>\n",
              "      <th>age</th>\n",
              "      <th>TSH</th>\n",
              "      <th>T3</th>\n",
              "      <th>TT4</th>\n",
              "      <th>T4U</th>\n",
              "      <th>FTI</th>\n",
              "    </tr>\n",
              "  </thead>\n",
              "  <tbody>\n",
              "    <tr>\n",
              "      <th>count</th>\n",
              "      <td>2895.000000</td>\n",
              "      <td>2895.000000</td>\n",
              "      <td>2895.000000</td>\n",
              "      <td>2895.000000</td>\n",
              "      <td>2895.000000</td>\n",
              "      <td>2895.000000</td>\n",
              "    </tr>\n",
              "    <tr>\n",
              "      <th>mean</th>\n",
              "      <td>51.613493</td>\n",
              "      <td>5.500448</td>\n",
              "      <td>1.984122</td>\n",
              "      <td>108.371351</td>\n",
              "      <td>0.986815</td>\n",
              "      <td>114.357530</td>\n",
              "    </tr>\n",
              "    <tr>\n",
              "      <th>std</th>\n",
              "      <td>18.206114</td>\n",
              "      <td>22.917037</td>\n",
              "      <td>0.920064</td>\n",
              "      <td>42.785277</td>\n",
              "      <td>0.225744</td>\n",
              "      <td>59.154672</td>\n",
              "    </tr>\n",
              "    <tr>\n",
              "      <th>min</th>\n",
              "      <td>1.000000</td>\n",
              "      <td>0.000000</td>\n",
              "      <td>0.000000</td>\n",
              "      <td>2.000000</td>\n",
              "      <td>0.200000</td>\n",
              "      <td>0.000000</td>\n",
              "    </tr>\n",
              "    <tr>\n",
              "      <th>25%</th>\n",
              "      <td>38.000000</td>\n",
              "      <td>0.000000</td>\n",
              "      <td>1.500000</td>\n",
              "      <td>85.000000</td>\n",
              "      <td>0.860000</td>\n",
              "      <td>89.000000</td>\n",
              "    </tr>\n",
              "    <tr>\n",
              "      <th>50%</th>\n",
              "      <td>53.570000</td>\n",
              "      <td>0.830000</td>\n",
              "      <td>1.900000</td>\n",
              "      <td>103.860000</td>\n",
              "      <td>0.970000</td>\n",
              "      <td>106.000000</td>\n",
              "    </tr>\n",
              "    <tr>\n",
              "      <th>75%</th>\n",
              "      <td>65.610000</td>\n",
              "      <td>2.678000</td>\n",
              "      <td>2.300000</td>\n",
              "      <td>125.000000</td>\n",
              "      <td>1.080000</td>\n",
              "      <td>127.000000</td>\n",
              "    </tr>\n",
              "    <tr>\n",
              "      <th>max</th>\n",
              "      <td>98.000000</td>\n",
              "      <td>530.000000</td>\n",
              "      <td>10.200000</td>\n",
              "      <td>450.000000</td>\n",
              "      <td>2.210000</td>\n",
              "      <td>881.000000</td>\n",
              "    </tr>\n",
              "  </tbody>\n",
              "</table>\n",
              "</div>\n",
              "      <button class=\"colab-df-convert\" onclick=\"convertToInteractive('df-e26ceaa5-e580-401a-a4e4-2d8734fbf5ec')\"\n",
              "              title=\"Convert this dataframe to an interactive table.\"\n",
              "              style=\"display:none;\">\n",
              "        \n",
              "  <svg xmlns=\"http://www.w3.org/2000/svg\" height=\"24px\"viewBox=\"0 0 24 24\"\n",
              "       width=\"24px\">\n",
              "    <path d=\"M0 0h24v24H0V0z\" fill=\"none\"/>\n",
              "    <path d=\"M18.56 5.44l.94 2.06.94-2.06 2.06-.94-2.06-.94-.94-2.06-.94 2.06-2.06.94zm-11 1L8.5 8.5l.94-2.06 2.06-.94-2.06-.94L8.5 2.5l-.94 2.06-2.06.94zm10 10l.94 2.06.94-2.06 2.06-.94-2.06-.94-.94-2.06-.94 2.06-2.06.94z\"/><path d=\"M17.41 7.96l-1.37-1.37c-.4-.4-.92-.59-1.43-.59-.52 0-1.04.2-1.43.59L10.3 9.45l-7.72 7.72c-.78.78-.78 2.05 0 2.83L4 21.41c.39.39.9.59 1.41.59.51 0 1.02-.2 1.41-.59l7.78-7.78 2.81-2.81c.8-.78.8-2.07 0-2.86zM5.41 20L4 18.59l7.72-7.72 1.47 1.35L5.41 20z\"/>\n",
              "  </svg>\n",
              "      </button>\n",
              "      \n",
              "  <style>\n",
              "    .colab-df-container {\n",
              "      display:flex;\n",
              "      flex-wrap:wrap;\n",
              "      gap: 12px;\n",
              "    }\n",
              "\n",
              "    .colab-df-convert {\n",
              "      background-color: #E8F0FE;\n",
              "      border: none;\n",
              "      border-radius: 50%;\n",
              "      cursor: pointer;\n",
              "      display: none;\n",
              "      fill: #1967D2;\n",
              "      height: 32px;\n",
              "      padding: 0 0 0 0;\n",
              "      width: 32px;\n",
              "    }\n",
              "\n",
              "    .colab-df-convert:hover {\n",
              "      background-color: #E2EBFA;\n",
              "      box-shadow: 0px 1px 2px rgba(60, 64, 67, 0.3), 0px 1px 3px 1px rgba(60, 64, 67, 0.15);\n",
              "      fill: #174EA6;\n",
              "    }\n",
              "\n",
              "    [theme=dark] .colab-df-convert {\n",
              "      background-color: #3B4455;\n",
              "      fill: #D2E3FC;\n",
              "    }\n",
              "\n",
              "    [theme=dark] .colab-df-convert:hover {\n",
              "      background-color: #434B5C;\n",
              "      box-shadow: 0px 1px 3px 1px rgba(0, 0, 0, 0.15);\n",
              "      filter: drop-shadow(0px 1px 2px rgba(0, 0, 0, 0.3));\n",
              "      fill: #FFFFFF;\n",
              "    }\n",
              "  </style>\n",
              "\n",
              "      <script>\n",
              "        const buttonEl =\n",
              "          document.querySelector('#df-e26ceaa5-e580-401a-a4e4-2d8734fbf5ec button.colab-df-convert');\n",
              "        buttonEl.style.display =\n",
              "          google.colab.kernel.accessAllowed ? 'block' : 'none';\n",
              "\n",
              "        async function convertToInteractive(key) {\n",
              "          const element = document.querySelector('#df-e26ceaa5-e580-401a-a4e4-2d8734fbf5ec');\n",
              "          const dataTable =\n",
              "            await google.colab.kernel.invokeFunction('convertToInteractive',\n",
              "                                                     [key], {});\n",
              "          if (!dataTable) return;\n",
              "\n",
              "          const docLinkHtml = 'Like what you see? Visit the ' +\n",
              "            '<a target=\"_blank\" href=https://colab.research.google.com/notebooks/data_table.ipynb>data table notebook</a>'\n",
              "            + ' to learn more about interactive tables.';\n",
              "          element.innerHTML = '';\n",
              "          dataTable['output_type'] = 'display_data';\n",
              "          await google.colab.output.renderOutput(dataTable, element);\n",
              "          const docLink = document.createElement('div');\n",
              "          docLink.innerHTML = docLinkHtml;\n",
              "          element.appendChild(docLink);\n",
              "        }\n",
              "      </script>\n",
              "    </div>\n",
              "  </div>\n",
              "  "
            ]
          },
          "metadata": {},
          "execution_count": 36
        }
      ],
      "source": [
        "# Columns to for numeric analysis\n",
        "column_names = ['age', 'TSH', 'T3', 'TT4', 'T4U', 'FTI']\n",
        "\n",
        "# Describe\n",
        "hypothyroid_df[column_names].describe()"
      ]
    },
    {
      "cell_type": "markdown",
      "metadata": {
        "id": "soyWgqUw03X0"
      },
      "source": [
        "Below are the medians, means and standard deviations of the various attributes:\t\t\t\t\n",
        "Mean\n",
        "1. Age- 51.583690\n",
        "2. TSH- 5.577375\n",
        "3. T3- 1.981241\n",
        "4. TT4- 108.308757\n",
        "5. T4U- 0.989280\n",
        "6. FTI- 114.219972\n",
        "\t\t\t\t\t\n",
        "Median\n",
        "1. Age- 53.590000\n",
        "2. TSH- 0.800000\n",
        "3. T3- 1.900000\n",
        "4. TT4- 103.000000\n",
        "5. T4U- 0.970000\n",
        "6. FTI- 106.000000\n",
        "\n",
        "Standard Deviation \t\t\t\t\t\n",
        "1. Age- 18.210983\n",
        "2. TSH- 22.926150\n",
        "3. T3- 0.919726\n",
        "4. TT4- 42.844609\n",
        "5. T4U- 0.229559\n",
        "6. FTI- 59.311542\n",
        "\n",
        "From the data above Thyroid Stimulating Hormone(TSH) showed the highest variation for the different test patients\n",
        "\n",
        "The deviations of others relative to their means was almost the same"
      ]
    },
    {
      "cell_type": "code",
      "execution_count": null,
      "metadata": {
        "colab": {
          "base_uri": "https://localhost:8080/"
        },
        "id": "7nVZjuXi3vMh",
        "outputId": "0f11ab3d-315a-485a-9b02-af85ca1f73fd"
      },
      "outputs": [
        {
          "output_type": "execute_result",
          "data": {
            "text/plain": [
              "age     -0.750818\n",
              "TSH    169.651745\n",
              "T3      12.032903\n",
              "TT4      7.094732\n",
              "T4U      2.999961\n",
              "FTI     51.358704\n",
              "dtype: float64"
            ]
          },
          "metadata": {},
          "execution_count": 37
        }
      ],
      "source": [
        "# Calculation of Kurtosis per variable\n",
        "hypothyroid_df[column_names].kurtosis(axis=0, skipna=True, level=None, numeric_only=None) "
      ]
    },
    {
      "cell_type": "markdown",
      "metadata": {
        "id": "Z5W4GZeT4AT8"
      },
      "source": [
        "All variables aside from age variable had a positive skew. This implied that the variables had more tails than the normal distribution. \n",
        "TSH had the highest kurtosis. "
      ]
    },
    {
      "cell_type": "code",
      "execution_count": null,
      "metadata": {
        "colab": {
          "base_uri": "https://localhost:8080/"
        },
        "id": "WRtoJyVr3_u8",
        "outputId": "2b7487d2-1fbb-4abc-ba7b-a4138a9ca725"
      },
      "outputs": [
        {
          "output_type": "execute_result",
          "data": {
            "text/plain": [
              "age    -0.223937\n",
              "TSH    10.834867\n",
              "T3      2.164705\n",
              "TT4     1.458070\n",
              "T4U     0.862507\n",
              "FTI     5.404924\n",
              "dtype: float64"
            ]
          },
          "metadata": {},
          "execution_count": 38
        }
      ],
      "source": [
        "# Calculation of Kurtosis per variable\n",
        "hypothyroid_df[column_names].skew(axis=0, skipna=True, level=None, numeric_only=None) "
      ]
    },
    {
      "cell_type": "markdown",
      "metadata": {
        "id": "hXLnRqih5V7W"
      },
      "source": [
        "All features aside from age had a positive skew\n",
        "TSH levels had the highest skew to the right"
      ]
    },
    {
      "cell_type": "code",
      "execution_count": null,
      "metadata": {
        "colab": {
          "base_uri": "https://localhost:8080/"
        },
        "id": "1adOrVFd5pqO",
        "outputId": "1fba54d8-f69f-4941-9d3e-a912de6e17f9"
      },
      "outputs": [
        {
          "output_type": "execute_result",
          "data": {
            "text/plain": [
              "negative       2764\n",
              "hypothyroid     131\n",
              "Name: status, dtype: int64"
            ]
          },
          "metadata": {},
          "execution_count": 39
        }
      ],
      "source": [
        "# patients with and without hyperthyrodism\n",
        "hypothyroid_df['status'].value_counts()"
      ]
    },
    {
      "cell_type": "markdown",
      "metadata": {
        "id": "ahC_390F54Ua"
      },
      "source": [
        "- From the data alot more (2758) individuals did not have hyperthyrodism\n",
        "\n",
        "- Only 131 were recorded with hyperthyrodism"
      ]
    },
    {
      "cell_type": "markdown",
      "metadata": {
        "id": "2ysXU-0Q5lpr"
      },
      "source": [
        "**Visualizations**"
      ]
    },
    {
      "cell_type": "code",
      "execution_count": null,
      "metadata": {
        "colab": {
          "base_uri": "https://localhost:8080/"
        },
        "id": "5S9FgmIF6Y2n",
        "outputId": "a8a397e6-03d3-4cb6-e3a2-174826ef9826"
      },
      "outputs": [
        {
          "output_type": "display_data",
          "data": {
            "text/plain": [
              "<Figure size 432x288 with 1 Axes>"
            ],
            "image/png": "[encoded data removed]"
          },
          "metadata": {}
        },
        {
          "output_type": "stream",
          "name": "stdout",
          "text": [
            "\n",
            "A majority of the test subject 67.4% are female. \n",
            "There are three gender classes(Female, male, and Unique)\n",
            "\n"
          ]
        }
      ],
      "source": [
        "# Pie chart plot for match result\n",
        "# Specifying result attribute for matches played in non neutral locations\n",
        "result = hypothyroid_df['sex'].value_counts()\n",
        "\n",
        "# Exploding one part of the pie chart\n",
        "explode = (0, 0.1, 0)\n",
        "\n",
        "# Plotting our pie chart\n",
        "plt.pie(result, explode = explode, labels = result.index, autopct = '%1.1f%%', shadow = True, startangle = 140)\n",
        "\n",
        "# Specifying axis type\n",
        "plt.axis('equal')\n",
        "\n",
        "# Set title\n",
        "plt.title('Pie chart representing sex of respondents')\n",
        "\n",
        "# Show plot\n",
        "plt.show()\n",
        "\n",
        "print('''\n",
        "A majority of the test subject 67.4% are female. \n",
        "There are three gender classes(Female, male, and Unique)\n",
        "''')"
      ]
    },
    {
      "cell_type": "code",
      "execution_count": null,
      "metadata": {
        "colab": {
          "base_uri": "https://localhost:8080/"
        },
        "id": "AtmRmjAP8Zrf",
        "outputId": "4a746cbe-27ca-4819-8f05-b9c622453c89"
      },
      "outputs": [
        {
          "output_type": "display_data",
          "data": {
            "text/plain": [
              "<Figure size 432x288 with 1 Axes>"
            ],
            "image/png": "[encoded data removed]"
          },
          "metadata": {}
        },
        {
          "output_type": "stream",
          "name": "stdout",
          "text": [
            "Less than 3% of the female test subjects are pregnant\n"
          ]
        }
      ],
      "source": [
        "# Pie chart plot for match result\n",
        "# Specifying result attribute for matches played in non neutral locations\n",
        "result = hypothyroid_df.loc[(hypothyroid_df.sex== 'F')]['pregnant'].value_counts()\n",
        "\n",
        "# Exploding one part of the pie chart\n",
        "explode = (0, 0.1)\n",
        "\n",
        "# Plotting our pie chart\n",
        "plt.pie(result, explode = explode, labels = result.index, autopct = '%1.1f%%', shadow = True, startangle = 140)\n",
        "\n",
        "# Specifying axis type\n",
        "plt.axis('equal')\n",
        "\n",
        "# Set title\n",
        "plt.title('Pie chart representing pregnacy status of female of respondents')\n",
        "\n",
        "# Show plot\n",
        "plt.show()\n",
        "\n",
        "print('Less than 3% of the female test subjects are pregnant')"
      ]
    },
    {
      "cell_type": "code",
      "execution_count": null,
      "metadata": {
        "colab": {
          "base_uri": "https://localhost:8080/"
        },
        "id": "s38JO_1h9Buk",
        "outputId": "4bc07171-bc65-41b4-cb9d-2f6687f41278"
      },
      "outputs": [
        {
          "output_type": "display_data",
          "data": {
            "text/plain": [
              "<Figure size 432x288 with 1 Axes>"
            ],
            "image/png": "[encoded data removed]"
          },
          "metadata": {}
        },
        {
          "output_type": "stream",
          "name": "stdout",
          "text": [
            "Slightly over 3% of the test subjects are were ill.\n"
          ]
        }
      ],
      "source": [
        "# Pie chart plot for match result\n",
        "# Specifying result attribute for matches played in non neutral locations\n",
        "result = hypothyroid_df['sick'].value_counts()\n",
        "\n",
        "# Exploding one part of the pie chart\n",
        "explode = (0, 0.1)\n",
        "\n",
        "# Plotting our pie chart\n",
        "plt.pie(result, explode = explode, labels = result.index, autopct = '%1.1f%%', shadow = True, startangle = 140)\n",
        "\n",
        "# Specifying axis type\n",
        "plt.axis('equal')\n",
        "\n",
        "# Set title\n",
        "plt.title('Pie chart representing health condition of respondents')\n",
        "\n",
        "# Show plot\n",
        "plt.show()\n",
        "\n",
        "print('Slightly over 3% of the test subjects are were ill.')"
      ]
    },
    {
      "cell_type": "code",
      "execution_count": null,
      "metadata": {
        "colab": {
          "base_uri": "https://localhost:8080/"
        },
        "id": "uCMZ_opf9VuU",
        "outputId": "768dfc3a-b8d7-4392-c0cf-9d28e9b4d977"
      },
      "outputs": [
        {
          "output_type": "display_data",
          "data": {
            "text/plain": [
              "<Figure size 432x288 with 1 Axes>"
            ],
            "image/png": "[encoded data removed]"
          },
          "metadata": {}
        },
        {
          "output_type": "stream",
          "name": "stdout",
          "text": [
            "1.4% percent of the respondents have tumors\n"
          ]
        }
      ],
      "source": [
        "# Pie chart plot for match result\n",
        "# Specifying result attribute for matches played in non neutral locations\n",
        "result = hypothyroid_df['tumor'].value_counts()\n",
        "\n",
        "# Exploding one part of the pie chart\n",
        "explode = (0, 0.1)\n",
        "\n",
        "# Plotting our pie chart\n",
        "plt.pie(result, explode = explode, labels = result.index, autopct = '%1.1f%%', shadow = True, startangle = 140)\n",
        "\n",
        "# Specifying axis type\n",
        "plt.axis('equal')\n",
        "\n",
        "# Set title\n",
        "plt.title('Pie chart representing respondents with and without tumors')\n",
        "\n",
        "# Show plot\n",
        "plt.show()\n",
        "\n",
        "print('1.4% percent of the respondents have tumors')"
      ]
    },
    {
      "cell_type": "code",
      "execution_count": null,
      "metadata": {
        "colab": {
          "base_uri": "https://localhost:8080/"
        },
        "id": "a5i77N0n-Ege",
        "outputId": "d3573336-c3d0-445e-e240-c63345e534f8"
      },
      "outputs": [
        {
          "output_type": "display_data",
          "data": {
            "text/plain": [
              "<Figure size 432x288 with 1 Axes>"
            ],
            "image/png": "[encoded data removed]"
          },
          "metadata": {}
        },
        {
          "output_type": "stream",
          "name": "stdout",
          "text": [
            "1.5% percent of the respondents were on antithyroid medication\n"
          ]
        }
      ],
      "source": [
        "# Pie chart plot for match result\n",
        "# Specifying result attribute for matches played in non neutral locations\n",
        "result = hypothyroid_df['on_antithyroid_medication'].value_counts()\n",
        "\n",
        "# Exploding one part of the pie chart\n",
        "explode = (0, 0.1)\n",
        "\n",
        "# Plotting our pie chart\n",
        "plt.pie(result, explode = explode, labels = result.index, autopct = '%1.1f%%', shadow = True, startangle = 140)\n",
        "\n",
        "# Specifying axis type\n",
        "plt.axis('equal')\n",
        "\n",
        "# Set title\n",
        "plt.title('Pie chart representing respondents on antithyroid medication')\n",
        "\n",
        "# Show plot\n",
        "plt.show()\n",
        "\n",
        "print('1.5% percent of the respondents were on antithyroid medication')"
      ]
    },
    {
      "cell_type": "code",
      "execution_count": null,
      "metadata": {
        "colab": {
          "base_uri": "https://localhost:8080/"
        },
        "id": "3wunUlLPHLRx",
        "outputId": "1bddc6e3-f7ea-4fc1-cdf0-912aa644a558"
      },
      "outputs": [
        {
          "output_type": "display_data",
          "data": {
            "text/plain": [
              "<Figure size 432x288 with 1 Axes>"
            ],
            "image/png": "[encoded data removed]"
          },
          "metadata": {}
        },
        {
          "output_type": "stream",
          "name": "stdout",
          "text": [
            "3.5% percent of the respondents have undergone thyroid surgery\n"
          ]
        }
      ],
      "source": [
        "# Pie chart plot for match result\n",
        "# Specifying result attribute for matches played in non neutral locations\n",
        "result = hypothyroid_df['thyroid_surgery'].value_counts()\n",
        "\n",
        "# Exploding one part of the pie chart\n",
        "explode = (0, 0.1)\n",
        "\n",
        "# Plotting our pie chart\n",
        "plt.pie(result, explode = explode, labels = result.index, autopct = '%1.1f%%', shadow = True, startangle = 140)\n",
        "\n",
        "# Specifying axis type\n",
        "plt.axis('equal')\n",
        "\n",
        "# Set title\n",
        "plt.title('Pie chart representing respondents that have undergone thyroid surgery')\n",
        "\n",
        "# Show plot\n",
        "plt.show()\n",
        "\n",
        "print('3.5% percent of the respondents have undergone thyroid surgery')"
      ]
    },
    {
      "cell_type": "code",
      "execution_count": null,
      "metadata": {
        "colab": {
          "base_uri": "https://localhost:8080/"
        },
        "id": "4rITBMMQHvhT",
        "outputId": "3da490c1-455e-4879-af9b-532d73d1326b"
      },
      "outputs": [
        {
          "output_type": "display_data",
          "data": {
            "text/plain": [
              "<Figure size 432x288 with 1 Axes>"
            ],
            "image/png": "[encoded data removed]"
          },
          "metadata": {}
        },
        {
          "output_type": "stream",
          "name": "stdout",
          "text": [
            "3.5% percent of the respondents have undergone thyroid surgery\n"
          ]
        }
      ],
      "source": [
        "# Pie chart plot for match result\n",
        "# Specifying result attribute for matches played in non neutral locations\n",
        "result = hypothyroid_df['thyroid_surgery'].value_counts()\n",
        "\n",
        "# Exploding one part of the pie chart\n",
        "explode = (0, 0.1)\n",
        "\n",
        "# Plotting our pie chart\n",
        "plt.pie(result, explode = explode, labels = result.index, autopct = '%1.1f%%', shadow = True, startangle = 140)\n",
        "\n",
        "# Specifying axis type\n",
        "plt.axis('equal')\n",
        "\n",
        "# Set title\n",
        "plt.title('Pie chart representing respondents that have undergone thyroid surgery')\n",
        "\n",
        "# Show plot\n",
        "plt.show()\n",
        "\n",
        "print('3.5% percent of the respondents have undergone thyroid surgery')"
      ]
    },
    {
      "cell_type": "code",
      "execution_count": null,
      "metadata": {
        "colab": {
          "base_uri": "https://localhost:8080/"
        },
        "id": "smWvD8JTJLqh",
        "outputId": "ed065128-fe06-412b-e4f8-f62742e6bfe3"
      },
      "outputs": [
        {
          "output_type": "display_data",
          "data": {
            "text/plain": [
              "<Figure size 432x288 with 1 Axes>"
            ],
            "image/png": "[encoded data removed]"
          },
          "metadata": {}
        },
        {
          "output_type": "stream",
          "name": "stdout",
          "text": [
            "Around 0.1% of the respondents had lithium\n"
          ]
        }
      ],
      "source": [
        "# Pie chart plot for match result\n",
        "# Specifying result attribute for matches played in non neutral locations\n",
        "result = hypothyroid_df['lithium'].value_counts()\n",
        "\n",
        "# Exploding one part of the pie chart\n",
        "explode = (0, 0.1)\n",
        "\n",
        "# Plotting our pie chart\n",
        "plt.pie(result, explode = explode, labels = result.index, autopct = '%1.1f%%', shadow = True, startangle = 140)\n",
        "\n",
        "# Specifying axis type\n",
        "plt.axis('equal')\n",
        "\n",
        "# Set title\n",
        "plt.title('Pie chart representing respondents that have lithium')\n",
        "\n",
        "# Show plot\n",
        "plt.show()\n",
        "\n",
        "print('Around 0.1% of the respondents had lithium')"
      ]
    },
    {
      "cell_type": "code",
      "execution_count": null,
      "metadata": {
        "colab": {
          "base_uri": "https://localhost:8080/"
        },
        "id": "fzBsnrshJj9f",
        "outputId": "a7b15a5d-f886-4f0d-ea88-d9a3a6277a8e"
      },
      "outputs": [
        {
          "output_type": "display_data",
          "data": {
            "text/plain": [
              "<Figure size 432x288 with 1 Axes>"
            ],
            "image/png": "[encoded data removed]"
          },
          "metadata": {}
        },
        {
          "output_type": "stream",
          "name": "stdout",
          "text": [
            "Around 14.9% of the respondents are on thyroxine\n"
          ]
        }
      ],
      "source": [
        "# Pie chart plot for match result\n",
        "# Specifying result attribute for matches played in non neutral locations\n",
        "result = hypothyroid_df['on_thyroxine'].value_counts()\n",
        "\n",
        "# Exploding one part of the pie chart\n",
        "explode = (0, 0.1)\n",
        "\n",
        "# Plotting our pie chart\n",
        "plt.pie(result, explode = explode, labels = result.index, autopct = '%1.1f%%', shadow = True, startangle = 140)\n",
        "\n",
        "# Specifying axis type\n",
        "plt.axis('equal')\n",
        "\n",
        "# Set title\n",
        "plt.title('Pie chart representing respondents on_thyroxine')\n",
        "\n",
        "# Show plot\n",
        "plt.show()\n",
        "\n",
        "print('Around 14.9% of the respondents are on thyroxine')"
      ]
    },
    {
      "cell_type": "code",
      "execution_count": null,
      "metadata": {
        "colab": {
          "base_uri": "https://localhost:8080/"
        },
        "id": "EIKRRY64lt50",
        "outputId": "bd9aa300-e10e-42c0-a6af-dcd4c3c61db8"
      },
      "outputs": [
        {
          "output_type": "execute_result",
          "data": {
            "text/plain": [
              "62.00    59\n",
              "59.00    58\n",
              "72.00    57\n",
              "58.00    55\n",
              "60.00    54\n",
              "         ..\n",
              "48.50     1\n",
              "48.57     1\n",
              "49.67     1\n",
              "59.26     1\n",
              "52.26     1\n",
              "Name: age, Length: 470, dtype: int64"
            ]
          },
          "metadata": {},
          "execution_count": 49
        }
      ],
      "source": [
        "hypothyroid_df['age'].value_counts()"
      ]
    },
    {
      "cell_type": "code",
      "execution_count": null,
      "metadata": {
        "colab": {
          "base_uri": "https://localhost:8080/"
        },
        "id": "P2528TakMvP3",
        "outputId": "7b5e2a4c-ddce-470d-98b1-3ebce10b5f46"
      },
      "outputs": [
        {
          "output_type": "stream",
          "name": "stdout",
          "text": [
            "A majority of the test subjects were aged between 50-60 years\n"
          ]
        },
        {
          "output_type": "display_data",
          "data": {
            "text/plain": [
              "<Figure size 432x288 with 1 Axes>"
            ],
            "image/png": "[encoded data removed]"
          },
          "metadata": {
            "needs_background": "light"
          }
        }
      ],
      "source": [
        "# Bar chart representing the various home team scores\n",
        "hypothyroid_df['age'].plot.hist(title='Age of the test subjects')\n",
        "\n",
        "print('A majority of the test subjects were aged between 50-60 years')"
      ]
    },
    {
      "cell_type": "markdown",
      "metadata": {
        "id": "wZb68T2hl_vx"
      },
      "source": [
        "### Bivariate analysis"
      ]
    },
    {
      "cell_type": "code",
      "execution_count": null,
      "metadata": {
        "colab": {
          "base_uri": "https://localhost:8080/"
        },
        "id": "9Gt69ZWnl8Uw",
        "outputId": "5c0efa38-0fe8-4183-ef88-d2945ba9abe8"
      },
      "outputs": [
        {
          "output_type": "stream",
          "name": "stdout",
          "text": [
            "All the variables with continuous data were loosely correlated\n"
          ]
        }
      ],
      "source": [
        "# Correlations\n",
        "hypothyroid_df.corr()\n",
        "\n",
        "print('All the variables with continuous data were loosely correlated')"
      ]
    },
    {
      "cell_type": "code",
      "execution_count": null,
      "metadata": {
        "colab": {
          "base_uri": "https://localhost:8080/"
        },
        "id": "z__r6E_jmWa7",
        "outputId": "6a3df17d-c8d5-48a3-aacc-d0ee72613db8"
      },
      "outputs": [
        {
          "output_type": "execute_result",
          "data": {
            "text/plain": [
              "<matplotlib.axes._subplots.AxesSubplot at 0x7f48e8d23150>"
            ]
          },
          "metadata": {},
          "execution_count": 52
        },
        {
          "output_type": "display_data",
          "data": {
            "text/plain": [
              "<Figure size 432x288 with 2 Axes>"
            ],
            "image/png": "[encoded data removed]"
          },
          "metadata": {
            "needs_background": "light"
          }
        }
      ],
      "source": [
        "# Columns for plotting heat map\n",
        "columns= ['age',\t'TSH',\t'T3',\t'TT4',\t'T4U',\t'FTI']\n",
        "\n",
        "# Correlations\n",
        "corr = hypothyroid_df[columns].corr()\n",
        "\n",
        "# heatmap\n",
        "sns.heatmap(corr, annot=True,cmap=\"GnBu\")"
      ]
    },
    {
      "cell_type": "code",
      "execution_count": null,
      "metadata": {
        "colab": {
          "base_uri": "https://localhost:8080/"
        },
        "id": "Dl2VG77guShJ",
        "outputId": "728a3564-5e19-40fc-cd65-a5169d0c1231"
      },
      "outputs": [
        {
          "output_type": "execute_result",
          "data": {
            "text/plain": [
              "       age    TSH     T3    TT4    T4U    FTI\n",
              "age  1.175  0.016  0.496 -0.279  0.145  0.068\n",
              "TSH  0.016  1.188  0.108  0.693 -0.457 -0.361\n",
              "T3   0.496  0.108  1.949 -0.693 -0.572 -0.345\n",
              "TT4 -0.279  0.693 -0.693  4.652 -2.367 -3.466\n",
              "T4U  0.145 -0.457 -0.572 -2.367  2.832  2.567\n",
              "FTI  0.068 -0.361 -0.345 -3.466  2.567  4.165"
            ],
            "text/html": [
              "\n",
              "  <div id=\"df-79d2926e-13e2-4d27-9855-5ad9208cfef3\">\n",
              "    <div class=\"colab-df-container\">\n",
              "      <div>\n",
              "<style scoped>\n",
              "    .dataframe tbody tr th:only-of-type {\n",
              "        vertical-align: middle;\n",
              "    }\n",
              "\n",
              "    .dataframe tbody tr th {\n",
              "        vertical-align: top;\n",
              "    }\n",
              "\n",
              "    .dataframe thead th {\n",
              "        text-align: right;\n",
              "    }\n",
              "</style>\n",
              "<table border=\"1\" class=\"dataframe\">\n",
              "  <thead>\n",
              "    <tr style=\"text-align: right;\">\n",
              "      <th></th>\n",
              "      <th>age</th>\n",
              "      <th>TSH</th>\n",
              "      <th>T3</th>\n",
              "      <th>TT4</th>\n",
              "      <th>T4U</th>\n",
              "      <th>FTI</th>\n",
              "    </tr>\n",
              "  </thead>\n",
              "  <tbody>\n",
              "    <tr>\n",
              "      <th>age</th>\n",
              "      <td>1.175</td>\n",
              "      <td>0.016</td>\n",
              "      <td>0.496</td>\n",
              "      <td>-0.279</td>\n",
              "      <td>0.145</td>\n",
              "      <td>0.068</td>\n",
              "    </tr>\n",
              "    <tr>\n",
              "      <th>TSH</th>\n",
              "      <td>0.016</td>\n",
              "      <td>1.188</td>\n",
              "      <td>0.108</td>\n",
              "      <td>0.693</td>\n",
              "      <td>-0.457</td>\n",
              "      <td>-0.361</td>\n",
              "    </tr>\n",
              "    <tr>\n",
              "      <th>T3</th>\n",
              "      <td>0.496</td>\n",
              "      <td>0.108</td>\n",
              "      <td>1.949</td>\n",
              "      <td>-0.693</td>\n",
              "      <td>-0.572</td>\n",
              "      <td>-0.345</td>\n",
              "    </tr>\n",
              "    <tr>\n",
              "      <th>TT4</th>\n",
              "      <td>-0.279</td>\n",
              "      <td>0.693</td>\n",
              "      <td>-0.693</td>\n",
              "      <td>4.652</td>\n",
              "      <td>-2.367</td>\n",
              "      <td>-3.466</td>\n",
              "    </tr>\n",
              "    <tr>\n",
              "      <th>T4U</th>\n",
              "      <td>0.145</td>\n",
              "      <td>-0.457</td>\n",
              "      <td>-0.572</td>\n",
              "      <td>-2.367</td>\n",
              "      <td>2.832</td>\n",
              "      <td>2.567</td>\n",
              "    </tr>\n",
              "    <tr>\n",
              "      <th>FTI</th>\n",
              "      <td>0.068</td>\n",
              "      <td>-0.361</td>\n",
              "      <td>-0.345</td>\n",
              "      <td>-3.466</td>\n",
              "      <td>2.567</td>\n",
              "      <td>4.165</td>\n",
              "    </tr>\n",
              "  </tbody>\n",
              "</table>\n",
              "</div>\n",
              "      <button class=\"colab-df-convert\" onclick=\"convertToInteractive('df-79d2926e-13e2-4d27-9855-5ad9208cfef3')\"\n",
              "              title=\"Convert this dataframe to an interactive table.\"\n",
              "              style=\"display:none;\">\n",
              "        \n",
              "  <svg xmlns=\"http://www.w3.org/2000/svg\" height=\"24px\"viewBox=\"0 0 24 24\"\n",
              "       width=\"24px\">\n",
              "    <path d=\"M0 0h24v24H0V0z\" fill=\"none\"/>\n",
              "    <path d=\"M18.56 5.44l.94 2.06.94-2.06 2.06-.94-2.06-.94-.94-2.06-.94 2.06-2.06.94zm-11 1L8.5 8.5l.94-2.06 2.06-.94-2.06-.94L8.5 2.5l-.94 2.06-2.06.94zm10 10l.94 2.06.94-2.06 2.06-.94-2.06-.94-.94-2.06-.94 2.06-2.06.94z\"/><path d=\"M17.41 7.96l-1.37-1.37c-.4-.4-.92-.59-1.43-.59-.52 0-1.04.2-1.43.59L10.3 9.45l-7.72 7.72c-.78.78-.78 2.05 0 2.83L4 21.41c.39.39.9.59 1.41.59.51 0 1.02-.2 1.41-.59l7.78-7.78 2.81-2.81c.8-.78.8-2.07 0-2.86zM5.41 20L4 18.59l7.72-7.72 1.47 1.35L5.41 20z\"/>\n",
              "  </svg>\n",
              "      </button>\n",
              "      \n",
              "  <style>\n",
              "    .colab-df-container {\n",
              "      display:flex;\n",
              "      flex-wrap:wrap;\n",
              "      gap: 12px;\n",
              "    }\n",
              "\n",
              "    .colab-df-convert {\n",
              "      background-color: #E8F0FE;\n",
              "      border: none;\n",
              "      border-radius: 50%;\n",
              "      cursor: pointer;\n",
              "      display: none;\n",
              "      fill: #1967D2;\n",
              "      height: 32px;\n",
              "      padding: 0 0 0 0;\n",
              "      width: 32px;\n",
              "    }\n",
              "\n",
              "    .colab-df-convert:hover {\n",
              "      background-color: #E2EBFA;\n",
              "      box-shadow: 0px 1px 2px rgba(60, 64, 67, 0.3), 0px 1px 3px 1px rgba(60, 64, 67, 0.15);\n",
              "      fill: #174EA6;\n",
              "    }\n",
              "\n",
              "    [theme=dark] .colab-df-convert {\n",
              "      background-color: #3B4455;\n",
              "      fill: #D2E3FC;\n",
              "    }\n",
              "\n",
              "    [theme=dark] .colab-df-convert:hover {\n",
              "      background-color: #434B5C;\n",
              "      box-shadow: 0px 1px 3px 1px rgba(0, 0, 0, 0.15);\n",
              "      filter: drop-shadow(0px 1px 2px rgba(0, 0, 0, 0.3));\n",
              "      fill: #FFFFFF;\n",
              "    }\n",
              "  </style>\n",
              "\n",
              "      <script>\n",
              "        const buttonEl =\n",
              "          document.querySelector('#df-79d2926e-13e2-4d27-9855-5ad9208cfef3 button.colab-df-convert');\n",
              "        buttonEl.style.display =\n",
              "          google.colab.kernel.accessAllowed ? 'block' : 'none';\n",
              "\n",
              "        async function convertToInteractive(key) {\n",
              "          const element = document.querySelector('#df-79d2926e-13e2-4d27-9855-5ad9208cfef3');\n",
              "          const dataTable =\n",
              "            await google.colab.kernel.invokeFunction('convertToInteractive',\n",
              "                                                     [key], {});\n",
              "          if (!dataTable) return;\n",
              "\n",
              "          const docLinkHtml = 'Like what you see? Visit the ' +\n",
              "            '<a target=\"_blank\" href=https://colab.research.google.com/notebooks/data_table.ipynb>data table notebook</a>'\n",
              "            + ' to learn more about interactive tables.';\n",
              "          element.innerHTML = '';\n",
              "          dataTable['output_type'] = 'display_data';\n",
              "          await google.colab.output.renderOutput(dataTable, element);\n",
              "          const docLink = document.createElement('div');\n",
              "          docLink.innerHTML = docLinkHtml;\n",
              "          element.appendChild(docLink);\n",
              "        }\n",
              "      </script>\n",
              "    </div>\n",
              "  </div>\n",
              "  "
            ]
          },
          "metadata": {},
          "execution_count": 53
        }
      ],
      "source": [
        "# python suppress exponential notation\n",
        "pd.set_option('display.float_format', lambda x: '%.3f' % x)\n",
        "\n",
        "# VIF scores\n",
        "pd.DataFrame(np.linalg.inv(corr.values), index = corr.index, columns=corr.columns)\n"
      ]
    },
    {
      "cell_type": "markdown",
      "metadata": {
        "id": "kfQ5yhd6wvMr"
      },
      "source": [
        "All VIF scores from FTI test were below three. FTI had the highest VIF score 0f 4.167"
      ]
    },
    {
      "cell_type": "code",
      "execution_count": null,
      "metadata": {
        "id": "qX6GB9-2nvO0"
      },
      "outputs": [],
      "source": [
        "# Columns for plotting heat map\n",
        "columns= ['status', 'age',\t'TSH',\t'T3',\t'TT4',\t'T4U',\t'FTI']\n",
        "\n",
        "# Pairplots\n",
        "# sns.pairplot(hypothyroid_df[columns], hue=\"status\")"
      ]
    },
    {
      "cell_type": "markdown",
      "metadata": {
        "id": "VWzj4BrbrvIF"
      },
      "source": [
        "From the numerical pair plots the following observations were deduced;\n",
        "\n",
        "1. Individuals with low levels of T3, TT4, and FTI of different ages seemed susceptible to hypothyroidism\n",
        "2. Individuals with low levels of T3 and high levels of TSH seemed to be suceptibel to hypothyrodism\n",
        " "
      ]
    },
    {
      "cell_type": "markdown",
      "metadata": {
        "id": "0t7MPTbn62CR"
      },
      "source": [
        "## Encoding"
      ]
    },
    {
      "cell_type": "markdown",
      "metadata": {
        "id": "HzwAez1N67cA"
      },
      "source": [
        "All columns have a two categorical variables in the columns hence shall be label encoded"
      ]
    },
    {
      "cell_type": "code",
      "execution_count": null,
      "metadata": {
        "id": "Ip8e1DbG63Js"
      },
      "outputs": [],
      "source": [
        "# Columns for label encoding\n",
        "categ = ['status', 'sex', 'on_thyroxine', 'query_on_thyroxine',\n",
        "       'on_antithyroid_medication', 'thyroid_surgery', 'query_hypothyroid',\n",
        "       'query_hyperthyroid', 'pregnant', 'sick', 'tumor', 'lithium', 'goitre',\n",
        "       'TSH_measured', 'T3_measured', 'TT4_measured', 'T4U_measured', 'FTI_measured',\n",
        "       'TBG_measured']\n",
        "\n",
        "# Encode Categorical Columns\n",
        "le = LabelEncoder()\n",
        "hypothyroid_df[categ] = hypothyroid_df[categ].apply(le.fit_transform)"
      ]
    },
    {
      "cell_type": "markdown",
      "metadata": {
        "id": "SELR973UzcI8"
      },
      "source": [
        "## Random forest classifier"
      ]
    },
    {
      "cell_type": "markdown",
      "metadata": {
        "id": "mKT1vXp3NjHy"
      },
      "source": [
        "A random forest is a meta estimator that fits a number of decision tree classifiers on various sub-samples of the dataset and uses averaging to improve the predictive accuracy and control over-fitting. The sub-sample size is controlled with the max_samples parameter if bootstrap=True (default), otherwise the whole dataset is used to build each tree.\n",
        "\n",
        "The base model will be created using default parameters of random forest classifier. The model parameters shall then be optimized by performing a gridsearch."
      ]
    },
    {
      "cell_type": "markdown",
      "metadata": {
        "id": "06EQfBFxi2ap"
      },
      "source": [
        "### Base Model - Random Forest Classifier"
      ]
    },
    {
      "cell_type": "code",
      "execution_count": null,
      "metadata": {
        "id": "6QBOuaG4gyqj"
      },
      "outputs": [],
      "source": [
        "# Target variable\n",
        "y = hypothyroid_df['status']\n",
        "\n",
        "# Test features\n",
        "test_features = hypothyroid_df.drop(columns = ['status']).columns.to_list()\n",
        "\n",
        "# Feature varibales\n",
        "X = hypothyroid_df[test_features]\n",
        "\n",
        "# Train(70% of data) and test samples\n",
        "X_train, X_test, y_train, y_test = train_test_split(X, y, test_size=0.3, random_state=0)"
      ]
    },
    {
      "cell_type": "code",
      "execution_count": null,
      "metadata": {
        "id": "nqdvNmF9PmNT"
      },
      "outputs": [],
      "source": [
        "# Model \n",
        "# Create a Random forest classifier\n",
        "forest = RandomForestClassifier()\n",
        "\n",
        "# Train it on our training set.\n",
        "model = forest.fit(X_train, y_train)\n",
        "\n",
        "# Predict based on the model we've trained\n",
        "y_pred = model.predict(X_test)"
      ]
    },
    {
      "cell_type": "code",
      "execution_count": null,
      "metadata": {
        "colab": {
          "base_uri": "https://localhost:8080/"
        },
        "id": "Y-QtCVVbh302",
        "outputId": "ce3f2a4e-227a-492a-aef7-6b3152f52914"
      },
      "outputs": [
        {
          "output_type": "stream",
          "name": "stdout",
          "text": [
            "Accuracy: 0.9827387802071347\n"
          ]
        }
      ],
      "source": [
        "# Model Accuracy, how often is the classifier correct?\n",
        "print(\"Accuracy:\",metrics.accuracy_score(y_test, y_pred))\n"
      ]
    },
    {
      "cell_type": "markdown",
      "metadata": {
        "id": "edpB1xbJh-eP"
      },
      "source": [
        "### Random Forest classifier Model Optimization"
      ]
    },
    {
      "cell_type": "markdown",
      "metadata": {
        "id": "NUO2-BhDjHuM"
      },
      "source": [
        "The random forest classifier base model best parameters to tune the model shall be obatined through Automated hyperparameter tuning. Automated hyperparameter tuning utilizes already existing algorithms to automate the process.\n",
        "\n",
        "**Grid Search** shall be the automated parameter tuning algorithim.\n",
        "\n",
        "In the grid search method, we create a grid of possible values for hyperparameters. Each iteration tries a combination of hyperparameters in a specific order. It fits the model on each and every combination of hyperparameters possible and records the model performance. Finally, it returns the best model with the best hyperparameters.\n",
        "\n",
        "Due to the computing resource this step takes up, only two hyperparameters in randforest classifier model shall be tuned, (max_depth, and number of estimators)\n",
        "\n",
        "Hyperparameters of Random Forest Classifier:\n",
        "\n",
        "1. max_depth: The max_depth of a tree in Random Forest is defined as the longest path between the root node and the leaf node.\n",
        "2. n_estimators: Number of trees in the forest.\n",
        "\n",
        "\n"
      ]
    },
    {
      "cell_type": "code",
      "execution_count": null,
      "metadata": {
        "colab": {
          "base_uri": "https://localhost:8080/"
        },
        "id": "qK8Bmnu4h8_z",
        "outputId": "4fa324fc-c39f-4cba-e94f-095845db38f9"
      },
      "outputs": [
        {
          "output_type": "stream",
          "name": "stdout",
          "text": [
            "Fitting 5 folds for each of 56 candidates, totalling 280 fits\n"
          ]
        },
        {
          "output_type": "execute_result",
          "data": {
            "text/plain": [
              "{'max_depth': 5, 'n_estimators': 70}"
            ]
          },
          "metadata": {},
          "execution_count": 59
        }
      ],
      "source": [
        "# Specifying parameters for optimization\n",
        "grid_param = {\"max_depth\": range(2, 6, 1),\n",
        "            \"n_estimators\": range(10, 150, 10)\n",
        "              }\n",
        "\n",
        "# Performing grid search\n",
        "grid_search = GridSearchCV(estimator = model, param_grid = grid_param, cv=5, n_jobs = -1, verbose = 3)\n",
        "\n",
        "# Fitting train data to the grid search\n",
        "grid_search.fit(X_train, y_train)\n",
        "\n",
        "# Getting best parameters for model\n",
        "grid_search.best_params_"
      ]
    },
    {
      "cell_type": "code",
      "execution_count": null,
      "metadata": {
        "id": "8fCgL5Bb4for"
      },
      "outputs": [],
      "source": [
        "# Model \n",
        "# Create a Random forest classifier\n",
        "forest = RandomForestClassifier(max_depth = 5, n_estimators = 70)\n",
        "\n",
        "# Train it on our training set.\n",
        "model = forest.fit(X_train, y_train)\n",
        "\n",
        "# Predict based on the model we've trained\n",
        "y_pred = model.predict(X_test)"
      ]
    },
    {
      "cell_type": "code",
      "execution_count": null,
      "metadata": {
        "id": "dGjp1SBM544m",
        "colab": {
          "base_uri": "https://localhost:8080/"
        },
        "outputId": "2e467659-418d-4aec-8270-b319ef3e7887"
      },
      "outputs": [
        {
          "output_type": "execute_result",
          "data": {
            "text/plain": [
              "array([[ 22,  14],\n",
              "       [  4, 829]])"
            ]
          },
          "metadata": {},
          "execution_count": 61
        }
      ],
      "source": [
        "# Importing confusion_matrix from sklearn metrics\n",
        "from sklearn.metrics import confusion_matrix\n",
        "\n",
        "# Creating  a confusion matrix,which compares the y_test and y_pred\n",
        "cm = confusion_matrix(y_test, y_pred)\n",
        "\n",
        "# Condfusion matrix\n",
        "cm"
      ]
    },
    {
      "cell_type": "markdown",
      "metadata": {
        "id": "tFaJW1056AR6"
      },
      "source": [
        "From the confusion matrix the model was able to predict individuals with and without hypothyroidism as shown:\n",
        "\n",
        "1. True positive = 26, test individuals correctly predicted as having hypothroidism\n",
        "2. True negative = 829 test individuals correctly predicted as not having hypothroidism\n",
        "3. False positive = 10 test individuals wrongly predicted as having hypothroidism\n",
        "4. False negative = 4 test individuals wrongly predicted as not having hypothroidism"
      ]
    },
    {
      "cell_type": "code",
      "execution_count": null,
      "metadata": {
        "id": "8NizhwHN534z",
        "colab": {
          "base_uri": "https://localhost:8080/"
        },
        "outputId": "c3221c3d-e973-45f0-ebe5-45e803227a90"
      },
      "outputs": [
        {
          "output_type": "stream",
          "name": "stdout",
          "text": [
            "              precision    recall  f1-score   support\n",
            "\n",
            "           0       0.85      0.61      0.71        36\n",
            "           1       0.98      1.00      0.99       833\n",
            "\n",
            "    accuracy                           0.98       869\n",
            "   macro avg       0.91      0.80      0.85       869\n",
            "weighted avg       0.98      0.98      0.98       869\n",
            "\n"
          ]
        }
      ],
      "source": [
        "# Importing classification_report from sklearn metrics\n",
        "from sklearn.metrics import classification_report\n",
        "\n",
        "#Create classification report\n",
        "class_report_rfl= classification_report(y_test, y_pred)\n",
        "\n",
        "print(class_report_rfl)"
      ]
    },
    {
      "cell_type": "markdown",
      "metadata": {
        "id": "KYWTnbyKQ-wv"
      },
      "source": [
        "## Gradient Boost classifier"
      ]
    },
    {
      "cell_type": "markdown",
      "metadata": {
        "id": "KO1U6ruR3jxq"
      },
      "source": [
        "Gradient Boosting classifier is used for classification.\n",
        "\n",
        "GB builds an additive model in a forward stage-wise fashion; it allows for the optimization of arbitrary differentiable loss functions. In each stage n_classes_ regression trees are fit on the negative gradient of the binomial or multinomial deviance loss function. Binary classification is a special case where only a single regression tree is induced.\n",
        "\n",
        "The base model using this classifier shall be created using the default parameters of the classifier."
      ]
    },
    {
      "cell_type": "markdown",
      "metadata": {
        "id": "59TG-1o8t3Km"
      },
      "source": [
        "### Gradient boost classifier base model"
      ]
    },
    {
      "cell_type": "code",
      "execution_count": null,
      "metadata": {
        "id": "uqIdeDLz0u8L"
      },
      "outputs": [],
      "source": [
        "# Target variable\n",
        "y = hypothyroid_df['status']\n",
        "\n",
        "# Test features\n",
        "test_features = hypothyroid_df.drop(columns = ['status']).columns.to_list()\n",
        "\n",
        "# Feature varibales\n",
        "X = hypothyroid_df[test_features]\n",
        "\n",
        "# Train(70% of data) and test samples\n",
        "X_train, X_test, y_train, y_test = train_test_split(X, y, test_size=0.3, random_state=0)"
      ]
    },
    {
      "cell_type": "code",
      "execution_count": null,
      "metadata": {
        "id": "Y7iDKUg4027f"
      },
      "outputs": [],
      "source": [
        "# Specify classifier\n",
        "gbc = GradientBoostingClassifier()\n",
        "\n",
        "# Fitting training data into model\n",
        "gbc = gbc.fit(X_train, y_train)\n",
        "\n",
        "# prediction\n",
        "y_pred_gbc = gbc.predict(X_test)"
      ]
    },
    {
      "cell_type": "code",
      "execution_count": null,
      "metadata": {
        "colab": {
          "base_uri": "https://localhost:8080/"
        },
        "id": "liFPSooZ2RMk",
        "outputId": "b3e93d51-e73a-439a-c4cd-e36780c5ab1c"
      },
      "outputs": [
        {
          "output_type": "stream",
          "name": "stdout",
          "text": [
            "Accuracy: 0.9861910241657077\n"
          ]
        }
      ],
      "source": [
        "# Model Accuracy, how often is the classifier correct?\n",
        "print(\"Accuracy:\",metrics.accuracy_score(y_test, y_pred_gbc))"
      ]
    },
    {
      "cell_type": "markdown",
      "metadata": {
        "id": "usY2iH2uuizG"
      },
      "source": [
        "### Gradient boost classifier optimized model"
      ]
    },
    {
      "cell_type": "markdown",
      "metadata": {
        "id": "ZHfEWCd77y2r"
      },
      "source": [
        "**Grid Search** shall be the automated parameter tuning algorithim.\n",
        "\n",
        "In the grid search method, we create a grid of possible values for hyperparameters. Each iteration tries a combination of hyperparameters in a specific order. It fits the model on each and every combination of hyperparameters possible and records the model performance. Finally, it returns the best model with the best hyperparameters.\n",
        "\n",
        "Due to the computing resource this step takes up, only three hyperparameters in gradient boost classifier model shall be tuned, (learning rate, max_depth, and number of estimators)\n",
        "\n",
        "Parameters:\n",
        "\n",
        "\n",
        "1. learning_ratefloat, default=0.1\n",
        "Learning rate shrinks the contribution of each tree by learning_rate. There is a trade-off between learning_rate and n_estimators.\n",
        "\n",
        "2. n_estimators int, default=100\n",
        "The number of boosting stages to perform. Gradient boosting is fairly robust to over-fitting so a large number usually results in better performance.\n",
        "\n",
        "3. max_depth int, default=3\n",
        "The maximum depth of the individual regression estimators. The maximum depth limits the number of nodes in the tree. Tune this parameter for best performance; the best value depends on the interaction of the input variables.\n",
        "\n"
      ]
    },
    {
      "cell_type": "code",
      "execution_count": null,
      "metadata": {
        "colab": {
          "base_uri": "https://localhost:8080/"
        },
        "id": "dqCFL0rB7Baq",
        "outputId": "d277bdee-3bda-48b2-e793-d4920d1933cb"
      },
      "outputs": [
        {
          "output_type": "stream",
          "name": "stdout",
          "text": [
            "Fitting 4 folds for each of 700 candidates, totalling 2800 fits\n"
          ]
        },
        {
          "output_type": "execute_result",
          "data": {
            "text/plain": [
              "{'learning_rate': 0.19, 'max_depth': 5, 'n_estimators': 85}"
            ]
          },
          "metadata": {},
          "execution_count": 66
        }
      ],
      "source": [
        "# Specifying parameters for optimization\n",
        "grid_param = {\n",
        "              \"learning_rate\": [0.01, 0.04, 0.07, 0.10, 0.13, 0.16, 0.19, 0.22, \n",
        "                                0.25, 0.28, 0.30, 0.35, 0.40, 0.45, 0.50, 0.55,\n",
        "                                0.60, 0.65, 0.70, 0.75, 0.80, 0.85, 0.90, 0.95,\n",
        "                                1.00],\n",
        "              \"max_depth\": range(2, 6, 1),\n",
        "              \"n_estimators\": range(10, 110, 15)\n",
        "              }\n",
        "\n",
        "# Performing grid search\n",
        "grid_search = GridSearchCV(estimator = gbc, param_grid = grid_param, cv=4, n_jobs = -1, verbose = 3)\n",
        "\n",
        "# Fitting train data to the grid search\n",
        "grid_search.fit(X_train, y_train)\n",
        "\n",
        "# Getting best parameters for model\n",
        "grid_search.best_params_"
      ]
    },
    {
      "cell_type": "code",
      "execution_count": null,
      "metadata": {
        "id": "NzfY_fRYuV6x"
      },
      "outputs": [],
      "source": [
        "# Specify optimized GradientBoostingClassifier\n",
        "gbc = GradientBoostingClassifier(learning_rate = 0.19, max_depth = 5,  n_estimators = 85)\n",
        "\n",
        "# Fitting training data into model\n",
        "gbc = gbc.fit(X_train, y_train)\n",
        "\n",
        "# prediction\n",
        "y_pred_gbc = gbc.predict(X_test)"
      ]
    },
    {
      "cell_type": "code",
      "execution_count": null,
      "metadata": {
        "id": "eSIQQll5F7Dl",
        "colab": {
          "base_uri": "https://localhost:8080/"
        },
        "outputId": "447b6c4b-929d-4b20-b9a6-a024975def03"
      },
      "outputs": [
        {
          "output_type": "execute_result",
          "data": {
            "text/plain": [
              "array([[ 31,   5],\n",
              "       [  7, 826]])"
            ]
          },
          "metadata": {},
          "execution_count": 68
        }
      ],
      "source": [
        "# Importing confusion_matrix from sklearn metrics\n",
        "from sklearn.metrics import confusion_matrix\n",
        "\n",
        "# Creating  a confusion matrix,which compares the y_test and y_pred\n",
        "cm = confusion_matrix(y_test, y_pred_gbc)\n",
        "\n",
        "# Condfusion matrix\n",
        "cm"
      ]
    },
    {
      "cell_type": "markdown",
      "metadata": {
        "id": "Hyocds14GIS6"
      },
      "source": [
        "From the confusion matrix the model was able to predict individuals with and without hypothyroidism as shown:\n",
        "\n",
        "1. True positive = 31 test individuals correctly predicted as having hypothroidism\n",
        "2. True negative = 826 test individuals correctly predicted as not having hypothroidism\n",
        "3. False positive = 5 test individuals wrongly predicted as having hypothroidism\n",
        "4. False negative = 7 test individuals wrongly predicted as not having hypothroidism"
      ]
    },
    {
      "cell_type": "code",
      "execution_count": null,
      "metadata": {
        "id": "dfaB7P1TGCdr",
        "colab": {
          "base_uri": "https://localhost:8080/"
        },
        "outputId": "0121a7af-1ae3-449c-fdcb-c63bae6e0299"
      },
      "outputs": [
        {
          "output_type": "stream",
          "name": "stdout",
          "text": [
            "              precision    recall  f1-score   support\n",
            "\n",
            "           0       0.82      0.86      0.84        36\n",
            "           1       0.99      0.99      0.99       833\n",
            "\n",
            "    accuracy                           0.99       869\n",
            "   macro avg       0.90      0.93      0.92       869\n",
            "weighted avg       0.99      0.99      0.99       869\n",
            "\n"
          ]
        }
      ],
      "source": [
        "# Importing classification_report from sklearn metrics\n",
        "from sklearn.metrics import classification_report\n",
        "\n",
        "#Create classification report\n",
        "class_report_gbc= classification_report(y_test, y_pred_gbc)\n",
        "\n",
        "print(class_report_gbc)"
      ]
    },
    {
      "cell_type": "markdown",
      "metadata": {
        "id": "ssVtifg2IB9J"
      },
      "source": [
        "## Adaboost classifier"
      ]
    },
    {
      "cell_type": "markdown",
      "metadata": {
        "id": "6akiaX4aJyhW"
      },
      "source": [
        "An Adaboost classifier is a meta-estimator that begins by fitting a classifier on the original dataset and then fits additional copies of the classifier on the same dataset but where the weights of incorrectly classified instances are adjusted such that subsequent classifiers focus more on difficult cases.\n",
        "\n",
        "The base model shall be implemented using the default parameters of adaboost classifier. \n",
        "The optimized model will be created with the hyperparameters selected after a grid search"
      ]
    },
    {
      "cell_type": "markdown",
      "metadata": {
        "id": "KiwLvUbMJcJe"
      },
      "source": [
        "### Adaboost classifier base model"
      ]
    },
    {
      "cell_type": "code",
      "execution_count": null,
      "metadata": {
        "id": "uuzwlXDtIA20"
      },
      "outputs": [],
      "source": [
        "# Target variable\n",
        "y = hypothyroid_df['status']\n",
        "\n",
        "# Test features\n",
        "test_features = hypothyroid_df.drop(columns = ['status']).columns.to_list()\n",
        "\n",
        "# Feature varibales\n",
        "X = hypothyroid_df[test_features]\n",
        "\n",
        "# Train(70% of data) and test samples\n",
        "X_train, X_test, y_train, y_test = train_test_split(X, y, test_size=0.3, random_state=0)"
      ]
    },
    {
      "cell_type": "code",
      "execution_count": null,
      "metadata": {
        "colab": {
          "base_uri": "https://localhost:8080/"
        },
        "id": "n5NloPcjK9Kn",
        "outputId": "5c78da24-506b-422a-9f27-1922ffe0b9c4"
      },
      "outputs": [
        {
          "output_type": "stream",
          "name": "stdout",
          "text": [
            "Accuracy: 0.9850402761795167\n"
          ]
        }
      ],
      "source": [
        "# Specify classifier\n",
        "abc = AdaBoostClassifier()\n",
        "\n",
        "# Fitting training data into model\n",
        "abc = abc.fit(X_train, y_train)\n",
        "\n",
        "# prediction\n",
        "y_pred_abc = abc.predict(X_test)\n",
        "\n",
        "# Model Accuracy, how often is the classifier correct?\n",
        "print(\"Accuracy:\",metrics.accuracy_score(y_test, y_pred_abc))"
      ]
    },
    {
      "cell_type": "markdown",
      "metadata": {
        "id": "qOTs2xWvJfhs"
      },
      "source": [
        "### Adaboost classifier optimized model"
      ]
    },
    {
      "cell_type": "markdown",
      "metadata": {
        "id": "ceCxIrNLMTFw"
      },
      "source": [
        "**Grid Search** shall be the automated parameter tuning algorithim.\n",
        "\n",
        "In the grid search method, we create a grid of possible values for hyperparameters. Each iteration tries a combination of hyperparameters in a specific order. It fits the model on each and every combination of hyperparameters possible and records the model performance. Finally, it returns the best model with the best hyperparameters.\n",
        "\n",
        "Due to the computing resource this step takes up, only two hyperparameters in Adaboost classifier classifier model shall be tuned, (learning rate and number of estimators)\n",
        "\n",
        "Parameters:\n",
        "\n",
        "1. n_estimators int, default=50\n",
        "The maximum number of estimators at which boosting is terminated. In case of perfect fit, the learning procedure is stopped early.\n",
        "\n",
        "2. learning_rate float, default=1.0\n",
        "Weight applied to each classifier at each boosting iteration. A higher learning rate increases the contribution of each classifier. There is a trade-off between the learning_rate and n_estimators parameters.\n"
      ]
    },
    {
      "cell_type": "code",
      "execution_count": null,
      "metadata": {
        "colab": {
          "base_uri": "https://localhost:8080/"
        },
        "id": "h7X_D9dXMNMM",
        "outputId": "14183c9b-7d88-4b89-89be-31b4a37a5c52"
      },
      "outputs": [
        {
          "output_type": "stream",
          "name": "stdout",
          "text": [
            "Fitting 4 folds for each of 364 candidates, totalling 1456 fits\n"
          ]
        },
        {
          "output_type": "execute_result",
          "data": {
            "text/plain": [
              "{'learning_rate': 0.19, 'n_estimators': 50}"
            ]
          },
          "metadata": {},
          "execution_count": 72
        }
      ],
      "source": [
        "# Specifying parameters for optimization\n",
        "grid_param = {\"learning_rate\": [0.01, 0.04, 0.07, 0.10, 0.13, 0.16, 0.19, 0.22, \n",
        "                                0.25, 0.28, 0.30, 0.35, 0.40, 0.45, 0.50, 0.55,\n",
        "                                0.60, 0.65, 0.70, 0.75, 0.80, 0.85, 0.90, 0.95,\n",
        "                                1.00, 1.05],\n",
        "              \"n_estimators\": range(10, 150, 10)\n",
        "              }\n",
        "\n",
        "# Performing grid search\n",
        "grid_search = GridSearchCV(estimator = abc, param_grid = grid_param, cv=4, n_jobs = -1, verbose = 3)\n",
        "\n",
        "# Fitting train data to the grid search\n",
        "grid_search.fit(X_train, y_train)\n",
        "\n",
        "# Getting best parameters for model\n",
        "grid_search.best_params_"
      ]
    },
    {
      "cell_type": "code",
      "execution_count": null,
      "metadata": {
        "id": "Zyr9PnY2MM0t"
      },
      "outputs": [],
      "source": [
        "# Specify optimized AdaBoostClassifier\n",
        "abc = AdaBoostClassifier(learning_rate = 0.19, n_estimators = 50)\n",
        "\n",
        "# Fitting training data into model\n",
        "abc = abc.fit(X_train, y_train)\n",
        "\n",
        "# prediction\n",
        "y_pred_abc = abc.predict(X_test)"
      ]
    },
    {
      "cell_type": "code",
      "execution_count": null,
      "metadata": {
        "colab": {
          "base_uri": "https://localhost:8080/"
        },
        "id": "Rfc8EX3dMMgl",
        "outputId": "8cdd1147-9748-4bf8-dc1d-54803e475422"
      },
      "outputs": [
        {
          "output_type": "execute_result",
          "data": {
            "text/plain": [
              "array([[ 30,   6],\n",
              "       [  7, 826]])"
            ]
          },
          "metadata": {},
          "execution_count": 74
        }
      ],
      "source": [
        "# Importing confusion_matrix from sklearn metrics\n",
        "from sklearn.metrics import confusion_matrix\n",
        "\n",
        "# Creating  a confusion matrix,which compares the y_test and y_pred\n",
        "cm = confusion_matrix(y_test, y_pred_abc)\n",
        "\n",
        "# Condfusion matrix\n",
        "cm"
      ]
    },
    {
      "cell_type": "markdown",
      "metadata": {
        "id": "fvkU1YG1bVY4"
      },
      "source": [
        "From the confusion matrix the model was able to predict individuals with and without hypothyroidism as shown:\n",
        "\n",
        "1. True positive = 29 test individuals correctly predicted as having hypothroidism\n",
        "2. True negative = 826 test individuals correctly predicted as not having hypothroidism\n",
        "3. False positive = 7 test individuals wrongly predicted as having hypothroidism\n",
        "4. False negative = 7 test individuals wrongly predicted as not having hypothroidism"
      ]
    },
    {
      "cell_type": "code",
      "execution_count": null,
      "metadata": {
        "colab": {
          "base_uri": "https://localhost:8080/"
        },
        "id": "i_F6JBsrN_ns",
        "outputId": "30e66d8f-8cd3-4d32-da15-7816177a667b"
      },
      "outputs": [
        {
          "output_type": "stream",
          "name": "stdout",
          "text": [
            "              precision    recall  f1-score   support\n",
            "\n",
            "           0       0.81      0.83      0.82        36\n",
            "           1       0.99      0.99      0.99       833\n",
            "\n",
            "    accuracy                           0.99       869\n",
            "   macro avg       0.90      0.91      0.91       869\n",
            "weighted avg       0.99      0.99      0.99       869\n",
            "\n"
          ]
        }
      ],
      "source": [
        "# Importing classification_report from sklearn metrics\n",
        "from sklearn.metrics import classification_report\n",
        "\n",
        "#Create classification report\n",
        "class_report_abc= classification_report(y_test, y_pred_abc)\n",
        "\n",
        "print(class_report_abc)"
      ]
    },
    {
      "cell_type": "markdown",
      "metadata": {
        "id": "uLnrWetRbVY8"
      },
      "source": [
        "## Summary of decision tree models"
      ]
    },
    {
      "cell_type": "code",
      "execution_count": null,
      "metadata": {
        "colab": {
          "base_uri": "https://localhost:8080/"
        },
        "id": "m03Jizv1bVY-",
        "outputId": "f537ead5-df85-452b-faa3-67786065c4dd"
      },
      "outputs": [
        {
          "output_type": "stream",
          "name": "stdout",
          "text": [
            "              precision    recall  f1-score   support\n",
            "\n",
            "           0       0.85      0.61      0.71        36\n",
            "           1       0.98      1.00      0.99       833\n",
            "\n",
            "    accuracy                           0.98       869\n",
            "   macro avg       0.91      0.80      0.85       869\n",
            "weighted avg       0.98      0.98      0.98       869\n",
            "\n"
          ]
        }
      ],
      "source": [
        "# Classification report random forest classifier\n",
        "print(class_report_rfl)"
      ]
    },
    {
      "cell_type": "code",
      "execution_count": null,
      "metadata": {
        "colab": {
          "base_uri": "https://localhost:8080/"
        },
        "id": "qprseVV3bVZA",
        "outputId": "bdadd578-e776-4351-bbac-b8925364b715"
      },
      "outputs": [
        {
          "output_type": "stream",
          "name": "stdout",
          "text": [
            "              precision    recall  f1-score   support\n",
            "\n",
            "           0       0.82      0.86      0.84        36\n",
            "           1       0.99      0.99      0.99       833\n",
            "\n",
            "    accuracy                           0.99       869\n",
            "   macro avg       0.90      0.93      0.92       869\n",
            "weighted avg       0.99      0.99      0.99       869\n",
            "\n"
          ]
        }
      ],
      "source": [
        "# Classification report gradient boost classifier\n",
        "print(class_report_gbc)"
      ]
    },
    {
      "cell_type": "code",
      "execution_count": null,
      "metadata": {
        "colab": {
          "base_uri": "https://localhost:8080/"
        },
        "id": "mNJKeVVybVZB",
        "outputId": "584f54a2-eb7c-4e02-9067-3a97e73c347c"
      },
      "outputs": [
        {
          "output_type": "stream",
          "name": "stdout",
          "text": [
            "              precision    recall  f1-score   support\n",
            "\n",
            "           0       0.81      0.83      0.82        36\n",
            "           1       0.99      0.99      0.99       833\n",
            "\n",
            "    accuracy                           0.99       869\n",
            "   macro avg       0.90      0.91      0.91       869\n",
            "weighted avg       0.99      0.99      0.99       869\n",
            "\n"
          ]
        }
      ],
      "source": [
        "# Classification report  ada boost classifier\n",
        "print(class_report_abc)"
      ]
    },
    {
      "cell_type": "markdown",
      "metadata": {
        "id": "Gu5FO9GVbVZD"
      },
      "source": [
        "From the classiffication reports of the three models, Gradient boost classifier scores higher in recall, F1_score than either\n",
        "adaboost classifier or the random forest classifier. \n",
        "\n",
        "Furthermore, it is only outscored by the random forest classifier in precision but by only (0.04) but out performs adaboost classifier. \n",
        "\n",
        "Random Forest classifier scores highest in precision but performs really poorly in recall and it's F1_score. \n",
        "\n",
        "From those scores, the gradient boost model shall be selected as the best model for this study"
      ]
    },
    {
      "cell_type": "markdown",
      "metadata": {
        "id": "UDBx2q1WbVZE"
      },
      "source": [
        "## Feature importances using Gradient boost classifier model"
      ]
    },
    {
      "cell_type": "markdown",
      "metadata": {
        "id": "zAsCtkyHio3m"
      },
      "source": [
        "The dataframe has 21 attributes and from  the decison tree above not all these attributes are important. Using all just leads to overfitting and a less robust model. \n",
        "\n",
        "Feature importance refers to technique that assigns a score to features based on how significant they are at predicting a target variable. The scores are calculated on the weighted Gini indices.\n",
        "\n",
        "Here important features shall be selected based on scores obtained from the weighted Gini indices"
      ]
    },
    {
      "cell_type": "code",
      "execution_count": null,
      "metadata": {
        "id": "ep6LVaaciVmY"
      },
      "outputs": [],
      "source": [
        "# Target variable\n",
        "y = hypothyroid_df['status']\n",
        "\n",
        "# Test features\n",
        "test_features = hypothyroid_df.drop(columns = ['status']).columns.to_list()\n",
        "\n",
        "# Feature varibales\n",
        "X = hypothyroid_df[test_features]\n",
        "\n",
        "# Train(70% of data) and test samples\n",
        "X_train, X_test, y_train, y_test = train_test_split(X, y, test_size=0.3, random_state=0)"
      ]
    },
    {
      "cell_type": "code",
      "execution_count": null,
      "metadata": {
        "id": "-XTsQs3AiVdR"
      },
      "outputs": [],
      "source": [
        "# let's create a dictionary of features and their importance values\n",
        "feat_dict= {}\n",
        "for col, val in sorted(zip(X_train.columns, gbc.feature_importances_),key=lambda x:x[1],reverse=True):\n",
        "  feat_dict[col]=val"
      ]
    },
    {
      "cell_type": "code",
      "execution_count": null,
      "metadata": {
        "colab": {
          "base_uri": "https://localhost:8080/",
          "height": 802
        },
        "id": "mi0ImWz3iVVn",
        "outputId": "5082c6a0-4c78-40a1-bc6e-fdb46f0434a6"
      },
      "outputs": [
        {
          "output_type": "execute_result",
          "data": {
            "text/plain": [
              "                      Feature  Importance\n",
              "0                         FTI       0.697\n",
              "1                         TSH       0.192\n",
              "2                          T3       0.031\n",
              "3                TSH_measured       0.030\n",
              "4                         age       0.023\n",
              "5                         TT4       0.009\n",
              "6                on_thyroxine       0.008\n",
              "7                         T4U       0.004\n",
              "8   on_antithyroid_medication       0.003\n",
              "9           query_hypothyroid       0.003\n",
              "10            thyroid_surgery       0.001\n",
              "11                        sex       0.000\n",
              "12         query_on_thyroxine       0.000\n",
              "13         query_hyperthyroid       0.000\n",
              "14                   pregnant       0.000\n",
              "15                       sick       0.000\n",
              "16                      tumor       0.000\n",
              "17                    lithium       0.000\n",
              "18                     goitre       0.000\n",
              "19                T3_measured       0.000\n",
              "20               TT4_measured       0.000\n",
              "21               T4U_measured       0.000\n",
              "22               FTI_measured       0.000\n",
              "23               TBG_measured       0.000"
            ],
            "text/html": [
              "\n",
              "  <div id=\"df-e982342c-fb7f-4a48-be70-b9634bdc94dd\">\n",
              "    <div class=\"colab-df-container\">\n",
              "      <div>\n",
              "<style scoped>\n",
              "    .dataframe tbody tr th:only-of-type {\n",
              "        vertical-align: middle;\n",
              "    }\n",
              "\n",
              "    .dataframe tbody tr th {\n",
              "        vertical-align: top;\n",
              "    }\n",
              "\n",
              "    .dataframe thead th {\n",
              "        text-align: right;\n",
              "    }\n",
              "</style>\n",
              "<table border=\"1\" class=\"dataframe\">\n",
              "  <thead>\n",
              "    <tr style=\"text-align: right;\">\n",
              "      <th></th>\n",
              "      <th>Feature</th>\n",
              "      <th>Importance</th>\n",
              "    </tr>\n",
              "  </thead>\n",
              "  <tbody>\n",
              "    <tr>\n",
              "      <th>0</th>\n",
              "      <td>FTI</td>\n",
              "      <td>0.697</td>\n",
              "    </tr>\n",
              "    <tr>\n",
              "      <th>1</th>\n",
              "      <td>TSH</td>\n",
              "      <td>0.192</td>\n",
              "    </tr>\n",
              "    <tr>\n",
              "      <th>2</th>\n",
              "      <td>T3</td>\n",
              "      <td>0.031</td>\n",
              "    </tr>\n",
              "    <tr>\n",
              "      <th>3</th>\n",
              "      <td>TSH_measured</td>\n",
              "      <td>0.030</td>\n",
              "    </tr>\n",
              "    <tr>\n",
              "      <th>4</th>\n",
              "      <td>age</td>\n",
              "      <td>0.023</td>\n",
              "    </tr>\n",
              "    <tr>\n",
              "      <th>5</th>\n",
              "      <td>TT4</td>\n",
              "      <td>0.009</td>\n",
              "    </tr>\n",
              "    <tr>\n",
              "      <th>6</th>\n",
              "      <td>on_thyroxine</td>\n",
              "      <td>0.008</td>\n",
              "    </tr>\n",
              "    <tr>\n",
              "      <th>7</th>\n",
              "      <td>T4U</td>\n",
              "      <td>0.004</td>\n",
              "    </tr>\n",
              "    <tr>\n",
              "      <th>8</th>\n",
              "      <td>on_antithyroid_medication</td>\n",
              "      <td>0.003</td>\n",
              "    </tr>\n",
              "    <tr>\n",
              "      <th>9</th>\n",
              "      <td>query_hypothyroid</td>\n",
              "      <td>0.003</td>\n",
              "    </tr>\n",
              "    <tr>\n",
              "      <th>10</th>\n",
              "      <td>thyroid_surgery</td>\n",
              "      <td>0.001</td>\n",
              "    </tr>\n",
              "    <tr>\n",
              "      <th>11</th>\n",
              "      <td>sex</td>\n",
              "      <td>0.000</td>\n",
              "    </tr>\n",
              "    <tr>\n",
              "      <th>12</th>\n",
              "      <td>query_on_thyroxine</td>\n",
              "      <td>0.000</td>\n",
              "    </tr>\n",
              "    <tr>\n",
              "      <th>13</th>\n",
              "      <td>query_hyperthyroid</td>\n",
              "      <td>0.000</td>\n",
              "    </tr>\n",
              "    <tr>\n",
              "      <th>14</th>\n",
              "      <td>pregnant</td>\n",
              "      <td>0.000</td>\n",
              "    </tr>\n",
              "    <tr>\n",
              "      <th>15</th>\n",
              "      <td>sick</td>\n",
              "      <td>0.000</td>\n",
              "    </tr>\n",
              "    <tr>\n",
              "      <th>16</th>\n",
              "      <td>tumor</td>\n",
              "      <td>0.000</td>\n",
              "    </tr>\n",
              "    <tr>\n",
              "      <th>17</th>\n",
              "      <td>lithium</td>\n",
              "      <td>0.000</td>\n",
              "    </tr>\n",
              "    <tr>\n",
              "      <th>18</th>\n",
              "      <td>goitre</td>\n",
              "      <td>0.000</td>\n",
              "    </tr>\n",
              "    <tr>\n",
              "      <th>19</th>\n",
              "      <td>T3_measured</td>\n",
              "      <td>0.000</td>\n",
              "    </tr>\n",
              "    <tr>\n",
              "      <th>20</th>\n",
              "      <td>TT4_measured</td>\n",
              "      <td>0.000</td>\n",
              "    </tr>\n",
              "    <tr>\n",
              "      <th>21</th>\n",
              "      <td>T4U_measured</td>\n",
              "      <td>0.000</td>\n",
              "    </tr>\n",
              "    <tr>\n",
              "      <th>22</th>\n",
              "      <td>FTI_measured</td>\n",
              "      <td>0.000</td>\n",
              "    </tr>\n",
              "    <tr>\n",
              "      <th>23</th>\n",
              "      <td>TBG_measured</td>\n",
              "      <td>0.000</td>\n",
              "    </tr>\n",
              "  </tbody>\n",
              "</table>\n",
              "</div>\n",
              "      <button class=\"colab-df-convert\" onclick=\"convertToInteractive('df-e982342c-fb7f-4a48-be70-b9634bdc94dd')\"\n",
              "              title=\"Convert this dataframe to an interactive table.\"\n",
              "              style=\"display:none;\">\n",
              "        \n",
              "  <svg xmlns=\"http://www.w3.org/2000/svg\" height=\"24px\"viewBox=\"0 0 24 24\"\n",
              "       width=\"24px\">\n",
              "    <path d=\"M0 0h24v24H0V0z\" fill=\"none\"/>\n",
              "    <path d=\"M18.56 5.44l.94 2.06.94-2.06 2.06-.94-2.06-.94-.94-2.06-.94 2.06-2.06.94zm-11 1L8.5 8.5l.94-2.06 2.06-.94-2.06-.94L8.5 2.5l-.94 2.06-2.06.94zm10 10l.94 2.06.94-2.06 2.06-.94-2.06-.94-.94-2.06-.94 2.06-2.06.94z\"/><path d=\"M17.41 7.96l-1.37-1.37c-.4-.4-.92-.59-1.43-.59-.52 0-1.04.2-1.43.59L10.3 9.45l-7.72 7.72c-.78.78-.78 2.05 0 2.83L4 21.41c.39.39.9.59 1.41.59.51 0 1.02-.2 1.41-.59l7.78-7.78 2.81-2.81c.8-.78.8-2.07 0-2.86zM5.41 20L4 18.59l7.72-7.72 1.47 1.35L5.41 20z\"/>\n",
              "  </svg>\n",
              "      </button>\n",
              "      \n",
              "  <style>\n",
              "    .colab-df-container {\n",
              "      display:flex;\n",
              "      flex-wrap:wrap;\n",
              "      gap: 12px;\n",
              "    }\n",
              "\n",
              "    .colab-df-convert {\n",
              "      background-color: #E8F0FE;\n",
              "      border: none;\n",
              "      border-radius: 50%;\n",
              "      cursor: pointer;\n",
              "      display: none;\n",
              "      fill: #1967D2;\n",
              "      height: 32px;\n",
              "      padding: 0 0 0 0;\n",
              "      width: 32px;\n",
              "    }\n",
              "\n",
              "    .colab-df-convert:hover {\n",
              "      background-color: #E2EBFA;\n",
              "      box-shadow: 0px 1px 2px rgba(60, 64, 67, 0.3), 0px 1px 3px 1px rgba(60, 64, 67, 0.15);\n",
              "      fill: #174EA6;\n",
              "    }\n",
              "\n",
              "    [theme=dark] .colab-df-convert {\n",
              "      background-color: #3B4455;\n",
              "      fill: #D2E3FC;\n",
              "    }\n",
              "\n",
              "    [theme=dark] .colab-df-convert:hover {\n",
              "      background-color: #434B5C;\n",
              "      box-shadow: 0px 1px 3px 1px rgba(0, 0, 0, 0.15);\n",
              "      filter: drop-shadow(0px 1px 2px rgba(0, 0, 0, 0.3));\n",
              "      fill: #FFFFFF;\n",
              "    }\n",
              "  </style>\n",
              "\n",
              "      <script>\n",
              "        const buttonEl =\n",
              "          document.querySelector('#df-e982342c-fb7f-4a48-be70-b9634bdc94dd button.colab-df-convert');\n",
              "        buttonEl.style.display =\n",
              "          google.colab.kernel.accessAllowed ? 'block' : 'none';\n",
              "\n",
              "        async function convertToInteractive(key) {\n",
              "          const element = document.querySelector('#df-e982342c-fb7f-4a48-be70-b9634bdc94dd');\n",
              "          const dataTable =\n",
              "            await google.colab.kernel.invokeFunction('convertToInteractive',\n",
              "                                                     [key], {});\n",
              "          if (!dataTable) return;\n",
              "\n",
              "          const docLinkHtml = 'Like what you see? Visit the ' +\n",
              "            '<a target=\"_blank\" href=https://colab.research.google.com/notebooks/data_table.ipynb>data table notebook</a>'\n",
              "            + ' to learn more about interactive tables.';\n",
              "          element.innerHTML = '';\n",
              "          dataTable['output_type'] = 'display_data';\n",
              "          await google.colab.output.renderOutput(dataTable, element);\n",
              "          const docLink = document.createElement('div');\n",
              "          docLink.innerHTML = docLinkHtml;\n",
              "          element.appendChild(docLink);\n",
              "        }\n",
              "      </script>\n",
              "    </div>\n",
              "  </div>\n",
              "  "
            ]
          },
          "metadata": {},
          "execution_count": 81
        }
      ],
      "source": [
        "# Dataframe with features and their importance score\n",
        "feat_df = pd.DataFrame({'Feature':feat_dict.keys(),'Importance':feat_dict.values()})\n",
        "\n",
        "# Preview dataframe\n",
        "feat_df"
      ]
    },
    {
      "cell_type": "markdown",
      "metadata": {
        "id": "AIGgAyeliaSP"
      },
      "source": [
        "Using feature importance scores obtained from gradient boost model, only 12 out of 24 features are important for the classification. They are:\n",
        "\n",
        "            - FTI, TSH, TSH_measured, T3, Age,   on_antithyroid_medication, TT4, T4U, query_hypothyroid, thyroid_surgery and TBG_measured\t\n",
        "\n",
        "These attributes shall be used in the improved decision tree classifier model. The Free T4 Index (FTI) and Thyroid stimulating hormone(TSH) levels are the most important features in determining whether one has hypothyrodism or not"
      ]
    },
    {
      "cell_type": "code",
      "execution_count": null,
      "metadata": {
        "colab": {
          "base_uri": "https://localhost:8080/",
          "height": 513
        },
        "id": "hwEnT7X9iVLP",
        "outputId": "388d396f-40e3-4a4a-d68b-413d63a78211"
      },
      "outputs": [
        {
          "output_type": "display_data",
          "data": {
            "text/plain": [
              "<Figure size 720x576 with 1 Axes>"
            ],
            "image/png": "[encoded data removed]"
          },
          "metadata": {
            "needs_background": "light"
          }
        }
      ],
      "source": [
        "# Visualization of the features with their importances\n",
        "values = feat_df.Importance  \n",
        "\n",
        "idx = feat_df.Feature\n",
        "\n",
        "# Figure plot\n",
        "plt.figure(figsize=(10,8))\n",
        "\n",
        "# Specifying colors\n",
        "clrs = ['green' if (x < max(values)) else 'red' for x in values ]\n",
        "\n",
        "# Barplot sns\n",
        "sns.barplot(y=idx,x=values,palette=clrs).set(title='Important features to predict customer Churn')\n",
        "\n",
        "# Show plot\n",
        "plt.show()"
      ]
    },
    {
      "cell_type": "markdown",
      "metadata": {
        "id": "VSu6Wh3rbVZN"
      },
      "source": [
        "## Visualization Gradient Boost Classifier"
      ]
    },
    {
      "cell_type": "code",
      "execution_count": null,
      "metadata": {
        "colab": {
          "base_uri": "https://localhost:8080/",
          "height": 240
        },
        "id": "EiMZ_kBuiUlA",
        "outputId": "23a8a101-ff89-4db4-d642-54bdb1412e02"
      },
      "outputs": [
        {
          "output_type": "display_data",
          "data": {
            "text/plain": [
              "<Figure size 432x288 with 1 Axes>"
            ],
            "image/png": "[encoded data removed]"
          },
          "metadata": {
            "needs_background": "light"
          }
        }
      ],
      "source": [
        "# plot decision tree\n",
        "\n",
        "\n",
        "# fit model no training data\n",
        "model = XGBClassifier(learning_rate= 0.25, max_depth= 5, n_estimators= 85)\n",
        "\n",
        "model.fit(X_train, y_train)\n",
        "\n",
        "# plot single tree\n",
        "\n",
        "plot_tree(model)\n",
        "\n",
        "plt.show()"
      ]
    },
    {
      "cell_type": "markdown",
      "metadata": {
        "id": "9JnPEVaQbVZQ"
      },
      "source": [
        "The first test performed was on free T4 index(FTI) level in a patient. The dataset are split on 0.5 FTI parameter.\n",
        "\n",
        "Because of this majority the root note has the class (negative (does not have hyperthyrodism))"
      ]
    },
    {
      "cell_type": "markdown",
      "metadata": {
        "id": "AWFbyOwwbVZR"
      },
      "source": [
        "## Using The most important features and optimized hyperparameters for Gradient Boost Classifier"
      ]
    },
    {
      "cell_type": "code",
      "execution_count": null,
      "metadata": {
        "id": "h-Ke7YpcbVZS"
      },
      "outputs": [],
      "source": [
        "# Target variable\n",
        "y = hypothyroid_df['status']\n",
        "\n",
        "# Test features\n",
        "test_features = ['FTI', 'TSH', 'TSH_measured', 'T3', 'age',   'on_antithyroid_medication', \n",
        "'TT4', 'T4U', 'query_hypothyroid', 'thyroid_surgery',  'TBG_measured']\n",
        "\n",
        "# Feature varibales\n",
        "X = hypothyroid_df[test_features]\n",
        "\n",
        "# Train(70% of data) and test samples\n",
        "X_train, X_test, y_train, y_test = train_test_split(X, y, test_size=0.3, random_state=0)"
      ]
    },
    {
      "cell_type": "code",
      "execution_count": null,
      "metadata": {
        "id": "fuke8ksbbVZT"
      },
      "outputs": [],
      "source": [
        "# Specify optimized GradientBoostingClassifier\n",
        "gbc = GradientBoostingClassifier(learning_rate = 0.25, max_depth = 5,  n_estimators = 85)\n",
        "\n",
        "# Fitting training data into model\n",
        "gbc = gbc.fit(X_train, y_train)\n",
        "\n",
        "# prediction\n",
        "y_pred_gbc = gbc.predict(X_test)"
      ]
    },
    {
      "cell_type": "code",
      "execution_count": null,
      "metadata": {
        "colab": {
          "base_uri": "https://localhost:8080/"
        },
        "id": "09IzwL-XbVZV",
        "outputId": "9ceba654-8656-464f-edb8-1f57e54bbfec"
      },
      "outputs": [
        {
          "output_type": "execute_result",
          "data": {
            "text/plain": [
              "array([[ 30,   6],\n",
              "       [  6, 827]])"
            ]
          },
          "metadata": {},
          "execution_count": 86
        }
      ],
      "source": [
        "# Importing confusion_matrix from sklearn metrics\n",
        "from sklearn.metrics import confusion_matrix\n",
        "\n",
        "# Creating  a confusion matrix,which compares the y_test and y_pred\n",
        "cm = confusion_matrix(y_test, y_pred_gbc)\n",
        "\n",
        "# Condfusion matrix\n",
        "cm"
      ]
    },
    {
      "cell_type": "markdown",
      "metadata": {
        "id": "EHPSDlHabVZW"
      },
      "source": [
        "From the confusion matrix the model was able to predict individuals with and without hypothyroidism as shown:\n",
        "\n",
        "1. True positive = 30 test individuals correctly predicted as having hypothroidism\n",
        "2. True negative = 827 test individuals correctly predicted as not having hypothroidism\n",
        "3. False positive = 6 test individuals wrongly predicted as having hypothroidism\n",
        "4. False negative = 6 test individuals wrongly predicted as not having hypothroidism"
      ]
    },
    {
      "cell_type": "code",
      "execution_count": null,
      "metadata": {
        "colab": {
          "base_uri": "https://localhost:8080/"
        },
        "id": "Zwyx_WK1bVZX",
        "outputId": "487040af-376f-4f93-cfcd-7ed2d0568d0d"
      },
      "outputs": [
        {
          "output_type": "stream",
          "name": "stdout",
          "text": [
            "              precision    recall  f1-score   support\n",
            "\n",
            "           0       0.83      0.83      0.83        36\n",
            "           1       0.99      0.99      0.99       833\n",
            "\n",
            "    accuracy                           0.99       869\n",
            "   macro avg       0.91      0.91      0.91       869\n",
            "weighted avg       0.99      0.99      0.99       869\n",
            "\n"
          ]
        }
      ],
      "source": [
        "# Importing classification_report from sklearn metrics\n",
        "from sklearn.metrics import classification_report\n",
        "\n",
        "# Classification report of gradient boost classifier model using selected features(with importance)\n",
        "class_report_gbc_optimized= classification_report(y_test, y_pred_gbc)\n",
        "\n",
        "print(class_report_gbc_optimized)"
      ]
    },
    {
      "cell_type": "code",
      "execution_count": null,
      "metadata": {
        "colab": {
          "base_uri": "https://localhost:8080/"
        },
        "id": "O9VJJTbFbVZZ",
        "outputId": "c9dd8d9a-3952-42f8-e705-f2cc5b8fa938"
      },
      "outputs": [
        {
          "output_type": "stream",
          "name": "stdout",
          "text": [
            "              precision    recall  f1-score   support\n",
            "\n",
            "           0       0.82      0.86      0.84        36\n",
            "           1       0.99      0.99      0.99       833\n",
            "\n",
            "    accuracy                           0.99       869\n",
            "   macro avg       0.90      0.93      0.92       869\n",
            "weighted avg       0.99      0.99      0.99       869\n",
            "\n"
          ]
        }
      ],
      "source": [
        "# Classification report of gradient boost classifier model using all feature variables\n",
        "print(class_report_gbc)"
      ]
    },
    {
      "cell_type": "markdown",
      "metadata": {
        "id": "yUYLDOccbVZa"
      },
      "source": [
        "Using the features that have some importance(dropping those with a score of 0(no importance)) and tuned hyperparameters, the gradient boost classifier model attains a similar performance to the gradient boost classifier model with all features factored in. "
      ]
    },
    {
      "cell_type": "markdown",
      "metadata": {
        "id": "VkaZ67RSbVZb"
      },
      "source": [
        "## Support Vector Machine"
      ]
    },
    {
      "cell_type": "markdown",
      "metadata": {
        "id": "u1-4d7RzbVZd"
      },
      "source": [
        "Support vector machine (abbreviated as SVM) is a supervised learning algorithm often used in classification. SVM can also be used for regression but it is often used for classification. Moreover, the SVM technique is best suited for extreme cases.  SVM works by mapping data to a high-dimensional feature space so that data points can be categorized, even when the data are not otherwise linearly separable. A separator between the categories is found, then the data are transformed in such a way that the separator could be drawn as a hyperplane.\n",
        "\n",
        "The data provied by  Nairobi hospital had attributes with numerous outliers and attributes though they do not exceed the number of records. SVM shall be employed in this study to study for extreme hypothrodism cases in the dataset provided. It shall be compared to the selected  gradient boost decision tree classifier."
      ]
    },
    {
      "cell_type": "code",
      "execution_count": null,
      "metadata": {
        "colab": {
          "base_uri": "https://localhost:8080/",
          "height": 299
        },
        "id": "KjdkThcCbVZf",
        "outputId": "41af3052-7d54-4356-fa08-2e28d9a0f0e8"
      },
      "outputs": [
        {
          "output_type": "execute_result",
          "data": {
            "text/plain": [
              "   status  sex  on_thyroxine  query_on_thyroxine  on_antithyroid_medication  \\\n",
              "0       0    1             0                   0                          0   \n",
              "1       0    0             1                   0                          0   \n",
              "2       0    1             0                   0                          0   \n",
              "3       0    0             0                   0                          0   \n",
              "4       0    1             0                   0                          0   \n",
              "\n",
              "   thyroid_surgery  query_hypothyroid  query_hyperthyroid  pregnant  sick  \\\n",
              "0                0                  0                   0         0     0   \n",
              "1                0                  0                   0         0     0   \n",
              "2                0                  0                   0         0     0   \n",
              "3                0                  0                   0         0     0   \n",
              "4                0                  0                   0         0     0   \n",
              "\n",
              "   ...  TT4_measured  T4U_measured  FTI_measured  TBG_measured    age     TSH  \\\n",
              "0  ...             1             1             1             0 72.000  30.000   \n",
              "1  ...             1             1             1             0 15.000 145.000   \n",
              "2  ...             1             1             1             0 24.000   0.000   \n",
              "3  ...             1             1             1             0 24.000 430.000   \n",
              "4  ...             1             1             1             0 77.000   7.300   \n",
              "\n",
              "     T3    TT4   T4U    FTI  \n",
              "0 0.600 15.000 1.480 10.000  \n",
              "1 1.700 19.000 1.130 17.000  \n",
              "2 0.200  4.000 1.000  0.000  \n",
              "3 0.400  6.000 1.040  6.000  \n",
              "4 1.200 57.000 1.280 44.000  \n",
              "\n",
              "[5 rows x 25 columns]"
            ],
            "text/html": [
              "\n",
              "  <div id=\"df-e78cd2ce-a4c9-4eed-a976-f50dd8b3de58\">\n",
              "    <div class=\"colab-df-container\">\n",
              "      <div>\n",
              "<style scoped>\n",
              "    .dataframe tbody tr th:only-of-type {\n",
              "        vertical-align: middle;\n",
              "    }\n",
              "\n",
              "    .dataframe tbody tr th {\n",
              "        vertical-align: top;\n",
              "    }\n",
              "\n",
              "    .dataframe thead th {\n",
              "        text-align: right;\n",
              "    }\n",
              "</style>\n",
              "<table border=\"1\" class=\"dataframe\">\n",
              "  <thead>\n",
              "    <tr style=\"text-align: right;\">\n",
              "      <th></th>\n",
              "      <th>status</th>\n",
              "      <th>sex</th>\n",
              "      <th>on_thyroxine</th>\n",
              "      <th>query_on_thyroxine</th>\n",
              "      <th>on_antithyroid_medication</th>\n",
              "      <th>thyroid_surgery</th>\n",
              "      <th>query_hypothyroid</th>\n",
              "      <th>query_hyperthyroid</th>\n",
              "      <th>pregnant</th>\n",
              "      <th>sick</th>\n",
              "      <th>...</th>\n",
              "      <th>TT4_measured</th>\n",
              "      <th>T4U_measured</th>\n",
              "      <th>FTI_measured</th>\n",
              "      <th>TBG_measured</th>\n",
              "      <th>age</th>\n",
              "      <th>TSH</th>\n",
              "      <th>T3</th>\n",
              "      <th>TT4</th>\n",
              "      <th>T4U</th>\n",
              "      <th>FTI</th>\n",
              "    </tr>\n",
              "  </thead>\n",
              "  <tbody>\n",
              "    <tr>\n",
              "      <th>0</th>\n",
              "      <td>0</td>\n",
              "      <td>1</td>\n",
              "      <td>0</td>\n",
              "      <td>0</td>\n",
              "      <td>0</td>\n",
              "      <td>0</td>\n",
              "      <td>0</td>\n",
              "      <td>0</td>\n",
              "      <td>0</td>\n",
              "      <td>0</td>\n",
              "      <td>...</td>\n",
              "      <td>1</td>\n",
              "      <td>1</td>\n",
              "      <td>1</td>\n",
              "      <td>0</td>\n",
              "      <td>72.000</td>\n",
              "      <td>30.000</td>\n",
              "      <td>0.600</td>\n",
              "      <td>15.000</td>\n",
              "      <td>1.480</td>\n",
              "      <td>10.000</td>\n",
              "    </tr>\n",
              "    <tr>\n",
              "      <th>1</th>\n",
              "      <td>0</td>\n",
              "      <td>0</td>\n",
              "      <td>1</td>\n",
              "      <td>0</td>\n",
              "      <td>0</td>\n",
              "      <td>0</td>\n",
              "      <td>0</td>\n",
              "      <td>0</td>\n",
              "      <td>0</td>\n",
              "      <td>0</td>\n",
              "      <td>...</td>\n",
              "      <td>1</td>\n",
              "      <td>1</td>\n",
              "      <td>1</td>\n",
              "      <td>0</td>\n",
              "      <td>15.000</td>\n",
              "      <td>145.000</td>\n",
              "      <td>1.700</td>\n",
              "      <td>19.000</td>\n",
              "      <td>1.130</td>\n",
              "      <td>17.000</td>\n",
              "    </tr>\n",
              "    <tr>\n",
              "      <th>2</th>\n",
              "      <td>0</td>\n",
              "      <td>1</td>\n",
              "      <td>0</td>\n",
              "      <td>0</td>\n",
              "      <td>0</td>\n",
              "      <td>0</td>\n",
              "      <td>0</td>\n",
              "      <td>0</td>\n",
              "      <td>0</td>\n",
              "      <td>0</td>\n",
              "      <td>...</td>\n",
              "      <td>1</td>\n",
              "      <td>1</td>\n",
              "      <td>1</td>\n",
              "      <td>0</td>\n",
              "      <td>24.000</td>\n",
              "      <td>0.000</td>\n",
              "      <td>0.200</td>\n",
              "      <td>4.000</td>\n",
              "      <td>1.000</td>\n",
              "      <td>0.000</td>\n",
              "    </tr>\n",
              "    <tr>\n",
              "      <th>3</th>\n",
              "      <td>0</td>\n",
              "      <td>0</td>\n",
              "      <td>0</td>\n",
              "      <td>0</td>\n",
              "      <td>0</td>\n",
              "      <td>0</td>\n",
              "      <td>0</td>\n",
              "      <td>0</td>\n",
              "      <td>0</td>\n",
              "      <td>0</td>\n",
              "      <td>...</td>\n",
              "      <td>1</td>\n",
              "      <td>1</td>\n",
              "      <td>1</td>\n",
              "      <td>0</td>\n",
              "      <td>24.000</td>\n",
              "      <td>430.000</td>\n",
              "      <td>0.400</td>\n",
              "      <td>6.000</td>\n",
              "      <td>1.040</td>\n",
              "      <td>6.000</td>\n",
              "    </tr>\n",
              "    <tr>\n",
              "      <th>4</th>\n",
              "      <td>0</td>\n",
              "      <td>1</td>\n",
              "      <td>0</td>\n",
              "      <td>0</td>\n",
              "      <td>0</td>\n",
              "      <td>0</td>\n",
              "      <td>0</td>\n",
              "      <td>0</td>\n",
              "      <td>0</td>\n",
              "      <td>0</td>\n",
              "      <td>...</td>\n",
              "      <td>1</td>\n",
              "      <td>1</td>\n",
              "      <td>1</td>\n",
              "      <td>0</td>\n",
              "      <td>77.000</td>\n",
              "      <td>7.300</td>\n",
              "      <td>1.200</td>\n",
              "      <td>57.000</td>\n",
              "      <td>1.280</td>\n",
              "      <td>44.000</td>\n",
              "    </tr>\n",
              "  </tbody>\n",
              "</table>\n",
              "<p>5 rows × 25 columns</p>\n",
              "</div>\n",
              "      <button class=\"colab-df-convert\" onclick=\"convertToInteractive('df-e78cd2ce-a4c9-4eed-a976-f50dd8b3de58')\"\n",
              "              title=\"Convert this dataframe to an interactive table.\"\n",
              "              style=\"display:none;\">\n",
              "        \n",
              "  <svg xmlns=\"http://www.w3.org/2000/svg\" height=\"24px\"viewBox=\"0 0 24 24\"\n",
              "       width=\"24px\">\n",
              "    <path d=\"M0 0h24v24H0V0z\" fill=\"none\"/>\n",
              "    <path d=\"M18.56 5.44l.94 2.06.94-2.06 2.06-.94-2.06-.94-.94-2.06-.94 2.06-2.06.94zm-11 1L8.5 8.5l.94-2.06 2.06-.94-2.06-.94L8.5 2.5l-.94 2.06-2.06.94zm10 10l.94 2.06.94-2.06 2.06-.94-2.06-.94-.94-2.06-.94 2.06-2.06.94z\"/><path d=\"M17.41 7.96l-1.37-1.37c-.4-.4-.92-.59-1.43-.59-.52 0-1.04.2-1.43.59L10.3 9.45l-7.72 7.72c-.78.78-.78 2.05 0 2.83L4 21.41c.39.39.9.59 1.41.59.51 0 1.02-.2 1.41-.59l7.78-7.78 2.81-2.81c.8-.78.8-2.07 0-2.86zM5.41 20L4 18.59l7.72-7.72 1.47 1.35L5.41 20z\"/>\n",
              "  </svg>\n",
              "      </button>\n",
              "      \n",
              "  <style>\n",
              "    .colab-df-container {\n",
              "      display:flex;\n",
              "      flex-wrap:wrap;\n",
              "      gap: 12px;\n",
              "    }\n",
              "\n",
              "    .colab-df-convert {\n",
              "      background-color: #E8F0FE;\n",
              "      border: none;\n",
              "      border-radius: 50%;\n",
              "      cursor: pointer;\n",
              "      display: none;\n",
              "      fill: #1967D2;\n",
              "      height: 32px;\n",
              "      padding: 0 0 0 0;\n",
              "      width: 32px;\n",
              "    }\n",
              "\n",
              "    .colab-df-convert:hover {\n",
              "      background-color: #E2EBFA;\n",
              "      box-shadow: 0px 1px 2px rgba(60, 64, 67, 0.3), 0px 1px 3px 1px rgba(60, 64, 67, 0.15);\n",
              "      fill: #174EA6;\n",
              "    }\n",
              "\n",
              "    [theme=dark] .colab-df-convert {\n",
              "      background-color: #3B4455;\n",
              "      fill: #D2E3FC;\n",
              "    }\n",
              "\n",
              "    [theme=dark] .colab-df-convert:hover {\n",
              "      background-color: #434B5C;\n",
              "      box-shadow: 0px 1px 3px 1px rgba(0, 0, 0, 0.15);\n",
              "      filter: drop-shadow(0px 1px 2px rgba(0, 0, 0, 0.3));\n",
              "      fill: #FFFFFF;\n",
              "    }\n",
              "  </style>\n",
              "\n",
              "      <script>\n",
              "        const buttonEl =\n",
              "          document.querySelector('#df-e78cd2ce-a4c9-4eed-a976-f50dd8b3de58 button.colab-df-convert');\n",
              "        buttonEl.style.display =\n",
              "          google.colab.kernel.accessAllowed ? 'block' : 'none';\n",
              "\n",
              "        async function convertToInteractive(key) {\n",
              "          const element = document.querySelector('#df-e78cd2ce-a4c9-4eed-a976-f50dd8b3de58');\n",
              "          const dataTable =\n",
              "            await google.colab.kernel.invokeFunction('convertToInteractive',\n",
              "                                                     [key], {});\n",
              "          if (!dataTable) return;\n",
              "\n",
              "          const docLinkHtml = 'Like what you see? Visit the ' +\n",
              "            '<a target=\"_blank\" href=https://colab.research.google.com/notebooks/data_table.ipynb>data table notebook</a>'\n",
              "            + ' to learn more about interactive tables.';\n",
              "          element.innerHTML = '';\n",
              "          dataTable['output_type'] = 'display_data';\n",
              "          await google.colab.output.renderOutput(dataTable, element);\n",
              "          const docLink = document.createElement('div');\n",
              "          docLink.innerHTML = docLinkHtml;\n",
              "          element.appendChild(docLink);\n",
              "        }\n",
              "      </script>\n",
              "    </div>\n",
              "  </div>\n",
              "  "
            ]
          },
          "metadata": {},
          "execution_count": 89
        }
      ],
      "source": [
        "# Dataframe \n",
        "hypothyroid_df.head()"
      ]
    },
    {
      "cell_type": "markdown",
      "metadata": {
        "id": "GjaPAfElbVZh"
      },
      "source": [
        "The data in the initial preparation steps had undergone the following cleaning steps:\n",
        "1. Duplicates removed\n",
        "2. Missing values imputed \n",
        "3. Column with numerous missing values dropped\n",
        "4. Outliers had been observed in some attributes in the dataset but were not dealt with\n",
        "5. The feature and target variables were appropiately label encoded \n",
        "\n",
        "The data before being passed through the kernel shall undergo the following preparation steps:\n",
        "1. Feature importance shall be established\n",
        "2. Principal component analysis shall be employed to select two of the most important features for predicting hypothyrodism in a patient"
      ]
    },
    {
      "cell_type": "code",
      "execution_count": null,
      "metadata": {
        "id": "ye5NqP0KbVZj"
      },
      "outputs": [],
      "source": [
        "# Target variable\n",
        "y = hypothyroid_df['status']\n",
        "# Test features\n",
        "test_features = hypothyroid_df.drop(columns = ['status']).columns.to_list()\n",
        "\n",
        "# Feature varibales\n",
        "X = hypothyroid_df[test_features]\n",
        "\n",
        "# Train(70% of data) and test samples\n",
        "X_train, X_test, y_train, y_test = train_test_split(X, y, test_size=0.3, random_state=0)"
      ]
    },
    {
      "cell_type": "markdown",
      "metadata": {
        "id": "xK1WLYCRbVZl"
      },
      "source": [
        "### Feature importances with SVC"
      ]
    },
    {
      "cell_type": "markdown",
      "metadata": {
        "id": "jqCk3OjGbVZm"
      },
      "source": [
        "Feature importances are determined by running and SVC without hyperparameters"
      ]
    },
    {
      "cell_type": "code",
      "execution_count": null,
      "metadata": {
        "colab": {
          "base_uri": "https://localhost:8080/",
          "height": 297
        },
        "id": "UwVa_kf1bVZn",
        "outputId": "b50f284d-7ce0-40d3-931c-2704441eac60"
      },
      "outputs": [
        {
          "output_type": "execute_result",
          "data": {
            "text/plain": [
              "Text(0.5, 0, 'Permutation Importance')"
            ]
          },
          "metadata": {},
          "execution_count": 91
        },
        {
          "output_type": "display_data",
          "data": {
            "text/plain": [
              "<Figure size 432x288 with 1 Axes>"
            ],
            "image/png": "[encoded data removed]"
          },
          "metadata": {
            "needs_background": "light"
          }
        }
      ],
      "source": [
        "svc =  SVC()\n",
        "svc.fit(X_train, y_train)\n",
        "\n",
        "perm_importance = permutation_importance(svc, X_test, y_test)\n",
        "\n",
        "# feature_names = ['feature ]\n",
        "features = np.array(test_features)\n",
        "\n",
        "sorted_idx = perm_importance.importances_mean.argsort()\n",
        "plt.barh(features[sorted_idx], perm_importance.importances_mean[sorted_idx])\n",
        "plt.xlabel(\"Permutation Importance\")"
      ]
    },
    {
      "cell_type": "markdown",
      "metadata": {
        "id": "l4Xc49albVZp"
      },
      "source": [
        "Important features in SVC model  are FTI, TT4, TSH, age. The components shall be reduced using Principal component analysis to get the two most imoprtant factors for the analysis"
      ]
    },
    {
      "cell_type": "code",
      "execution_count": null,
      "metadata": {
        "id": "ABw-akCvbVZq"
      },
      "outputs": [],
      "source": [
        "# Importing PCA\n",
        "from sklearn.decomposition import PCA"
      ]
    },
    {
      "cell_type": "code",
      "execution_count": null,
      "metadata": {
        "colab": {
          "base_uri": "https://localhost:8080/"
        },
        "id": "4OLE3KQubVZs",
        "outputId": "1ca7e41e-c533-41ee-f4eb-3a954bada301"
      },
      "outputs": [
        {
          "output_type": "execute_result",
          "data": {
            "text/plain": [
              "(2895, 2)"
            ]
          },
          "metadata": {},
          "execution_count": 93
        }
      ],
      "source": [
        "# Removing the target column\n",
        "hypothyroid = hypothyroid_df.drop('status', axis=1)\n",
        "y = hypothyroid_df['status']\n",
        "\n",
        "# Applying the reduction algorithm: PCA\n",
        "pca = PCA(n_components=2).fit(hypothyroid)\n",
        "X = pca.transform(hypothyroid)\n",
        "X.shape"
      ]
    },
    {
      "cell_type": "code",
      "execution_count": null,
      "metadata": {
        "id": "sSYMEkvkbVZz"
      },
      "outputs": [],
      "source": [
        "# Train(70% of data) and test samples\n",
        "X_train, X_test, y_train, y_test = train_test_split(X, y, test_size=0.3, random_state=0)"
      ]
    },
    {
      "cell_type": "markdown",
      "metadata": {
        "id": "EouhAMfTbVZ1"
      },
      "source": [
        "## SVC models employing linear, polynomial, rbf kernels"
      ]
    },
    {
      "cell_type": "markdown",
      "metadata": {
        "id": "xnMmIw3mbVZ3"
      },
      "source": [
        "Here, different models employing radical bias function(rbf), linear or polynomial models shall be constructed and their accuracies compared"
      ]
    },
    {
      "cell_type": "markdown",
      "metadata": {
        "id": "a5BG4YZxbVZ5"
      },
      "source": [
        "### Fitting the model: radical Bias Function"
      ]
    },
    {
      "cell_type": "markdown",
      "metadata": {
        "id": "dVZ4h9mbbVZ6"
      },
      "source": [
        "The model shall be  fitted using the rbf kernel with other parameters being the default parameters of the model"
      ]
    },
    {
      "cell_type": "code",
      "execution_count": null,
      "metadata": {
        "colab": {
          "base_uri": "https://localhost:8080/"
        },
        "id": "wlys0-iObVZ7",
        "outputId": "863eb655-ffd4-49cf-c257-9ca11b704abf"
      },
      "outputs": [
        {
          "output_type": "stream",
          "name": "stdout",
          "text": [
            "Model accuracy score with rbf kernel and C=100.0 : 0.9804\n"
          ]
        }
      ],
      "source": [
        "# instantiate classifier with rbf kernel and C=100\n",
        "rbfclassifier=SVC(kernel ='rbf') \n",
        "\n",
        "\n",
        "# fit classifier to training set\n",
        "rbfclassifier.fit(X_train,y_train)\n",
        "\n",
        "\n",
        "# make predictions on test set\n",
        "y_pred_rbf=rbfclassifier.predict(X_test)\n",
        "\n",
        "\n",
        "# compute and print accuracy score\n",
        "print('Model accuracy score with rbf kernel and C=100.0 : {0:0.4f}'. format(accuracy_score(y_test, y_pred_rbf)))"
      ]
    },
    {
      "cell_type": "markdown",
      "metadata": {
        "id": "d3ej_cGVbVZ_"
      },
      "source": [
        "### Fitting the model: Polymomial function"
      ]
    },
    {
      "cell_type": "markdown",
      "metadata": {
        "id": "buIK4UX_bVaB"
      },
      "source": [
        "The model shall be  fitted using the polynmomial kernel with other parameters being the default parameters of the model"
      ]
    },
    {
      "cell_type": "code",
      "execution_count": null,
      "metadata": {
        "id": "bHDUV8ribVaC",
        "colab": {
          "base_uri": "https://localhost:8080/"
        },
        "outputId": "cdaa7d2c-68c4-4e77-ad33-33f65d9e34a1"
      },
      "outputs": [
        {
          "output_type": "stream",
          "name": "stdout",
          "text": [
            "Model accuracy score with rbf kernel and C=100.0 : 0.9758\n"
          ]
        }
      ],
      "source": [
        "# Building the model \n",
        "polyclassifier = SVC(kernel='poly')\n",
        "\n",
        "# Training the model using the training set\n",
        "polyclassifier.fit(X_train, y_train)\n",
        "\n",
        "# make predictions on test set\n",
        "y_pred_poly=polyclassifier.predict(X_test)\n",
        "\n",
        "\n",
        "# compute and print accuracy score\n",
        "print('Model accuracy score with rbf kernel and C=100.0 : {0:0.4f}'. format(accuracy_score(y_test, y_pred_poly)))"
      ]
    },
    {
      "cell_type": "markdown",
      "metadata": {
        "id": "s84CjAsSbVaG"
      },
      "source": [
        "### Fitting the model: Linear function"
      ]
    },
    {
      "cell_type": "markdown",
      "metadata": {
        "id": "C-WaOKY6bVaH"
      },
      "source": [
        "The model shall be  fitted using the linear kernel with other parameters being the default parameters of the model"
      ]
    },
    {
      "cell_type": "code",
      "execution_count": null,
      "metadata": {
        "id": "Tru4dIVPbVaH",
        "colab": {
          "base_uri": "https://localhost:8080/"
        },
        "outputId": "748fa99b-b10e-4e1c-a4e9-671e77407949"
      },
      "outputs": [
        {
          "output_type": "stream",
          "name": "stdout",
          "text": [
            "Model accuracy score with rbf kernel and C=100.0 : 0.9770\n"
          ]
        }
      ],
      "source": [
        "# Building the model \n",
        "linearclassifier = SVC(kernel='linear')\n",
        "\n",
        "# Training the model using the training set\n",
        "linearclassifier.fit(X_train, y_train)\n",
        "\n",
        "# make predictions on test set\n",
        "y_pred_linear=linearclassifier.predict(X_test)\n",
        "\n",
        "\n",
        "# compute and print accuracy score\n",
        "print('Model accuracy score with rbf kernel and C=100.0 : {0:0.4f}'. format(accuracy_score(y_test, y_pred_linear)))"
      ]
    },
    {
      "cell_type": "markdown",
      "metadata": {
        "id": "9IzY38TjbVaJ"
      },
      "source": [
        "From the three kernels, Radical basis function using default parameters had a higher accuracy compared to Linear Kernel, and polymomial kernel. \n",
        "The next step shall involve hyperparameter optimizations where a grid search cross validation  step on each kernel together with its associate hyperparameters shall be performed to get which kernel and associate hyperparameters result in the highest accuracy."
      ]
    },
    {
      "cell_type": "markdown",
      "metadata": {
        "id": "lWvli-H9bVaL"
      },
      "source": [
        "## Optimization of the models"
      ]
    },
    {
      "cell_type": "markdown",
      "metadata": {
        "id": "G-JRb2Y6bVaM"
      },
      "source": [
        "The best parameters and kernels for the study to determine individuals with hypothyrodism shall be manually explored since an automated grid search is time consuming. The dataset had numerous outliers. Hence optimization of the kernels shall focus mainly on the on the penalty: a penalty in the form of C parameter, which controls the outliers. Low C implies we are allowing more outliers and high C implies less outliers. This because of  a larhe number of outliers in the dataframe"
      ]
    },
    {
      "cell_type": "markdown",
      "metadata": {
        "id": "5vZvTf0RbVaN"
      },
      "source": [
        "### Optimizing linear kernel SVC"
      ]
    },
    {
      "cell_type": "code",
      "execution_count": null,
      "metadata": {
        "id": "bn4afXCEbVaN",
        "colab": {
          "base_uri": "https://localhost:8080/"
        },
        "outputId": "9d824a2f-1214-435d-9995-296468747ba5"
      },
      "outputs": [
        {
          "output_type": "stream",
          "name": "stdout",
          "text": [
            "              precision    recall  f1-score   support\n",
            "\n",
            "           0       0.81      0.58      0.68        36\n",
            "           1       0.98      0.99      0.99       833\n",
            "\n",
            "    accuracy                           0.98       869\n",
            "   macro avg       0.89      0.79      0.83       869\n",
            "weighted avg       0.97      0.98      0.98       869\n",
            "\n"
          ]
        }
      ],
      "source": [
        "# Building the model with C = 10.0\n",
        "linearclassifier = SVC(kernel='linear', C= 1.0)\n",
        "\n",
        "# Training the model using the training set\n",
        "linearclassifier.fit(X_train, y_train)\n",
        "\n",
        "# make predictions on test set\n",
        "y_pred_linear=linearclassifier.predict(X_test)\n",
        "\n",
        "\n",
        "# Importing classification_report from sklearn metrics\n",
        "from sklearn.metrics import classification_report\n",
        "\n",
        "#Create classification report\n",
        "class_report_linear= classification_report(y_test, y_pred_linear)\n",
        "\n",
        "print(class_report_linear)\n",
        "\n"
      ]
    },
    {
      "cell_type": "code",
      "execution_count": null,
      "metadata": {
        "id": "EFniTvjbbVaQ",
        "colab": {
          "base_uri": "https://localhost:8080/"
        },
        "outputId": "42655447-3880-4819-fd7d-1ab5555e824d"
      },
      "outputs": [
        {
          "output_type": "stream",
          "name": "stdout",
          "text": [
            "              precision    recall  f1-score   support\n",
            "\n",
            "           0       0.81      0.61      0.70        36\n",
            "           1       0.98      0.99      0.99       833\n",
            "\n",
            "    accuracy                           0.98       869\n",
            "   macro avg       0.90      0.80      0.84       869\n",
            "weighted avg       0.98      0.98      0.98       869\n",
            "\n"
          ]
        }
      ],
      "source": [
        "# Building the model with C = 10.0\n",
        "linearclassifier = SVC(kernel='linear', C= 10.0)\n",
        "\n",
        "# Training the model using the training set\n",
        "linearclassifier.fit(X_train, y_train)\n",
        "\n",
        "# make predictions on test set\n",
        "y_pred_linear=linearclassifier.predict(X_test)\n",
        "\n",
        "\n",
        "# Importing classification_report from sklearn metrics\n",
        "from sklearn.metrics import classification_report\n",
        "\n",
        "#Create classification report\n",
        "class_report_linear= classification_report(y_test, y_pred_linear)\n",
        "\n",
        "print(class_report_linear)\n"
      ]
    },
    {
      "cell_type": "code",
      "execution_count": null,
      "metadata": {
        "id": "ifBfUFVpbVaS",
        "colab": {
          "base_uri": "https://localhost:8080/"
        },
        "outputId": "9f7fa5fd-8e37-4ee9-eef5-82cbb067daee"
      },
      "outputs": [
        {
          "output_type": "stream",
          "name": "stdout",
          "text": [
            "              precision    recall  f1-score   support\n",
            "\n",
            "           0       0.82      0.64      0.72        36\n",
            "           1       0.98      0.99      0.99       833\n",
            "\n",
            "    accuracy                           0.98       869\n",
            "   macro avg       0.90      0.82      0.85       869\n",
            "weighted avg       0.98      0.98      0.98       869\n",
            "\n"
          ]
        }
      ],
      "source": [
        "# Building the model  with C = 100.0\n",
        "linearclassifier = SVC(kernel='linear', C= 100.0)\n",
        "\n",
        "# Training the model using the training set\n",
        "linearclassifier.fit(X_train, y_train)\n",
        "\n",
        "# make predictions on test set\n",
        "y_pred_linear=linearclassifier.predict(X_test)\n",
        "\n",
        "\n",
        "# Importing classification_report from sklearn metrics\n",
        "from sklearn.metrics import classification_report\n",
        "\n",
        "#Create classification report\n",
        "class_report_linear= classification_report(y_test, y_pred_linear)\n",
        "\n",
        "print(class_report_linear)\n"
      ]
    },
    {
      "cell_type": "code",
      "execution_count": null,
      "metadata": {
        "id": "VpVukTEcbVaU",
        "colab": {
          "base_uri": "https://localhost:8080/"
        },
        "outputId": "f4eb593e-67aa-49fb-e483-b7ed8532879c"
      },
      "outputs": [
        {
          "output_type": "stream",
          "name": "stdout",
          "text": [
            "              precision    recall  f1-score   support\n",
            "\n",
            "           0       0.84      0.72      0.78        36\n",
            "           1       0.99      0.99      0.99       833\n",
            "\n",
            "    accuracy                           0.98       869\n",
            "   macro avg       0.91      0.86      0.88       869\n",
            "weighted avg       0.98      0.98      0.98       869\n",
            "\n"
          ]
        }
      ],
      "source": [
        "# Building the model \n",
        "linearclassifier = SVC(kernel='linear', C= 1000.0)\n",
        "\n",
        "# Training the model using the training set\n",
        "linearclassifier.fit(X_train, y_train)\n",
        "\n",
        "# make predictions on test set\n",
        "y_pred_linear=linearclassifier.predict(X_test)\n",
        "\n",
        "\n",
        "# Importing classification_report from sklearn metrics\n",
        "from sklearn.metrics import classification_report\n",
        "\n",
        "#Create classification report\n",
        "class_report_linear= classification_report(y_test, y_pred_linear)\n",
        "\n",
        "print(class_report_linear)\n"
      ]
    },
    {
      "cell_type": "markdown",
      "metadata": {
        "id": "3gwfYr0sbVaW"
      },
      "source": [
        "### Optimization of polymomial kernel svc"
      ]
    },
    {
      "cell_type": "code",
      "execution_count": null,
      "metadata": {
        "id": "0s6y9ePjbVaX",
        "colab": {
          "base_uri": "https://localhost:8080/"
        },
        "outputId": "016b177c-9e58-4ae8-cae7-5807f189af90"
      },
      "outputs": [
        {
          "output_type": "stream",
          "name": "stdout",
          "text": [
            "              precision    recall  f1-score   support\n",
            "\n",
            "           0       0.83      0.53      0.64        36\n",
            "           1       0.98      1.00      0.99       833\n",
            "\n",
            "    accuracy                           0.98       869\n",
            "   macro avg       0.90      0.76      0.82       869\n",
            "weighted avg       0.97      0.98      0.97       869\n",
            "\n"
          ]
        }
      ],
      "source": [
        "# Penalty(C) values\n",
        "\n",
        "C = [1.0, 10.0, 100.0, 1000.0]\n",
        "\n",
        "# Building the model with C = 1.0\n",
        "polyclassifier = SVC(kernel='poly', degree = 3, C= 1.0)\n",
        "\n",
        "# Training the model using the training set\n",
        "polyclassifier.fit(X_train, y_train)\n",
        "\n",
        "# make predictions on test set\n",
        "y_pred_poly=polyclassifier.predict(X_test)\n",
        "\n",
        "\n",
        "# Importing classification_report from sklearn metrics\n",
        "from sklearn.metrics import classification_report\n",
        "\n",
        "#Create classification report\n",
        "class_report_poly= classification_report(y_test, y_pred_poly)\n",
        "\n",
        "print(class_report_poly)\n"
      ]
    },
    {
      "cell_type": "code",
      "execution_count": null,
      "metadata": {
        "id": "9taSezrebVaZ",
        "colab": {
          "base_uri": "https://localhost:8080/"
        },
        "outputId": "4bd79c76-ee2a-42aa-bdb6-261794172200"
      },
      "outputs": [
        {
          "output_type": "stream",
          "name": "stdout",
          "text": [
            "              precision    recall  f1-score   support\n",
            "\n",
            "           0       0.83      0.53      0.64        36\n",
            "           1       0.98      1.00      0.99       833\n",
            "\n",
            "    accuracy                           0.98       869\n",
            "   macro avg       0.90      0.76      0.82       869\n",
            "weighted avg       0.97      0.98      0.97       869\n",
            "\n"
          ]
        }
      ],
      "source": [
        "\n",
        "# Building the model with C = 10.0\n",
        "polyclassifier = SVC(kernel='poly', degree = 3, C= 10.0)\n",
        "\n",
        "# Training the model using the training set\n",
        "polyclassifier.fit(X_train, y_train)\n",
        "\n",
        "# make predictions on test set\n",
        "y_pred_poly=polyclassifier.predict(X_test)\n",
        "\n",
        "\n",
        "# Importing classification_report from sklearn metrics\n",
        "from sklearn.metrics import classification_report\n",
        "\n",
        "#Create classification report\n",
        "class_report_poly= classification_report(y_test, y_pred_poly)\n",
        "\n",
        "print(class_report_poly)\n"
      ]
    },
    {
      "cell_type": "code",
      "execution_count": null,
      "metadata": {
        "id": "D2w_pji8bVab",
        "colab": {
          "base_uri": "https://localhost:8080/"
        },
        "outputId": "32f6fd0a-3c10-42ea-c3da-9d5fef5093b8"
      },
      "outputs": [
        {
          "output_type": "stream",
          "name": "stdout",
          "text": [
            "              precision    recall  f1-score   support\n",
            "\n",
            "           0       0.83      0.53      0.64        36\n",
            "           1       0.98      1.00      0.99       833\n",
            "\n",
            "    accuracy                           0.98       869\n",
            "   macro avg       0.90      0.76      0.82       869\n",
            "weighted avg       0.97      0.98      0.97       869\n",
            "\n"
          ]
        }
      ],
      "source": [
        "\n",
        "# Building the model with C = 100.0\n",
        "polyclassifier = SVC(kernel='poly', degree = 3, C= 100.0)\n",
        "\n",
        "# Training the model using the training set\n",
        "polyclassifier.fit(X_train, y_train)\n",
        "\n",
        "# make predictions on test set\n",
        "y_pred_poly=polyclassifier.predict(X_test)\n",
        "\n",
        "\n",
        "# Importing classification_report from sklearn metrics\n",
        "from sklearn.metrics import classification_report\n",
        "\n",
        "#Create classification report\n",
        "class_report_poly= classification_report(y_test, y_pred_poly)\n",
        "\n",
        "print(class_report_poly)\n"
      ]
    },
    {
      "cell_type": "code",
      "execution_count": null,
      "metadata": {
        "id": "kbdtaYisbVad",
        "colab": {
          "base_uri": "https://localhost:8080/"
        },
        "outputId": "e739b6c0-cd89-439c-a238-b44c307e27dc"
      },
      "outputs": [
        {
          "output_type": "stream",
          "name": "stdout",
          "text": [
            "              precision    recall  f1-score   support\n",
            "\n",
            "           0       0.83      0.53      0.64        36\n",
            "           1       0.98      1.00      0.99       833\n",
            "\n",
            "    accuracy                           0.98       869\n",
            "   macro avg       0.90      0.76      0.82       869\n",
            "weighted avg       0.97      0.98      0.97       869\n",
            "\n"
          ]
        }
      ],
      "source": [
        "\n",
        "# Building the model with C = 1000.0\n",
        "polyclassifier = SVC(kernel='poly', degree = 3, C= 1000.0)\n",
        "\n",
        "# Training the model using the training set\n",
        "polyclassifier.fit(X_train, y_train)\n",
        "\n",
        "# make predictions on test set\n",
        "y_pred_poly=polyclassifier.predict(X_test)\n",
        "\n",
        "\n",
        "# Importing classification_report from sklearn metrics\n",
        "from sklearn.metrics import classification_report\n",
        "\n",
        "#Create classification report\n",
        "class_report_poly= classification_report(y_test, y_pred_poly)\n",
        "\n",
        "print(class_report_poly)\n"
      ]
    },
    {
      "cell_type": "markdown",
      "metadata": {
        "id": "XRSNwR3cbVaj"
      },
      "source": [
        "### Radical basis function"
      ]
    },
    {
      "cell_type": "code",
      "execution_count": null,
      "metadata": {
        "id": "h8BHTW8_bVak",
        "colab": {
          "base_uri": "https://localhost:8080/"
        },
        "outputId": "652fca7f-72eb-4fbe-db49-1a56f0bf1f8e"
      },
      "outputs": [
        {
          "output_type": "stream",
          "name": "stdout",
          "text": [
            "              precision    recall  f1-score   support\n",
            "\n",
            "           0       0.85      0.64      0.73        36\n",
            "           1       0.98      1.00      0.99       833\n",
            "\n",
            "    accuracy                           0.98       869\n",
            "   macro avg       0.92      0.82      0.86       869\n",
            "weighted avg       0.98      0.98      0.98       869\n",
            "\n"
          ]
        }
      ],
      "source": [
        "# instantiate classifier with rbf kernel and C=1.0\n",
        "rbfclassifier=SVC(kernel ='rbf', C = 1.0) \n",
        "\n",
        "\n",
        "# fit classifier to training set\n",
        "rbfclassifier.fit(X_train,y_train)\n",
        "\n",
        "\n",
        "# make predictions on test set\n",
        "y_pred_rbf=rbfclassifier.predict(X_test)\n",
        "\n",
        "\n",
        "# Importing classification_report from sklearn metrics\n",
        "from sklearn.metrics import classification_report\n",
        "\n",
        "#Create classification report\n",
        "class_report_rbf= classification_report(y_test, y_pred_rbf)\n",
        "\n",
        "print(class_report_rbf)\n"
      ]
    },
    {
      "cell_type": "code",
      "execution_count": null,
      "metadata": {
        "id": "sAdMM40ZbVan",
        "colab": {
          "base_uri": "https://localhost:8080/"
        },
        "outputId": "8b43f907-4f0f-4be3-b4ee-27ba5ced32ce"
      },
      "outputs": [
        {
          "output_type": "stream",
          "name": "stdout",
          "text": [
            "              precision    recall  f1-score   support\n",
            "\n",
            "           0       0.86      0.67      0.75        36\n",
            "           1       0.99      1.00      0.99       833\n",
            "\n",
            "    accuracy                           0.98       869\n",
            "   macro avg       0.92      0.83      0.87       869\n",
            "weighted avg       0.98      0.98      0.98       869\n",
            "\n"
          ]
        }
      ],
      "source": [
        "# instantiate classifier with rbf kernel and C=10.0\n",
        "rbfclassifier=SVC(kernel ='rbf', C = 10.0) \n",
        "\n",
        "\n",
        "# fit classifier to training set\n",
        "rbfclassifier.fit(X_train,y_train)\n",
        "\n",
        "\n",
        "# make predictions on test set\n",
        "y_pred_rbf=rbfclassifier.predict(X_test)\n",
        "\n",
        "\n",
        "# Importing classification_report from sklearn metrics\n",
        "from sklearn.metrics import classification_report\n",
        "\n",
        "#Create classification report\n",
        "class_report_rbf= classification_report(y_test, y_pred_rbf)\n",
        "\n",
        "print(class_report_rbf)\n"
      ]
    },
    {
      "cell_type": "code",
      "execution_count": null,
      "metadata": {
        "id": "lhMZVyNtbVaq",
        "colab": {
          "base_uri": "https://localhost:8080/"
        },
        "outputId": "433a1b04-c624-4094-9569-d7cc16dac67d"
      },
      "outputs": [
        {
          "output_type": "stream",
          "name": "stdout",
          "text": [
            "              precision    recall  f1-score   support\n",
            "\n",
            "           0       0.86      0.69      0.77        36\n",
            "           1       0.99      1.00      0.99       833\n",
            "\n",
            "    accuracy                           0.98       869\n",
            "   macro avg       0.92      0.84      0.88       869\n",
            "weighted avg       0.98      0.98      0.98       869\n",
            "\n"
          ]
        }
      ],
      "source": [
        "# instantiate classifier with rbf kernel and C=100.0\n",
        "rbfclassifier=SVC(kernel ='rbf', C = 100.0) \n",
        "\n",
        "\n",
        "# fit classifier to training set\n",
        "rbfclassifier.fit(X_train,y_train)\n",
        "\n",
        "\n",
        "# make predictions on test set\n",
        "y_pred_rbf=rbfclassifier.predict(X_test)\n",
        "\n",
        "\n",
        "# Importing classification_report from sklearn metrics\n",
        "from sklearn.metrics import classification_report\n",
        "\n",
        "#Create classification report\n",
        "class_report_rbf= classification_report(y_test, y_pred_rbf)\n",
        "\n",
        "print(class_report_rbf)\n"
      ]
    },
    {
      "cell_type": "code",
      "execution_count": null,
      "metadata": {
        "id": "Q_CIJjHDbVas",
        "colab": {
          "base_uri": "https://localhost:8080/"
        },
        "outputId": "9f10e7ee-e27c-4e99-ae37-994411f9083f"
      },
      "outputs": [
        {
          "output_type": "stream",
          "name": "stdout",
          "text": [
            "              precision    recall  f1-score   support\n",
            "\n",
            "           0       0.80      0.67      0.73        36\n",
            "           1       0.99      0.99      0.99       833\n",
            "\n",
            "    accuracy                           0.98       869\n",
            "   macro avg       0.89      0.83      0.86       869\n",
            "weighted avg       0.98      0.98      0.98       869\n",
            "\n"
          ]
        }
      ],
      "source": [
        "# instantiate classifier with rbf kernel and C=1000.0\n",
        "rbfclassifier=SVC(kernel ='rbf', C = 1000.0) \n",
        "\n",
        "\n",
        "# fit classifier to training set\n",
        "rbfclassifier.fit(X_train,y_train)\n",
        "\n",
        "\n",
        "# make predictions on test set\n",
        "y_pred_rbf=rbfclassifier.predict(X_test)\n",
        "\n",
        "\n",
        "# Importing classification_report from sklearn metrics\n",
        "from sklearn.metrics import classification_report\n",
        "\n",
        "#Create classification report\n",
        "class_report_rbf= classification_report(y_test, y_pred_rbf)\n",
        "\n",
        "print(class_report_rbf)\n"
      ]
    },
    {
      "cell_type": "markdown",
      "metadata": {
        "id": "AXjEyQ6DbVat"
      },
      "source": [
        "## Analysis of best SVC Kernel with best params"
      ]
    },
    {
      "cell_type": "markdown",
      "metadata": {
        "id": "WO0ka4RibVau"
      },
      "source": [
        "The linear kernel with a penalty C of 1000 was the best performing model after hyper parameter optimization. \n",
        "Other models showed relatively high precision but had really poor recalls and F1_scores for predicting patients with hypothyrodism.\n",
        "The penalty C was quite high due to the high level of outliers in the data"
      ]
    },
    {
      "cell_type": "code",
      "execution_count": null,
      "metadata": {
        "id": "hJWYmmudbVav",
        "colab": {
          "base_uri": "https://localhost:8080/"
        },
        "outputId": "8da1aad8-b791-4e65-c83f-edda683f5050"
      },
      "outputs": [
        {
          "output_type": "stream",
          "name": "stdout",
          "text": [
            "Model accuracy score with linear kernel and C=100.0 : 0.9827\n"
          ]
        }
      ],
      "source": [
        "# instantiate classifier with linear kernel and C=1000\n",
        "linearclassifier=SVC(kernel ='linear', C = 1000) \n",
        "\n",
        "\n",
        "# fit classifier to training set\n",
        "linearclassifier.fit(X_train,y_train)\n",
        "\n",
        "\n",
        "# make predictions on test set\n",
        "y_pred_linear=linearclassifier.predict(X_test)\n",
        "\n",
        "\n",
        "# compute and print accuracy score\n",
        "print('Model accuracy score with linear kernel and C=100.0 : {0:0.4f}'. format(accuracy_score(y_test, y_pred_linear)))"
      ]
    },
    {
      "cell_type": "code",
      "execution_count": null,
      "metadata": {
        "id": "qWaUo1VfbVaz",
        "colab": {
          "base_uri": "https://localhost:8080/"
        },
        "outputId": "213e63fd-e81b-40dc-bff5-02bb31be60d4"
      },
      "outputs": [
        {
          "output_type": "execute_result",
          "data": {
            "text/plain": [
              "array([[ 26,  10],\n",
              "       [  5, 828]])"
            ]
          },
          "metadata": {},
          "execution_count": 111
        }
      ],
      "source": [
        "# Importing confusion_matrix from sklearn metrics\n",
        "from sklearn.metrics import confusion_matrix\n",
        "\n",
        "# Creating  a confusion matrix,which compares the y_test and y_pred\n",
        "cm = confusion_matrix(y_test, y_pred_linear)\n",
        "\n",
        "# Condfusion matrix\n",
        "cm"
      ]
    },
    {
      "cell_type": "markdown",
      "metadata": {
        "id": "Qx-xTmYObVa1"
      },
      "source": [
        "From the confusion matrix the model was able to predict individuals with and without hypothyroidism as shown:\n",
        "\n",
        "1. True positive = 26 test individuals correctly predicted as having hypothroidism\n",
        "2. True negative = 827 test individuals correctly predicted as not having hypothroidism\n",
        "3. False positive = 10 test individuals wrongly predicted as having hypothroidism\n",
        "4. False negative = 6 test individuals wrongly predicted as not having hypothroidism"
      ]
    },
    {
      "cell_type": "code",
      "execution_count": null,
      "metadata": {
        "id": "egm51GyCbVa3",
        "colab": {
          "base_uri": "https://localhost:8080/"
        },
        "outputId": "c2e6780c-4d06-4ab4-e78a-6d7829b8fc1b"
      },
      "outputs": [
        {
          "output_type": "stream",
          "name": "stdout",
          "text": [
            "              precision    recall  f1-score   support\n",
            "\n",
            "           0       0.84      0.72      0.78        36\n",
            "           1       0.99      0.99      0.99       833\n",
            "\n",
            "    accuracy                           0.98       869\n",
            "   macro avg       0.91      0.86      0.88       869\n",
            "weighted avg       0.98      0.98      0.98       869\n",
            "\n"
          ]
        }
      ],
      "source": [
        "# Importing classification_report from sklearn metrics\n",
        "from sklearn.metrics import classification_report\n",
        "\n",
        "#Create classification report\n",
        "class_report_abc= classification_report(y_test, y_pred_linear)\n",
        "\n",
        "print(class_report_linear)"
      ]
    },
    {
      "cell_type": "markdown",
      "metadata": {
        "id": "b0v6Jsb3bVa4"
      },
      "source": [
        "### Analysis of best SVC Kernel with best params with all features"
      ]
    },
    {
      "cell_type": "code",
      "execution_count": null,
      "metadata": {
        "id": "tXcy8ygMbVa5"
      },
      "outputs": [],
      "source": [
        "# Target variable\n",
        "y = hypothyroid_df['status']\n",
        "\n",
        "# Test features\n",
        "test_features = hypothyroid_df.drop(columns = ['status']).columns.to_list()\n",
        "\n",
        "# Feature varibales\n",
        "X = hypothyroid_df[test_features]\n",
        "\n",
        "# Train(70% of data) and test samples\n",
        "X_train, X_test, y_train, y_test = train_test_split(X, y, test_size=0.3, random_state=0)"
      ]
    },
    {
      "cell_type": "code",
      "execution_count": null,
      "metadata": {
        "id": "Yeoij3nYbVa6",
        "colab": {
          "base_uri": "https://localhost:8080/"
        },
        "outputId": "891e8073-203d-4cf1-8f90-087dacfd1129"
      },
      "outputs": [
        {
          "output_type": "stream",
          "name": "stdout",
          "text": [
            "Model accuracy score with linear kernel and C=100.0 : 0.9816\n"
          ]
        }
      ],
      "source": [
        "# instantiate classifier with linear kernel and C=1000\n",
        "linearclassifier=SVC(kernel ='linear', C = 1000) \n",
        "\n",
        "\n",
        "# fit classifier to training set\n",
        "linearclassifier.fit(X_train,y_train)\n",
        "\n",
        "\n",
        "# make predictions on test set\n",
        "y_pred_linear=linearclassifier.predict(X_test)\n",
        "\n",
        "\n",
        "# compute and print accuracy score\n",
        "print('Model accuracy score with linear kernel and C=100.0 : {0:0.4f}'. format(accuracy_score(y_test, y_pred_linear)))"
      ]
    },
    {
      "cell_type": "code",
      "execution_count": null,
      "metadata": {
        "id": "NVKMxWbfbVa8",
        "colab": {
          "base_uri": "https://localhost:8080/"
        },
        "outputId": "2b6b8b40-be17-4d15-ad54-20f6758db55b"
      },
      "outputs": [
        {
          "output_type": "execute_result",
          "data": {
            "text/plain": [
              "array([[ 25,  11],\n",
              "       [  5, 828]])"
            ]
          },
          "metadata": {},
          "execution_count": 115
        }
      ],
      "source": [
        "# Importing confusion_matrix from sklearn metrics\n",
        "from sklearn.metrics import confusion_matrix\n",
        "\n",
        "# Creating  a confusion matrix,which compares the y_test and y_pred\n",
        "cm = confusion_matrix(y_test, y_pred_linear)\n",
        "\n",
        "# Condfusion matrix\n",
        "cm"
      ]
    },
    {
      "cell_type": "markdown",
      "metadata": {
        "id": "gulY0xltbVa9"
      },
      "source": [
        "From the confusion matrix the model was able to predict individuals with and without hypothyroidism as shown:\n",
        "\n",
        "1. True positive = 26 test individuals correctly predicted as having hypothroidism\n",
        "2. True negative = 826 test individuals correctly predicted as not having hypothroidism\n",
        "3. False positive = 4 test individuals wrongly predicted as having hypothroidism\n",
        "4. False negative = 10 test individuals wrongly predicted as not having hypothroidism"
      ]
    },
    {
      "cell_type": "code",
      "execution_count": null,
      "metadata": {
        "id": "ZAjjghClbVa-",
        "colab": {
          "base_uri": "https://localhost:8080/"
        },
        "outputId": "4c162686-081d-48b5-8032-a17335431111"
      },
      "outputs": [
        {
          "output_type": "stream",
          "name": "stdout",
          "text": [
            "              precision    recall  f1-score   support\n",
            "\n",
            "           0       0.84      0.72      0.78        36\n",
            "           1       0.99      0.99      0.99       833\n",
            "\n",
            "    accuracy                           0.98       869\n",
            "   macro avg       0.91      0.86      0.88       869\n",
            "weighted avg       0.98      0.98      0.98       869\n",
            "\n"
          ]
        }
      ],
      "source": [
        "# Importing classification_report from sklearn metrics\n",
        "from sklearn.metrics import classification_report\n",
        "\n",
        "#Create classification report\n",
        "class_report_abc= classification_report(y_test, y_pred_linear)\n",
        "\n",
        "print(class_report_linear)"
      ]
    },
    {
      "cell_type": "markdown",
      "metadata": {
        "id": "wviKpRBtbVa_"
      },
      "source": [
        "Using all features in dataset, the metrics of the model only dropped slightly compared to when the model was created\n",
        "using the 2 most important features only\n",
        "\n",
        "This implied only close to two features are needed to diagnose whether a patient has hypothyrodism or not. This will save highly on costs."
      ]
    },
    {
      "cell_type": "markdown",
      "metadata": {
        "id": "NzBXDx2kbVbB"
      },
      "source": [
        "## Conclusions"
      ]
    },
    {
      "cell_type": "markdown",
      "metadata": {
        "id": "ichJWD5VbVbC"
      },
      "source": [
        "In conclusion:\n",
        "\n",
        "- The best decision tree model to determine which aspects are most useful in predicting whether on has or does not have hypothyrodism \n",
        "is the gradient boosting classifier. It had a a high precsion, f1_score, and Recall. It also peformed well on all metrics unlike \n",
        "the other classifiers that either scored highly in precision but ended up having poor recalls and F1_scores\n",
        "\n",
        "- The best kernel in SVC was found to be the linear kernel with the Penalty C=1000. The high penalty was due to the prevelance of \n",
        "outliers in the dataset\n",
        "\n",
        "- Gradient boosting classifier however ended up ouperforming the best Kernel in SVC (linear kernel)\n",
        "\n",
        "- The models achieved comparable accuracies when using two compared to when using all features in creating the model. \n",
        "This will save the hospital in time and resources and can be able to fairly predict which patient with a high \n",
        "precision whether he or she has hypothyrodism"
      ]
    },
    {
      "cell_type": "markdown",
      "metadata": {
        "id": "_SZKPYvebVbE"
      },
      "source": [
        "## Other questions"
      ]
    },
    {
      "cell_type": "markdown",
      "metadata": {
        "id": "uTK_4zXVbVbF"
      },
      "source": [
        "1. Did we have the right question?"
      ]
    },
    {
      "cell_type": "markdown",
      "metadata": {
        "id": "o57BasMxbVbF"
      },
      "source": [
        "2. Is the data provided sufficient?"
      ]
    }
  ],
  "metadata": {
    "colab": {
      "collapsed_sections": [
        "PDwqikx5PJwr",
        "PK8VwcQxPT1b",
        "fsnvlE-dPweb",
        "baVpddR1hVW3",
        "ypbck3qNz1Rn",
        "a4yEU1ua0Lcw",
        "0t7MPTbn62CR",
        "06EQfBFxi2ap",
        "edpB1xbJh-eP",
        "VkaZ67RSbVZb",
        "EouhAMfTbVZ1",
        "5vZvTf0RbVaN",
        "3gwfYr0sbVaW",
        "XRSNwR3cbVaj"
      ],
      "name": "Moringa_Data_Science_Core_W8_Independent_Project_2022_04_Kiprop_Amos_Supervised_learning_Classification_techniques",
      "toc_visible": true,
      "provenance": []
    },
    "kernelspec": {
      "display_name": "Python 3",
      "name": "python3"
    },
    "language_info": {
      "codemirror_mode": {
        "name": "ipython",
        "version": 3
      },
      "file_extension": ".py",
      "mimetype": "text/x-python",
      "name": "python",
      "nbconvert_exporter": "python",
      "pygments_lexer": "ipython3",
      "version": "3.10.2"
    }
  },
  "nbformat": 4,
  "nbformat_minor": 0
}